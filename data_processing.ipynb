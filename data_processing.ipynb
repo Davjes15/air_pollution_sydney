{
 "metadata": {
  "language_info": {
   "codemirror_mode": {
    "name": "ipython",
    "version": 3
   },
   "file_extension": ".py",
   "mimetype": "text/x-python",
   "name": "python",
   "nbconvert_exporter": "python",
   "pygments_lexer": "ipython3",
   "version": "3.7.5"
  },
  "orig_nbformat": 4,
  "kernelspec": {
   "name": "python3",
   "display_name": "Python 3.7.5 64-bit"
  },
  "interpreter": {
   "hash": "90c1d9e294a1bc1b5070fdc4145e6b29b525528d72433500027fe645953bb2f2"
  }
 },
 "nbformat": 4,
 "nbformat_minor": 2,
 "cells": [
  {
   "cell_type": "code",
   "execution_count": 1,
   "metadata": {},
   "outputs": [],
   "source": [
    "import pandas as pd\n",
    "import requests\n",
    "import json\n",
    "import csv\n",
    "import glob\n",
    "import zipfile\n"
   ]
  },
  {
   "cell_type": "code",
   "execution_count": 2,
   "metadata": {},
   "outputs": [],
   "source": [
    "sensor_id = pd.read_csv(\"gsr_communitysites_districts.csv\")"
   ]
  },
  {
   "cell_type": "code",
   "execution_count": 3,
   "metadata": {},
   "outputs": [
    {
     "output_type": "execute_result",
     "data": {
      "text/plain": [
       "   OBJECTID   Latitude   Longitude  Number    District  Sensor_ID Date_insta\n",
       "0         1 -33.909915  151.156660       3  Inner West   11454704   08-13-18\n",
       "1         2 -33.862485  151.165923       4  Inner West   11452996        NaN\n",
       "2         3 -33.874345  151.164693       7  Inner West    7725378   09-04-18\n",
       "3         4 -33.881957  151.178074       8      Sydney   13947625   09-03-18\n",
       "4         5 -33.882251  151.134380       9  Inner West   13947371   08-27-18"
      ],
      "text/html": "<div>\n<style scoped>\n    .dataframe tbody tr th:only-of-type {\n        vertical-align: middle;\n    }\n\n    .dataframe tbody tr th {\n        vertical-align: top;\n    }\n\n    .dataframe thead th {\n        text-align: right;\n    }\n</style>\n<table border=\"1\" class=\"dataframe\">\n  <thead>\n    <tr style=\"text-align: right;\">\n      <th></th>\n      <th>OBJECTID</th>\n      <th>Latitude</th>\n      <th>Longitude</th>\n      <th>Number</th>\n      <th>District</th>\n      <th>Sensor_ID</th>\n      <th>Date_insta</th>\n    </tr>\n  </thead>\n  <tbody>\n    <tr>\n      <th>0</th>\n      <td>1</td>\n      <td>-33.909915</td>\n      <td>151.156660</td>\n      <td>3</td>\n      <td>Inner West</td>\n      <td>11454704</td>\n      <td>08-13-18</td>\n    </tr>\n    <tr>\n      <th>1</th>\n      <td>2</td>\n      <td>-33.862485</td>\n      <td>151.165923</td>\n      <td>4</td>\n      <td>Inner West</td>\n      <td>11452996</td>\n      <td>NaN</td>\n    </tr>\n    <tr>\n      <th>2</th>\n      <td>3</td>\n      <td>-33.874345</td>\n      <td>151.164693</td>\n      <td>7</td>\n      <td>Inner West</td>\n      <td>7725378</td>\n      <td>09-04-18</td>\n    </tr>\n    <tr>\n      <th>3</th>\n      <td>4</td>\n      <td>-33.881957</td>\n      <td>151.178074</td>\n      <td>8</td>\n      <td>Sydney</td>\n      <td>13947625</td>\n      <td>09-03-18</td>\n    </tr>\n    <tr>\n      <th>4</th>\n      <td>5</td>\n      <td>-33.882251</td>\n      <td>151.134380</td>\n      <td>9</td>\n      <td>Inner West</td>\n      <td>13947371</td>\n      <td>08-27-18</td>\n    </tr>\n  </tbody>\n</table>\n</div>"
     },
     "metadata": {},
     "execution_count": 3
    }
   ],
   "source": [
    "sensor_id.head()"
   ]
  },
  {
   "cell_type": "code",
   "execution_count": 4,
   "metadata": {
    "tags": []
   },
   "outputs": [],
   "source": [
    "name_list = []\n",
    "df_list = []\n",
    "for zip_file in glob.glob('c:\\\\Users\\\\davje\\\\Documents\\\\GitRepository\\\\air_pollution_sydney\\\\data_sensors\\\\*.zip'):\n",
    "    sensor = zip_file[86:-12]\n",
    "    day = zip_file[-6:-4]\n",
    "    name_df = \"df_\" + sensor +\"_\" + day\n",
    "    name_list.append(name_df)\n",
    "    zf = zipfile.ZipFile(zip_file)\n",
    "    dfs = [pd.read_csv(zf.open(f), sep=\";\") for f in zf.namelist()]\n",
    "    vars()[name_df] = pd.concat(dfs,ignore_index=True)\n",
    "    df_list.append(vars()[name_df])\n",
    "    \n",
    "\n"
   ]
  },
  {
   "cell_type": "code",
   "execution_count": 5,
   "metadata": {},
   "outputs": [
    {
     "output_type": "execute_result",
     "data": {
      "text/plain": [
       "68"
      ]
     },
     "metadata": {},
     "execution_count": 5
    }
   ],
   "source": [
    "len(name_list)"
   ]
  },
  {
   "cell_type": "code",
   "execution_count": 6,
   "metadata": {},
   "outputs": [
    {
     "output_type": "stream",
     "name": "stdout",
     "text": [
      "['df_11454704_11', 'df_11454704_12', 'df_11455147_11', 'df_11455147_12', 'df_11455422_11', 'df_11455422_12', 'df_11455653_11', 'df_11455653_12', 'df_11493238_11', 'df_11493238_12', 'df_11493242_11', 'df_11493242_12', 'df_13946456_11', 'df_13946456_12', 'df_13946696_11', 'df_13946696_12', 'df_13947161_11', 'df_13947161_12', 'df_13947371_11', 'df_13947371_12', 'df_7269617_11', 'df_7269617_12', 'df_7269692_11', 'df_7269692_12', 'df_7270189_11', 'df_7270189_12', 'df_7270532_11', 'df_7270532_12', 'df_7270738_11', 'df_7270738_12', 'df_7270761_11', 'df_7270761_12', 'df_7271301_11', 'df_7271301_12', 'df_7271608_11', 'df_7271608_12', 'df_7271977_11', 'df_7271977_12', 'df_7273242_11', 'df_7273242_12', 'df_7274190_11', 'df_7274190_12', 'df_7274323_11', 'df_7274323_12', 'df_7274948_11', 'df_7274948_12', 'df_7274964_11', 'df_7274964_12', 'df_7275379_11', 'df_7275379_12', 'df_7275671-201_1)', 'df_7275671_12', 'df_751724_11', 'df_751724_12', 'df_7723233_11', 'df_7723233_12', 'df_7724591_11', 'df_7724591_12', 'df_7725303_11', 'df_7725303_12', 'df_7725358_11', 'df_7725358_12', 'df_7725477_11', 'df_7725477_12', 'df_7725836_11', 'df_7725836_12', 'df_7725900_11', 'df_7725900_12']\n"
     ]
    }
   ],
   "source": [
    "print(name_list)"
   ]
  },
  {
   "cell_type": "code",
   "execution_count": 7,
   "metadata": {},
   "outputs": [
    {
     "output_type": "execute_result",
     "data": {
      "text/plain": [
       "                     Time  durP1  ratioP1  P1  durP2  ratioP2  P2  SDS_P1  \\\n",
       "0     2019/11/01 00:00:02    NaN      NaN NaN    NaN      NaN NaN   62.95   \n",
       "1     2019/11/01 00:02:32    NaN      NaN NaN    NaN      NaN NaN   65.52   \n",
       "2     2019/11/01 00:05:02    NaN      NaN NaN    NaN      NaN NaN   64.32   \n",
       "3     2019/11/01 00:07:32    NaN      NaN NaN    NaN      NaN NaN   61.75   \n",
       "4     2019/11/01 00:10:02    NaN      NaN NaN    NaN      NaN NaN   64.45   \n",
       "...                   ...    ...      ...  ..    ...      ...  ..     ...   \n",
       "6548  2019/11/12 11:16:53    NaN      NaN NaN    NaN      NaN NaN   46.78   \n",
       "6549  2019/11/12 11:19:28    NaN      NaN NaN    NaN      NaN NaN   39.35   \n",
       "6550  2019/11/12 11:22:00    NaN      NaN NaN    NaN      NaN NaN   32.92   \n",
       "6551  2019/11/12 11:24:34    NaN      NaN NaN    NaN      NaN NaN   36.75   \n",
       "6552  2019/11/12 11:27:18    NaN      NaN NaN    NaN      NaN NaN   39.08   \n",
       "\n",
       "      SDS_P2  PMS_P1  ...  BMP_pressure  BME280_temperature  BME280_humidity  \\\n",
       "0      48.90     NaN  ...           NaN                 NaN              NaN   \n",
       "1      49.60     NaN  ...           NaN                 NaN              NaN   \n",
       "2      48.73     NaN  ...           NaN                 NaN              NaN   \n",
       "3      49.63     NaN  ...           NaN                 NaN              NaN   \n",
       "4      48.63     NaN  ...           NaN                 NaN              NaN   \n",
       "...      ...     ...  ...           ...                 ...              ...   \n",
       "6548    6.80     NaN  ...           NaN                 NaN              NaN   \n",
       "6549    6.45     NaN  ...           NaN                 NaN              NaN   \n",
       "6550    6.30     NaN  ...           NaN                 NaN              NaN   \n",
       "6551    5.82     NaN  ...           NaN                 NaN              NaN   \n",
       "6552    6.10     NaN  ...           NaN                 NaN              NaN   \n",
       "\n",
       "      BME280_pressure  Samples  Min_cycle  Max_cycle  Signal  HPM_P1  HPM_P2  \n",
       "0                 NaN  1859734         77      26297     -65     NaN     NaN  \n",
       "1                 NaN  1859691         77      26668     -64     NaN     NaN  \n",
       "2                 NaN  1859578         77      26676     -64     NaN     NaN  \n",
       "3                 NaN  1859669         77      26627     -63     NaN     NaN  \n",
       "4                 NaN  1859490         77      26691     -65     NaN     NaN  \n",
       "...               ...      ...        ...        ...     ...     ...     ...  \n",
       "6548              NaN  2544109         54      26695     -66     NaN     NaN  \n",
       "6549              NaN  2543994         54      26258     -70     NaN     NaN  \n",
       "6550              NaN  2544040         54      26202     -69     NaN     NaN  \n",
       "6551              NaN  2544082         54      26638     -67     NaN     NaN  \n",
       "6552              NaN  2544029         54      26654     -70     NaN     NaN  \n",
       "\n",
       "[6553 rows x 24 columns]"
      ],
      "text/html": "<div>\n<style scoped>\n    .dataframe tbody tr th:only-of-type {\n        vertical-align: middle;\n    }\n\n    .dataframe tbody tr th {\n        vertical-align: top;\n    }\n\n    .dataframe thead th {\n        text-align: right;\n    }\n</style>\n<table border=\"1\" class=\"dataframe\">\n  <thead>\n    <tr style=\"text-align: right;\">\n      <th></th>\n      <th>Time</th>\n      <th>durP1</th>\n      <th>ratioP1</th>\n      <th>P1</th>\n      <th>durP2</th>\n      <th>ratioP2</th>\n      <th>P2</th>\n      <th>SDS_P1</th>\n      <th>SDS_P2</th>\n      <th>PMS_P1</th>\n      <th>...</th>\n      <th>BMP_pressure</th>\n      <th>BME280_temperature</th>\n      <th>BME280_humidity</th>\n      <th>BME280_pressure</th>\n      <th>Samples</th>\n      <th>Min_cycle</th>\n      <th>Max_cycle</th>\n      <th>Signal</th>\n      <th>HPM_P1</th>\n      <th>HPM_P2</th>\n    </tr>\n  </thead>\n  <tbody>\n    <tr>\n      <th>0</th>\n      <td>2019/11/01 00:00:02</td>\n      <td>NaN</td>\n      <td>NaN</td>\n      <td>NaN</td>\n      <td>NaN</td>\n      <td>NaN</td>\n      <td>NaN</td>\n      <td>62.95</td>\n      <td>48.90</td>\n      <td>NaN</td>\n      <td>...</td>\n      <td>NaN</td>\n      <td>NaN</td>\n      <td>NaN</td>\n      <td>NaN</td>\n      <td>1859734</td>\n      <td>77</td>\n      <td>26297</td>\n      <td>-65</td>\n      <td>NaN</td>\n      <td>NaN</td>\n    </tr>\n    <tr>\n      <th>1</th>\n      <td>2019/11/01 00:02:32</td>\n      <td>NaN</td>\n      <td>NaN</td>\n      <td>NaN</td>\n      <td>NaN</td>\n      <td>NaN</td>\n      <td>NaN</td>\n      <td>65.52</td>\n      <td>49.60</td>\n      <td>NaN</td>\n      <td>...</td>\n      <td>NaN</td>\n      <td>NaN</td>\n      <td>NaN</td>\n      <td>NaN</td>\n      <td>1859691</td>\n      <td>77</td>\n      <td>26668</td>\n      <td>-64</td>\n      <td>NaN</td>\n      <td>NaN</td>\n    </tr>\n    <tr>\n      <th>2</th>\n      <td>2019/11/01 00:05:02</td>\n      <td>NaN</td>\n      <td>NaN</td>\n      <td>NaN</td>\n      <td>NaN</td>\n      <td>NaN</td>\n      <td>NaN</td>\n      <td>64.32</td>\n      <td>48.73</td>\n      <td>NaN</td>\n      <td>...</td>\n      <td>NaN</td>\n      <td>NaN</td>\n      <td>NaN</td>\n      <td>NaN</td>\n      <td>1859578</td>\n      <td>77</td>\n      <td>26676</td>\n      <td>-64</td>\n      <td>NaN</td>\n      <td>NaN</td>\n    </tr>\n    <tr>\n      <th>3</th>\n      <td>2019/11/01 00:07:32</td>\n      <td>NaN</td>\n      <td>NaN</td>\n      <td>NaN</td>\n      <td>NaN</td>\n      <td>NaN</td>\n      <td>NaN</td>\n      <td>61.75</td>\n      <td>49.63</td>\n      <td>NaN</td>\n      <td>...</td>\n      <td>NaN</td>\n      <td>NaN</td>\n      <td>NaN</td>\n      <td>NaN</td>\n      <td>1859669</td>\n      <td>77</td>\n      <td>26627</td>\n      <td>-63</td>\n      <td>NaN</td>\n      <td>NaN</td>\n    </tr>\n    <tr>\n      <th>4</th>\n      <td>2019/11/01 00:10:02</td>\n      <td>NaN</td>\n      <td>NaN</td>\n      <td>NaN</td>\n      <td>NaN</td>\n      <td>NaN</td>\n      <td>NaN</td>\n      <td>64.45</td>\n      <td>48.63</td>\n      <td>NaN</td>\n      <td>...</td>\n      <td>NaN</td>\n      <td>NaN</td>\n      <td>NaN</td>\n      <td>NaN</td>\n      <td>1859490</td>\n      <td>77</td>\n      <td>26691</td>\n      <td>-65</td>\n      <td>NaN</td>\n      <td>NaN</td>\n    </tr>\n    <tr>\n      <th>...</th>\n      <td>...</td>\n      <td>...</td>\n      <td>...</td>\n      <td>...</td>\n      <td>...</td>\n      <td>...</td>\n      <td>...</td>\n      <td>...</td>\n      <td>...</td>\n      <td>...</td>\n      <td>...</td>\n      <td>...</td>\n      <td>...</td>\n      <td>...</td>\n      <td>...</td>\n      <td>...</td>\n      <td>...</td>\n      <td>...</td>\n      <td>...</td>\n      <td>...</td>\n      <td>...</td>\n    </tr>\n    <tr>\n      <th>6548</th>\n      <td>2019/11/12 11:16:53</td>\n      <td>NaN</td>\n      <td>NaN</td>\n      <td>NaN</td>\n      <td>NaN</td>\n      <td>NaN</td>\n      <td>NaN</td>\n      <td>46.78</td>\n      <td>6.80</td>\n      <td>NaN</td>\n      <td>...</td>\n      <td>NaN</td>\n      <td>NaN</td>\n      <td>NaN</td>\n      <td>NaN</td>\n      <td>2544109</td>\n      <td>54</td>\n      <td>26695</td>\n      <td>-66</td>\n      <td>NaN</td>\n      <td>NaN</td>\n    </tr>\n    <tr>\n      <th>6549</th>\n      <td>2019/11/12 11:19:28</td>\n      <td>NaN</td>\n      <td>NaN</td>\n      <td>NaN</td>\n      <td>NaN</td>\n      <td>NaN</td>\n      <td>NaN</td>\n      <td>39.35</td>\n      <td>6.45</td>\n      <td>NaN</td>\n      <td>...</td>\n      <td>NaN</td>\n      <td>NaN</td>\n      <td>NaN</td>\n      <td>NaN</td>\n      <td>2543994</td>\n      <td>54</td>\n      <td>26258</td>\n      <td>-70</td>\n      <td>NaN</td>\n      <td>NaN</td>\n    </tr>\n    <tr>\n      <th>6550</th>\n      <td>2019/11/12 11:22:00</td>\n      <td>NaN</td>\n      <td>NaN</td>\n      <td>NaN</td>\n      <td>NaN</td>\n      <td>NaN</td>\n      <td>NaN</td>\n      <td>32.92</td>\n      <td>6.30</td>\n      <td>NaN</td>\n      <td>...</td>\n      <td>NaN</td>\n      <td>NaN</td>\n      <td>NaN</td>\n      <td>NaN</td>\n      <td>2544040</td>\n      <td>54</td>\n      <td>26202</td>\n      <td>-69</td>\n      <td>NaN</td>\n      <td>NaN</td>\n    </tr>\n    <tr>\n      <th>6551</th>\n      <td>2019/11/12 11:24:34</td>\n      <td>NaN</td>\n      <td>NaN</td>\n      <td>NaN</td>\n      <td>NaN</td>\n      <td>NaN</td>\n      <td>NaN</td>\n      <td>36.75</td>\n      <td>5.82</td>\n      <td>NaN</td>\n      <td>...</td>\n      <td>NaN</td>\n      <td>NaN</td>\n      <td>NaN</td>\n      <td>NaN</td>\n      <td>2544082</td>\n      <td>54</td>\n      <td>26638</td>\n      <td>-67</td>\n      <td>NaN</td>\n      <td>NaN</td>\n    </tr>\n    <tr>\n      <th>6552</th>\n      <td>2019/11/12 11:27:18</td>\n      <td>NaN</td>\n      <td>NaN</td>\n      <td>NaN</td>\n      <td>NaN</td>\n      <td>NaN</td>\n      <td>NaN</td>\n      <td>39.08</td>\n      <td>6.10</td>\n      <td>NaN</td>\n      <td>...</td>\n      <td>NaN</td>\n      <td>NaN</td>\n      <td>NaN</td>\n      <td>NaN</td>\n      <td>2544029</td>\n      <td>54</td>\n      <td>26654</td>\n      <td>-70</td>\n      <td>NaN</td>\n      <td>NaN</td>\n    </tr>\n  </tbody>\n</table>\n<p>6553 rows × 24 columns</p>\n</div>"
     },
     "metadata": {},
     "execution_count": 7
    }
   ],
   "source": [
    "df_list[0]"
   ]
  },
  {
   "cell_type": "code",
   "execution_count": 8,
   "metadata": {},
   "outputs": [
    {
     "output_type": "execute_result",
     "data": {
      "text/plain": [
       "32.55693802345059"
      ]
     },
     "metadata": {},
     "execution_count": 8
    }
   ],
   "source": [
    "df_11455147_11[\"SDS_P1\"].mean()"
   ]
  },
  {
   "cell_type": "code",
   "execution_count": 9,
   "metadata": {},
   "outputs": [
    {
     "output_type": "execute_result",
     "data": {
      "text/plain": [
       "15.686998324958125"
      ]
     },
     "metadata": {},
     "execution_count": 9
    }
   ],
   "source": [
    "df_11455147_11[\"SDS_P2\"].mean()"
   ]
  },
  {
   "cell_type": "code",
   "execution_count": 10,
   "metadata": {},
   "outputs": [
    {
     "output_type": "execute_result",
     "data": {
      "text/plain": [
       "97182.46"
      ]
     },
     "metadata": {},
     "execution_count": 10
    }
   ],
   "source": [
    "df_11455147_11[\"SDS_P1\"].sum()"
   ]
  },
  {
   "cell_type": "code",
   "execution_count": 11,
   "metadata": {},
   "outputs": [],
   "source": [
    "mean_dic ={}\n",
    "sum_dic = {}\n",
    "def get_mean(df, name_df):\n",
    "    mean_dic[name_df + \"_p1\"] = df[\"SDS_P1\"].mean()\n",
    "    mean_dic[name_df + \"_p2\"] = df[\"SDS_P2\"].mean()\n",
    "def get_sum(df, name_df):\n",
    "    sum_dic[name_df + \"_p1\"] = df[\"SDS_P1\"].sum()\n",
    "    sum_dic[name_df + \"_p2\"] = df[\"SDS_P2\"].sum()\n"
   ]
  },
  {
   "cell_type": "code",
   "execution_count": 12,
   "metadata": {
    "tags": []
   },
   "outputs": [],
   "source": [
    "mean_dic ={}\n",
    "sum_dic= {}\n",
    "for df, name_df in zip(df_list, name_list):\n",
    "    get_sum(df, name_df)\n",
    "    get_mean(df, name_df)\n"
   ]
  },
  {
   "cell_type": "code",
   "execution_count": 13,
   "metadata": {},
   "outputs": [],
   "source": [
    "mean_df = pd.DataFrame.from_dict(mean_dic, orient='index')"
   ]
  },
  {
   "cell_type": "code",
   "execution_count": 14,
   "metadata": {},
   "outputs": [],
   "source": [
    "sum_df = pd.DataFrame.from_dict(sum_dic, orient='index')"
   ]
  },
  {
   "cell_type": "code",
   "execution_count": 15,
   "metadata": {},
   "outputs": [],
   "source": [
    "mean_df.to_csv('mean_sensors.csv')"
   ]
  },
  {
   "cell_type": "code",
   "execution_count": 16,
   "metadata": {},
   "outputs": [],
   "source": [
    "sum_df.to_csv('sum_sensors.csv')"
   ]
  },
  {
   "cell_type": "code",
   "execution_count": 17,
   "metadata": {},
   "outputs": [
    {
     "output_type": "execute_result",
     "data": {
      "text/plain": [
       "          Unnamed: 0          0\n",
       "0  df_11454704_11_p1  19.466780\n",
       "1  df_11454704_11_p2   8.565854\n",
       "2  df_11454704_12_p1  28.972143\n",
       "3  df_11454704_12_p2  13.777287\n",
       "4  df_11455147_11_p1  32.556938"
      ],
      "text/html": "<div>\n<style scoped>\n    .dataframe tbody tr th:only-of-type {\n        vertical-align: middle;\n    }\n\n    .dataframe tbody tr th {\n        vertical-align: top;\n    }\n\n    .dataframe thead th {\n        text-align: right;\n    }\n</style>\n<table border=\"1\" class=\"dataframe\">\n  <thead>\n    <tr style=\"text-align: right;\">\n      <th></th>\n      <th>Unnamed: 0</th>\n      <th>0</th>\n    </tr>\n  </thead>\n  <tbody>\n    <tr>\n      <th>0</th>\n      <td>df_11454704_11_p1</td>\n      <td>19.466780</td>\n    </tr>\n    <tr>\n      <th>1</th>\n      <td>df_11454704_11_p2</td>\n      <td>8.565854</td>\n    </tr>\n    <tr>\n      <th>2</th>\n      <td>df_11454704_12_p1</td>\n      <td>28.972143</td>\n    </tr>\n    <tr>\n      <th>3</th>\n      <td>df_11454704_12_p2</td>\n      <td>13.777287</td>\n    </tr>\n    <tr>\n      <th>4</th>\n      <td>df_11455147_11_p1</td>\n      <td>32.556938</td>\n    </tr>\n  </tbody>\n</table>\n</div>"
     },
     "metadata": {},
     "execution_count": 17
    }
   ],
   "source": [
    "test = pd.read_csv('mean_sensors.csv')\n",
    "test.head()"
   ]
  }
 ]
}