{
 "metadata": {
  "language_info": {
   "codemirror_mode": {
    "name": "ipython",
    "version": 3
   },
   "file_extension": ".py",
   "mimetype": "text/x-python",
   "name": "python",
   "nbconvert_exporter": "python",
   "pygments_lexer": "ipython3",
   "version": "3.7.5"
  },
  "orig_nbformat": 4,
  "kernelspec": {
   "name": "python3",
   "display_name": "Python 3.7.5 64-bit"
  },
  "interpreter": {
   "hash": "90c1d9e294a1bc1b5070fdc4145e6b29b525528d72433500027fe645953bb2f2"
  }
 },
 "nbformat": 4,
 "nbformat_minor": 2,
 "cells": [
  {
   "source": [
    "# PCA \n",
    "More information can be found in the following papers:\n",
    "\n",
    "https://www.sartorius.com/en/knowledge/science-snippets/what-is-principal-component-analysis-pca-and-how-it-is-used-507186\n",
    "\n",
    "https://unstats.un.org/unsd/hhsurveys/finalpublication/ch18fin3.pdf\n",
    "\n",
    "https://www.researchgate.net/publication/321824664_Principal_Component_Analysis_PCA_based_Indexing\n",
    "\n",
    "https://www.researchgate.net/publication/323357069_Extent_of_Vulnerability_in_Wheat_Producing_Agro-Ecologies_of_India_Tracking_from_Indicators_of_Cross-Section_and_Multi-Dimension_Data\n",
    "\n",
    "https://www.scielo.br/j/rbrh/a/DbyBxXCZkZyp3RcQxbNTZ5t/?lang=en#\n",
    "\n",
    "https://academic.oup.com/heapol/article/21/6/459/612115\n",
    "\n",
    "\n",
    "\n"
   ],
   "cell_type": "markdown",
   "metadata": {}
  },
  {
   "cell_type": "code",
   "execution_count": 1,
   "metadata": {},
   "outputs": [],
   "source": [
    "import pandas as pd\n",
    "from sklearn.decomposition import PCA"
   ]
  },
  {
   "cell_type": "code",
   "execution_count": 2,
   "metadata": {},
   "outputs": [],
   "source": [
    "indicators_df = pd.read_csv(\"indicators_normalized.csv\")"
   ]
  },
  {
   "cell_type": "code",
   "execution_count": 62,
   "metadata": {},
   "outputs": [
    {
     "output_type": "execute_result",
     "data": {
      "text/plain": [
       "   persons_04_65   females  persons_km2  non_australian  year_11_under  \\\n",
       "0       0.573529  0.318102     0.386804        0.494318       0.415423   \n",
       "1       0.463235  0.351494     0.167463        0.295455       0.587065   \n",
       "2       1.000000  0.599297     0.003754        0.028409       0.599502   \n",
       "3       0.448529  0.502636     0.617657        0.761364       0.211443   \n",
       "4       0.433824  0.504394     0.052640        0.042614       0.783582   \n",
       "\n",
       "   non_proficient  unemployment_rate  below_poverty_line   renters  \\\n",
       "0        0.360042           0.375000            0.575472  0.497881   \n",
       "1        0.202393           0.555556            0.578616  0.351695   \n",
       "2        0.001041           0.194444            0.496855  0.050847   \n",
       "3        0.651405           0.597222            0.742138  0.572034   \n",
       "4        0.042144           0.111111            0.342767  0.101695   \n",
       "\n",
       "   multi_unit_housing  premature_deaths  copd_hosp  asthma_hosp  inf_pan_hosp  \\\n",
       "0            0.584763          0.376071   0.437005     0.225000      0.274464   \n",
       "1            0.059802          0.792760   1.000000     0.737857      0.707992   \n",
       "2            0.015991          0.500414   0.387876     0.738571      0.584016   \n",
       "3            0.554342          0.327162   0.200872     0.123571      0.165302   \n",
       "4            0.000000          0.644101   0.625594     0.459286      0.661209   \n",
       "\n",
       "         district  neg_hospital_beds  neg_protected_areas  \n",
       "0         Bayside           0.344828             0.915078  \n",
       "1       Blacktown           0.793103             0.862101  \n",
       "2  Blue Mountains           0.910345             0.000000  \n",
       "3         Burwood           0.186207             1.000000  \n",
       "4          Camden           0.931034             0.977521  "
      ],
      "text/html": "<div>\n<style scoped>\n    .dataframe tbody tr th:only-of-type {\n        vertical-align: middle;\n    }\n\n    .dataframe tbody tr th {\n        vertical-align: top;\n    }\n\n    .dataframe thead th {\n        text-align: right;\n    }\n</style>\n<table border=\"1\" class=\"dataframe\">\n  <thead>\n    <tr style=\"text-align: right;\">\n      <th></th>\n      <th>persons_04_65</th>\n      <th>females</th>\n      <th>persons_km2</th>\n      <th>non_australian</th>\n      <th>year_11_under</th>\n      <th>non_proficient</th>\n      <th>unemployment_rate</th>\n      <th>below_poverty_line</th>\n      <th>renters</th>\n      <th>multi_unit_housing</th>\n      <th>premature_deaths</th>\n      <th>copd_hosp</th>\n      <th>asthma_hosp</th>\n      <th>inf_pan_hosp</th>\n      <th>district</th>\n      <th>neg_hospital_beds</th>\n      <th>neg_protected_areas</th>\n    </tr>\n  </thead>\n  <tbody>\n    <tr>\n      <th>0</th>\n      <td>0.573529</td>\n      <td>0.318102</td>\n      <td>0.386804</td>\n      <td>0.494318</td>\n      <td>0.415423</td>\n      <td>0.360042</td>\n      <td>0.375000</td>\n      <td>0.575472</td>\n      <td>0.497881</td>\n      <td>0.584763</td>\n      <td>0.376071</td>\n      <td>0.437005</td>\n      <td>0.225000</td>\n      <td>0.274464</td>\n      <td>Bayside</td>\n      <td>0.344828</td>\n      <td>0.915078</td>\n    </tr>\n    <tr>\n      <th>1</th>\n      <td>0.463235</td>\n      <td>0.351494</td>\n      <td>0.167463</td>\n      <td>0.295455</td>\n      <td>0.587065</td>\n      <td>0.202393</td>\n      <td>0.555556</td>\n      <td>0.578616</td>\n      <td>0.351695</td>\n      <td>0.059802</td>\n      <td>0.792760</td>\n      <td>1.000000</td>\n      <td>0.737857</td>\n      <td>0.707992</td>\n      <td>Blacktown</td>\n      <td>0.793103</td>\n      <td>0.862101</td>\n    </tr>\n    <tr>\n      <th>2</th>\n      <td>1.000000</td>\n      <td>0.599297</td>\n      <td>0.003754</td>\n      <td>0.028409</td>\n      <td>0.599502</td>\n      <td>0.001041</td>\n      <td>0.194444</td>\n      <td>0.496855</td>\n      <td>0.050847</td>\n      <td>0.015991</td>\n      <td>0.500414</td>\n      <td>0.387876</td>\n      <td>0.738571</td>\n      <td>0.584016</td>\n      <td>Blue Mountains</td>\n      <td>0.910345</td>\n      <td>0.000000</td>\n    </tr>\n    <tr>\n      <th>3</th>\n      <td>0.448529</td>\n      <td>0.502636</td>\n      <td>0.617657</td>\n      <td>0.761364</td>\n      <td>0.211443</td>\n      <td>0.651405</td>\n      <td>0.597222</td>\n      <td>0.742138</td>\n      <td>0.572034</td>\n      <td>0.554342</td>\n      <td>0.327162</td>\n      <td>0.200872</td>\n      <td>0.123571</td>\n      <td>0.165302</td>\n      <td>Burwood</td>\n      <td>0.186207</td>\n      <td>1.000000</td>\n    </tr>\n    <tr>\n      <th>4</th>\n      <td>0.433824</td>\n      <td>0.504394</td>\n      <td>0.052640</td>\n      <td>0.042614</td>\n      <td>0.783582</td>\n      <td>0.042144</td>\n      <td>0.111111</td>\n      <td>0.342767</td>\n      <td>0.101695</td>\n      <td>0.000000</td>\n      <td>0.644101</td>\n      <td>0.625594</td>\n      <td>0.459286</td>\n      <td>0.661209</td>\n      <td>Camden</td>\n      <td>0.931034</td>\n      <td>0.977521</td>\n    </tr>\n  </tbody>\n</table>\n</div>"
     },
     "metadata": {},
     "execution_count": 62
    }
   ],
   "source": [
    "indicators_df.head()"
   ]
  },
  {
   "cell_type": "code",
   "execution_count": 4,
   "metadata": {},
   "outputs": [],
   "source": [
    "indicators_df[\"neg_hospital_beds\"]= 1- indicators_df[\"hospital_beds_1000\"]\n",
    "indicators_df[\"neg_protected_areas\"]= 1- indicators_df[\"protected_areas\"]\n"
   ]
  },
  {
   "cell_type": "code",
   "execution_count": 5,
   "metadata": {},
   "outputs": [
    {
     "output_type": "execute_result",
     "data": {
      "text/plain": [
       "   Unnamed: 0  persons_04_65   females  persons_km2  non_australian  \\\n",
       "0           0       0.573529  0.318102     0.386804        0.494318   \n",
       "1           1       0.463235  0.351494     0.167463        0.295455   \n",
       "2           2       1.000000  0.599297     0.003754        0.028409   \n",
       "3           3       0.448529  0.502636     0.617657        0.761364   \n",
       "4           4       0.433824  0.504394     0.052640        0.042614   \n",
       "\n",
       "   arrived_within_5  year_11_under  non_proficient  unemployment_rate  \\\n",
       "0          0.489373       0.415423        0.360042           0.375000   \n",
       "1          0.267269       0.587065        0.202393           0.555556   \n",
       "2          0.022848       0.599502        0.001041           0.194444   \n",
       "3          0.856004       0.211443        0.651405           0.597222   \n",
       "4          0.044633       0.783582        0.042144           0.111111   \n",
       "\n",
       "   below_poverty_line  ...  multi_unit_housing  premature_deaths  \\\n",
       "0            0.575472  ...            0.584763          0.376071   \n",
       "1            0.578616  ...            0.059802          0.792760   \n",
       "2            0.496855  ...            0.015991          0.500414   \n",
       "3            0.742138  ...            0.554342          0.327162   \n",
       "4            0.342767  ...            0.000000          0.644101   \n",
       "\n",
       "   hospital_beds_1000  copd_hosp  asthma_hosp  inf_pan_hosp  protected_areas  \\\n",
       "0            0.655172   0.437005     0.225000      0.274464         0.084922   \n",
       "1            0.206897   1.000000     0.737857      0.707992         0.137899   \n",
       "2            0.089655   0.387876     0.738571      0.584016         1.000000   \n",
       "3            0.813793   0.200872     0.123571      0.165302         0.000000   \n",
       "4            0.068966   0.625594     0.459286      0.661209         0.022479   \n",
       "\n",
       "         district neg_hospital_beds  neg_protected_areas  \n",
       "0         Bayside          0.344828             0.915078  \n",
       "1       Blacktown          0.793103             0.862101  \n",
       "2  Blue Mountains          0.910345             0.000000  \n",
       "3         Burwood          0.186207             1.000000  \n",
       "4          Camden          0.931034             0.977521  \n",
       "\n",
       "[5 rows x 21 columns]"
      ],
      "text/html": "<div>\n<style scoped>\n    .dataframe tbody tr th:only-of-type {\n        vertical-align: middle;\n    }\n\n    .dataframe tbody tr th {\n        vertical-align: top;\n    }\n\n    .dataframe thead th {\n        text-align: right;\n    }\n</style>\n<table border=\"1\" class=\"dataframe\">\n  <thead>\n    <tr style=\"text-align: right;\">\n      <th></th>\n      <th>Unnamed: 0</th>\n      <th>persons_04_65</th>\n      <th>females</th>\n      <th>persons_km2</th>\n      <th>non_australian</th>\n      <th>arrived_within_5</th>\n      <th>year_11_under</th>\n      <th>non_proficient</th>\n      <th>unemployment_rate</th>\n      <th>below_poverty_line</th>\n      <th>...</th>\n      <th>multi_unit_housing</th>\n      <th>premature_deaths</th>\n      <th>hospital_beds_1000</th>\n      <th>copd_hosp</th>\n      <th>asthma_hosp</th>\n      <th>inf_pan_hosp</th>\n      <th>protected_areas</th>\n      <th>district</th>\n      <th>neg_hospital_beds</th>\n      <th>neg_protected_areas</th>\n    </tr>\n  </thead>\n  <tbody>\n    <tr>\n      <th>0</th>\n      <td>0</td>\n      <td>0.573529</td>\n      <td>0.318102</td>\n      <td>0.386804</td>\n      <td>0.494318</td>\n      <td>0.489373</td>\n      <td>0.415423</td>\n      <td>0.360042</td>\n      <td>0.375000</td>\n      <td>0.575472</td>\n      <td>...</td>\n      <td>0.584763</td>\n      <td>0.376071</td>\n      <td>0.655172</td>\n      <td>0.437005</td>\n      <td>0.225000</td>\n      <td>0.274464</td>\n      <td>0.084922</td>\n      <td>Bayside</td>\n      <td>0.344828</td>\n      <td>0.915078</td>\n    </tr>\n    <tr>\n      <th>1</th>\n      <td>1</td>\n      <td>0.463235</td>\n      <td>0.351494</td>\n      <td>0.167463</td>\n      <td>0.295455</td>\n      <td>0.267269</td>\n      <td>0.587065</td>\n      <td>0.202393</td>\n      <td>0.555556</td>\n      <td>0.578616</td>\n      <td>...</td>\n      <td>0.059802</td>\n      <td>0.792760</td>\n      <td>0.206897</td>\n      <td>1.000000</td>\n      <td>0.737857</td>\n      <td>0.707992</td>\n      <td>0.137899</td>\n      <td>Blacktown</td>\n      <td>0.793103</td>\n      <td>0.862101</td>\n    </tr>\n    <tr>\n      <th>2</th>\n      <td>2</td>\n      <td>1.000000</td>\n      <td>0.599297</td>\n      <td>0.003754</td>\n      <td>0.028409</td>\n      <td>0.022848</td>\n      <td>0.599502</td>\n      <td>0.001041</td>\n      <td>0.194444</td>\n      <td>0.496855</td>\n      <td>...</td>\n      <td>0.015991</td>\n      <td>0.500414</td>\n      <td>0.089655</td>\n      <td>0.387876</td>\n      <td>0.738571</td>\n      <td>0.584016</td>\n      <td>1.000000</td>\n      <td>Blue Mountains</td>\n      <td>0.910345</td>\n      <td>0.000000</td>\n    </tr>\n    <tr>\n      <th>3</th>\n      <td>3</td>\n      <td>0.448529</td>\n      <td>0.502636</td>\n      <td>0.617657</td>\n      <td>0.761364</td>\n      <td>0.856004</td>\n      <td>0.211443</td>\n      <td>0.651405</td>\n      <td>0.597222</td>\n      <td>0.742138</td>\n      <td>...</td>\n      <td>0.554342</td>\n      <td>0.327162</td>\n      <td>0.813793</td>\n      <td>0.200872</td>\n      <td>0.123571</td>\n      <td>0.165302</td>\n      <td>0.000000</td>\n      <td>Burwood</td>\n      <td>0.186207</td>\n      <td>1.000000</td>\n    </tr>\n    <tr>\n      <th>4</th>\n      <td>4</td>\n      <td>0.433824</td>\n      <td>0.504394</td>\n      <td>0.052640</td>\n      <td>0.042614</td>\n      <td>0.044633</td>\n      <td>0.783582</td>\n      <td>0.042144</td>\n      <td>0.111111</td>\n      <td>0.342767</td>\n      <td>...</td>\n      <td>0.000000</td>\n      <td>0.644101</td>\n      <td>0.068966</td>\n      <td>0.625594</td>\n      <td>0.459286</td>\n      <td>0.661209</td>\n      <td>0.022479</td>\n      <td>Camden</td>\n      <td>0.931034</td>\n      <td>0.977521</td>\n    </tr>\n  </tbody>\n</table>\n<p>5 rows × 21 columns</p>\n</div>"
     },
     "metadata": {},
     "execution_count": 5
    }
   ],
   "source": [
    "indicators_df.head()"
   ]
  },
  {
   "cell_type": "code",
   "execution_count": 6,
   "metadata": {},
   "outputs": [],
   "source": [
    "indicators_df = indicators_df.drop([\"Unnamed: 0\", \"arrived_within_5\", \"hospital_beds_1000\", \"protected_areas\"], axis=1)"
   ]
  },
  {
   "cell_type": "code",
   "execution_count": 7,
   "metadata": {},
   "outputs": [
    {
     "output_type": "execute_result",
     "data": {
      "text/plain": [
       "Index(['persons_04_65', 'females', 'persons_km2', 'non_australian',\n",
       "       'year_11_under', 'non_proficient', 'unemployment_rate',\n",
       "       'below_poverty_line', 'renters', 'multi_unit_housing',\n",
       "       'premature_deaths', 'copd_hosp', 'asthma_hosp', 'inf_pan_hosp',\n",
       "       'district', 'neg_hospital_beds', 'neg_protected_areas'],\n",
       "      dtype='object')"
      ]
     },
     "metadata": {},
     "execution_count": 7
    }
   ],
   "source": [
    "indicators_df.columns"
   ]
  },
  {
   "cell_type": "code",
   "execution_count": 63,
   "metadata": {},
   "outputs": [
    {
     "output_type": "execute_result",
     "data": {
      "text/plain": [
       "   persons_04_65   females  persons_km2  non_australian  year_11_under  \\\n",
       "0       0.573529  0.318102     0.386804        0.494318       0.415423   \n",
       "1       0.463235  0.351494     0.167463        0.295455       0.587065   \n",
       "2       1.000000  0.599297     0.003754        0.028409       0.599502   \n",
       "3       0.448529  0.502636     0.617657        0.761364       0.211443   \n",
       "4       0.433824  0.504394     0.052640        0.042614       0.783582   \n",
       "\n",
       "   non_proficient  unemployment_rate  below_poverty_line   renters  \\\n",
       "0        0.360042           0.375000            0.575472  0.497881   \n",
       "1        0.202393           0.555556            0.578616  0.351695   \n",
       "2        0.001041           0.194444            0.496855  0.050847   \n",
       "3        0.651405           0.597222            0.742138  0.572034   \n",
       "4        0.042144           0.111111            0.342767  0.101695   \n",
       "\n",
       "   multi_unit_housing  premature_deaths  copd_hosp  asthma_hosp  inf_pan_hosp  \\\n",
       "0            0.584763          0.376071   0.437005     0.225000      0.274464   \n",
       "1            0.059802          0.792760   1.000000     0.737857      0.707992   \n",
       "2            0.015991          0.500414   0.387876     0.738571      0.584016   \n",
       "3            0.554342          0.327162   0.200872     0.123571      0.165302   \n",
       "4            0.000000          0.644101   0.625594     0.459286      0.661209   \n",
       "\n",
       "         district  neg_hospital_beds  neg_protected_areas  \n",
       "0         Bayside           0.344828             0.915078  \n",
       "1       Blacktown           0.793103             0.862101  \n",
       "2  Blue Mountains           0.910345             0.000000  \n",
       "3         Burwood           0.186207             1.000000  \n",
       "4          Camden           0.931034             0.977521  "
      ],
      "text/html": "<div>\n<style scoped>\n    .dataframe tbody tr th:only-of-type {\n        vertical-align: middle;\n    }\n\n    .dataframe tbody tr th {\n        vertical-align: top;\n    }\n\n    .dataframe thead th {\n        text-align: right;\n    }\n</style>\n<table border=\"1\" class=\"dataframe\">\n  <thead>\n    <tr style=\"text-align: right;\">\n      <th></th>\n      <th>persons_04_65</th>\n      <th>females</th>\n      <th>persons_km2</th>\n      <th>non_australian</th>\n      <th>year_11_under</th>\n      <th>non_proficient</th>\n      <th>unemployment_rate</th>\n      <th>below_poverty_line</th>\n      <th>renters</th>\n      <th>multi_unit_housing</th>\n      <th>premature_deaths</th>\n      <th>copd_hosp</th>\n      <th>asthma_hosp</th>\n      <th>inf_pan_hosp</th>\n      <th>district</th>\n      <th>neg_hospital_beds</th>\n      <th>neg_protected_areas</th>\n    </tr>\n  </thead>\n  <tbody>\n    <tr>\n      <th>0</th>\n      <td>0.573529</td>\n      <td>0.318102</td>\n      <td>0.386804</td>\n      <td>0.494318</td>\n      <td>0.415423</td>\n      <td>0.360042</td>\n      <td>0.375000</td>\n      <td>0.575472</td>\n      <td>0.497881</td>\n      <td>0.584763</td>\n      <td>0.376071</td>\n      <td>0.437005</td>\n      <td>0.225000</td>\n      <td>0.274464</td>\n      <td>Bayside</td>\n      <td>0.344828</td>\n      <td>0.915078</td>\n    </tr>\n    <tr>\n      <th>1</th>\n      <td>0.463235</td>\n      <td>0.351494</td>\n      <td>0.167463</td>\n      <td>0.295455</td>\n      <td>0.587065</td>\n      <td>0.202393</td>\n      <td>0.555556</td>\n      <td>0.578616</td>\n      <td>0.351695</td>\n      <td>0.059802</td>\n      <td>0.792760</td>\n      <td>1.000000</td>\n      <td>0.737857</td>\n      <td>0.707992</td>\n      <td>Blacktown</td>\n      <td>0.793103</td>\n      <td>0.862101</td>\n    </tr>\n    <tr>\n      <th>2</th>\n      <td>1.000000</td>\n      <td>0.599297</td>\n      <td>0.003754</td>\n      <td>0.028409</td>\n      <td>0.599502</td>\n      <td>0.001041</td>\n      <td>0.194444</td>\n      <td>0.496855</td>\n      <td>0.050847</td>\n      <td>0.015991</td>\n      <td>0.500414</td>\n      <td>0.387876</td>\n      <td>0.738571</td>\n      <td>0.584016</td>\n      <td>Blue Mountains</td>\n      <td>0.910345</td>\n      <td>0.000000</td>\n    </tr>\n    <tr>\n      <th>3</th>\n      <td>0.448529</td>\n      <td>0.502636</td>\n      <td>0.617657</td>\n      <td>0.761364</td>\n      <td>0.211443</td>\n      <td>0.651405</td>\n      <td>0.597222</td>\n      <td>0.742138</td>\n      <td>0.572034</td>\n      <td>0.554342</td>\n      <td>0.327162</td>\n      <td>0.200872</td>\n      <td>0.123571</td>\n      <td>0.165302</td>\n      <td>Burwood</td>\n      <td>0.186207</td>\n      <td>1.000000</td>\n    </tr>\n    <tr>\n      <th>4</th>\n      <td>0.433824</td>\n      <td>0.504394</td>\n      <td>0.052640</td>\n      <td>0.042614</td>\n      <td>0.783582</td>\n      <td>0.042144</td>\n      <td>0.111111</td>\n      <td>0.342767</td>\n      <td>0.101695</td>\n      <td>0.000000</td>\n      <td>0.644101</td>\n      <td>0.625594</td>\n      <td>0.459286</td>\n      <td>0.661209</td>\n      <td>Camden</td>\n      <td>0.931034</td>\n      <td>0.977521</td>\n    </tr>\n  </tbody>\n</table>\n</div>"
     },
     "metadata": {},
     "execution_count": 63
    }
   ],
   "source": [
    "indicators_df.head()"
   ]
  },
  {
   "cell_type": "code",
   "execution_count": 48,
   "metadata": {},
   "outputs": [],
   "source": [
    "# Information PCA https://scikit-learn.org/stable/modules/generated/sklearn.decomposition.PCA.html\n",
    "\n",
    "data = indicators_df.drop([\"district\"], axis=1)\n",
    "# PCA\n",
    "pca = PCA()\n",
    "pca.fit_transform(X=data)\n",
    "# df_pca = pd.DataFrame(df_pca, columns=['persons_04_65', 'females', 'persons_km2', 'non_australian',\n",
    "#                                         'year_11_under', 'non_proficient', 'unemployment_rate',\n",
    "#                                         'below_poverty_line', 'renters', 'multi_unit_housing',\n",
    "#                                         'premature_deaths', 'copd_hosp', 'asthma_hosp', 'inf_pan_hosp',\n",
    "#                                         'neg_hospital_beds', 'neg_protected_areas'])"
   ]
  },
  {
   "cell_type": "code",
   "execution_count": 49,
   "metadata": {},
   "outputs": [],
   "source": [
    "weights = pca.components_"
   ]
  },
  {
   "cell_type": "code",
   "execution_count": 51,
   "metadata": {},
   "outputs": [],
   "source": [
    "weights_df = pd.DataFrame(weights, columns=['persons_04_65', 'females', 'persons_km2', 'non_australian',\n",
    "                                        'year_11_under', 'non_proficient', 'unemployment_rate',\n",
    "                                        'below_poverty_line', 'renters', 'multi_unit_housing',\n",
    "                                        'premature_deaths', 'copd_hosp', 'asthma_hosp', 'inf_pan_hosp',\n",
    "                                        'neg_hospital_beds', 'neg_protected_areas'])"
   ]
  },
  {
   "cell_type": "code",
   "execution_count": 83,
   "metadata": {},
   "outputs": [
    {
     "output_type": "execute_result",
     "data": {
      "text/plain": [
       "   persons_04_65   females  persons_km2  non_australian  year_11_under  \\\n",
       "0       0.052699 -0.064037     -0.31624       -0.244323       0.383809   \n",
       "\n",
       "   non_proficient  unemployment_rate  below_poverty_line   renters  \\\n",
       "0       -0.037466           0.079417             0.13345 -0.218181   \n",
       "\n",
       "   multi_unit_housing  premature_deaths  copd_hosp  asthma_hosp  inf_pan_hosp  \\\n",
       "0           -0.391929          0.168997   0.320244     0.287105      0.267054   \n",
       "\n",
       "   neg_hospital_beds  neg_protected_areas  \n",
       "0           0.369551            -0.194808  "
      ],
      "text/html": "<div>\n<style scoped>\n    .dataframe tbody tr th:only-of-type {\n        vertical-align: middle;\n    }\n\n    .dataframe tbody tr th {\n        vertical-align: top;\n    }\n\n    .dataframe thead th {\n        text-align: right;\n    }\n</style>\n<table border=\"1\" class=\"dataframe\">\n  <thead>\n    <tr style=\"text-align: right;\">\n      <th></th>\n      <th>persons_04_65</th>\n      <th>females</th>\n      <th>persons_km2</th>\n      <th>non_australian</th>\n      <th>year_11_under</th>\n      <th>non_proficient</th>\n      <th>unemployment_rate</th>\n      <th>below_poverty_line</th>\n      <th>renters</th>\n      <th>multi_unit_housing</th>\n      <th>premature_deaths</th>\n      <th>copd_hosp</th>\n      <th>asthma_hosp</th>\n      <th>inf_pan_hosp</th>\n      <th>neg_hospital_beds</th>\n      <th>neg_protected_areas</th>\n    </tr>\n  </thead>\n  <tbody>\n    <tr>\n      <th>0</th>\n      <td>0.052699</td>\n      <td>-0.064037</td>\n      <td>-0.31624</td>\n      <td>-0.244323</td>\n      <td>0.383809</td>\n      <td>-0.037466</td>\n      <td>0.079417</td>\n      <td>0.13345</td>\n      <td>-0.218181</td>\n      <td>-0.391929</td>\n      <td>0.168997</td>\n      <td>0.320244</td>\n      <td>0.287105</td>\n      <td>0.267054</td>\n      <td>0.369551</td>\n      <td>-0.194808</td>\n    </tr>\n  </tbody>\n</table>\n</div>"
     },
     "metadata": {},
     "execution_count": 83
    }
   ],
   "source": [
    "weights_df.head(1)"
   ]
  },
  {
   "cell_type": "code",
   "execution_count": 55,
   "metadata": {},
   "outputs": [
    {
     "output_type": "stream",
     "name": "stdout",
     "text": [
      "1.0000000000000002\n"
     ]
    }
   ],
   "source": [
    "print(sum(pca.explained_variance_ratio_))"
   ]
  },
  {
   "cell_type": "code",
   "execution_count": 56,
   "metadata": {},
   "outputs": [
    {
     "output_type": "stream",
     "name": "stdout",
     "text": [
      "[4.73824256e-01 2.63433768e-01 9.32389914e-02 4.82346890e-02\n 3.55996789e-02 2.77017208e-02 2.47625973e-02 1.14086252e-02\n 6.79537415e-03 5.74321574e-03 3.02134250e-03 2.66844038e-03\n 1.74741196e-03 1.30981837e-03 3.17335012e-04 1.92734928e-04]\n"
     ]
    }
   ],
   "source": [
    "print(pca.explained_variance_ratio_)"
   ]
  },
  {
   "cell_type": "code",
   "execution_count": 64,
   "metadata": {},
   "outputs": [],
   "source": [
    "# PCA by category\n",
    "# Socio-Demographics\n",
    "demo_df = indicators_df[['persons_04_65','females','persons_km2']]\n",
    "# Socio Educational\n",
    "edu_df = indicators_df[['non_australian','year_11_under', 'non_proficient']]\n",
    "# Economic\n",
    "eco_df = indicators_df[['unemployment_rate','below_poverty_line']]\n",
    "# Health\n",
    "health_df = indicators_df[['premature_deaths', 'copd_hosp', 'asthma_hosp', 'inf_pan_hosp','neg_hospital_beds']]\n",
    "# Built environment\n",
    "env_df = indicators_df[['renters', 'multi_unit_housing','neg_protected_areas']]"
   ]
  },
  {
   "cell_type": "code",
   "execution_count": 72,
   "metadata": {},
   "outputs": [],
   "source": [
    "# Socio-Demographics\n",
    "pca_demo = PCA(1)\n",
    "pca_demo.fit_transform(X=demo_df)\n",
    "weights_demo = pca_demo.components_"
   ]
  },
  {
   "cell_type": "code",
   "execution_count": 73,
   "metadata": {},
   "outputs": [
    {
     "output_type": "execute_result",
     "data": {
      "text/plain": [
       "array([[-0.50509671, -0.26529065,  0.82127838]])"
      ]
     },
     "metadata": {},
     "execution_count": 73
    }
   ],
   "source": [
    "weights_demo"
   ]
  },
  {
   "cell_type": "code",
   "execution_count": 74,
   "metadata": {},
   "outputs": [],
   "source": [
    "weights_demo_df = pd.DataFrame(weights_demo, columns=['persons_04_65','females','persons_km2'])"
   ]
  },
  {
   "cell_type": "code",
   "execution_count": 75,
   "metadata": {},
   "outputs": [
    {
     "output_type": "execute_result",
     "data": {
      "text/plain": [
       "   persons_04_65   females  persons_km2\n",
       "0      -0.505097 -0.265291     0.821278"
      ],
      "text/html": "<div>\n<style scoped>\n    .dataframe tbody tr th:only-of-type {\n        vertical-align: middle;\n    }\n\n    .dataframe tbody tr th {\n        vertical-align: top;\n    }\n\n    .dataframe thead th {\n        text-align: right;\n    }\n</style>\n<table border=\"1\" class=\"dataframe\">\n  <thead>\n    <tr style=\"text-align: right;\">\n      <th></th>\n      <th>persons_04_65</th>\n      <th>females</th>\n      <th>persons_km2</th>\n    </tr>\n  </thead>\n  <tbody>\n    <tr>\n      <th>0</th>\n      <td>-0.505097</td>\n      <td>-0.265291</td>\n      <td>0.821278</td>\n    </tr>\n  </tbody>\n</table>\n</div>"
     },
     "metadata": {},
     "execution_count": 75
    }
   ],
   "source": [
    "weights_demo_df"
   ]
  },
  {
   "cell_type": "code",
   "execution_count": 76,
   "metadata": {},
   "outputs": [
    {
     "output_type": "execute_result",
     "data": {
      "text/plain": [
       "   non_australian  year_11_under  non_proficient\n",
       "0       -0.600776        0.75188        -0.27156"
      ],
      "text/html": "<div>\n<style scoped>\n    .dataframe tbody tr th:only-of-type {\n        vertical-align: middle;\n    }\n\n    .dataframe tbody tr th {\n        vertical-align: top;\n    }\n\n    .dataframe thead th {\n        text-align: right;\n    }\n</style>\n<table border=\"1\" class=\"dataframe\">\n  <thead>\n    <tr style=\"text-align: right;\">\n      <th></th>\n      <th>non_australian</th>\n      <th>year_11_under</th>\n      <th>non_proficient</th>\n    </tr>\n  </thead>\n  <tbody>\n    <tr>\n      <th>0</th>\n      <td>-0.600776</td>\n      <td>0.75188</td>\n      <td>-0.27156</td>\n    </tr>\n  </tbody>\n</table>\n</div>"
     },
     "metadata": {},
     "execution_count": 76
    }
   ],
   "source": [
    "# Socio-Educational\n",
    "pca_edu = PCA(1)\n",
    "pca_edu.fit_transform(X=edu_df)\n",
    "weights_edu = pca_edu.components_\n",
    "weights_edu_df = pd.DataFrame(weights_edu, columns=['non_australian','year_11_under', 'non_proficient'])\n",
    "weights_edu_df"
   ]
  },
  {
   "cell_type": "code",
   "execution_count": 78,
   "metadata": {},
   "outputs": [
    {
     "output_type": "execute_result",
     "data": {
      "text/plain": [
       "   unemployment_rate  below_poverty_line\n",
       "0           0.763536            0.645765"
      ],
      "text/html": "<div>\n<style scoped>\n    .dataframe tbody tr th:only-of-type {\n        vertical-align: middle;\n    }\n\n    .dataframe tbody tr th {\n        vertical-align: top;\n    }\n\n    .dataframe thead th {\n        text-align: right;\n    }\n</style>\n<table border=\"1\" class=\"dataframe\">\n  <thead>\n    <tr style=\"text-align: right;\">\n      <th></th>\n      <th>unemployment_rate</th>\n      <th>below_poverty_line</th>\n    </tr>\n  </thead>\n  <tbody>\n    <tr>\n      <th>0</th>\n      <td>0.763536</td>\n      <td>0.645765</td>\n    </tr>\n  </tbody>\n</table>\n</div>"
     },
     "metadata": {},
     "execution_count": 78
    }
   ],
   "source": [
    "# Economic/Financial\n",
    "pca_eco = PCA(1)\n",
    "pca_eco.fit_transform(X=eco_df)\n",
    "weights_eco = pca_eco.components_\n",
    "weights_eco_df = pd.DataFrame(weights_eco, columns=['unemployment_rate','below_poverty_line'])\n",
    "weights_eco_df"
   ]
  },
  {
   "cell_type": "code",
   "execution_count": 79,
   "metadata": {},
   "outputs": [
    {
     "output_type": "execute_result",
     "data": {
      "text/plain": [
       "   premature_deaths  copd_hosp  asthma_hosp  inf_pan_hosp  neg_hospital_beds\n",
       "0          0.380248   0.532715     0.446276      0.385843           0.472852"
      ],
      "text/html": "<div>\n<style scoped>\n    .dataframe tbody tr th:only-of-type {\n        vertical-align: middle;\n    }\n\n    .dataframe tbody tr th {\n        vertical-align: top;\n    }\n\n    .dataframe thead th {\n        text-align: right;\n    }\n</style>\n<table border=\"1\" class=\"dataframe\">\n  <thead>\n    <tr style=\"text-align: right;\">\n      <th></th>\n      <th>premature_deaths</th>\n      <th>copd_hosp</th>\n      <th>asthma_hosp</th>\n      <th>inf_pan_hosp</th>\n      <th>neg_hospital_beds</th>\n    </tr>\n  </thead>\n  <tbody>\n    <tr>\n      <th>0</th>\n      <td>0.380248</td>\n      <td>0.532715</td>\n      <td>0.446276</td>\n      <td>0.385843</td>\n      <td>0.472852</td>\n    </tr>\n  </tbody>\n</table>\n</div>"
     },
     "metadata": {},
     "execution_count": 79
    }
   ],
   "source": [
    "# Health\n",
    "pca_health = PCA(1)\n",
    "pca_health.fit_transform(X=health_df)\n",
    "weights_health = pca_health.components_\n",
    "weights_health_df = pd.DataFrame(weights_health, columns=['premature_deaths', 'copd_hosp', 'asthma_hosp', 'inf_pan_hosp','neg_hospital_beds'])\n",
    "weights_health_df"
   ]
  },
  {
   "cell_type": "code",
   "execution_count": 84,
   "metadata": {},
   "outputs": [
    {
     "output_type": "execute_result",
     "data": {
      "text/plain": [
       "    renters  multi_unit_housing  neg_protected_areas\n",
       "0 -0.533682           -0.644132            -0.547976"
      ],
      "text/html": "<div>\n<style scoped>\n    .dataframe tbody tr th:only-of-type {\n        vertical-align: middle;\n    }\n\n    .dataframe tbody tr th {\n        vertical-align: top;\n    }\n\n    .dataframe thead th {\n        text-align: right;\n    }\n</style>\n<table border=\"1\" class=\"dataframe\">\n  <thead>\n    <tr style=\"text-align: right;\">\n      <th></th>\n      <th>renters</th>\n      <th>multi_unit_housing</th>\n      <th>neg_protected_areas</th>\n    </tr>\n  </thead>\n  <tbody>\n    <tr>\n      <th>0</th>\n      <td>-0.533682</td>\n      <td>-0.644132</td>\n      <td>-0.547976</td>\n    </tr>\n  </tbody>\n</table>\n</div>"
     },
     "metadata": {},
     "execution_count": 84
    }
   ],
   "source": [
    "# Built Environment \n",
    "pca_env = PCA(1)\n",
    "pca_env.fit_transform(X=env_df)\n",
    "weights_env = pca_env.components_\n",
    "weights_env_df = pd.DataFrame(weights_env, columns=['renters', 'multi_unit_housing','neg_protected_areas'])\n",
    "weights_env_df"
   ]
  }
 ]
}