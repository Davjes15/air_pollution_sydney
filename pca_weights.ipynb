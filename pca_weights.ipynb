{
 "metadata": {
  "language_info": {
   "codemirror_mode": {
    "name": "ipython",
    "version": 3
   },
   "file_extension": ".py",
   "mimetype": "text/x-python",
   "name": "python",
   "nbconvert_exporter": "python",
   "pygments_lexer": "ipython3",
   "version": "3.7.5"
  },
  "orig_nbformat": 4,
  "kernelspec": {
   "name": "python3",
   "display_name": "Python 3.7.5 64-bit"
  },
  "interpreter": {
   "hash": "90c1d9e294a1bc1b5070fdc4145e6b29b525528d72433500027fe645953bb2f2"
  }
 },
 "nbformat": 4,
 "nbformat_minor": 2,
 "cells": [
  {
   "source": [
    "# PCA \n",
    "More information can be found in the following papers:\n",
    "\n",
    "https://www.sartorius.com/en/knowledge/science-snippets/what-is-principal-component-analysis-pca-and-how-it-is-used-507186\n",
    "\n",
    "https://unstats.un.org/unsd/hhsurveys/finalpublication/ch18fin3.pdf\n",
    "\n",
    "https://www.researchgate.net/publication/321824664_Principal_Component_Analysis_PCA_based_Indexing\n",
    "\n",
    "https://www.researchgate.net/publication/323357069_Extent_of_Vulnerability_in_Wheat_Producing_Agro-Ecologies_of_India_Tracking_from_Indicators_of_Cross-Section_and_Multi-Dimension_Data\n",
    "\n",
    "https://www.scielo.br/j/rbrh/a/DbyBxXCZkZyp3RcQxbNTZ5t/?lang=en#\n",
    "\n",
    "https://academic.oup.com/heapol/article/21/6/459/612115\n",
    "\n",
    "\n",
    "\n"
   ],
   "cell_type": "markdown",
   "metadata": {}
  },
  {
   "cell_type": "code",
   "execution_count": 1,
   "metadata": {},
   "outputs": [],
   "source": [
    "import pandas as pd\n",
    "from sklearn.decomposition import PCA"
   ]
  },
  {
   "cell_type": "code",
   "execution_count": 2,
   "metadata": {},
   "outputs": [],
   "source": [
    "indicators_df = pd.read_csv(\"indicators_normalized.csv\")"
   ]
  },
  {
   "cell_type": "code",
   "execution_count": 3,
   "metadata": {},
   "outputs": [
    {
     "output_type": "execute_result",
     "data": {
      "text/plain": [
       "   Unnamed: 0  persons_04_65   females  persons_km2  non_australian  \\\n",
       "0           0       0.573529  0.318102     0.386804        0.494318   \n",
       "1           1       0.463235  0.351494     0.167463        0.295455   \n",
       "2           2       1.000000  0.599297     0.003754        0.028409   \n",
       "3           3       0.448529  0.502636     0.617657        0.761364   \n",
       "4           4       0.433824  0.504394     0.052640        0.042614   \n",
       "\n",
       "   arrived_within_5  year_11_under  non_proficient  unemployment_rate  \\\n",
       "0          0.489373       0.415423        0.360042           0.375000   \n",
       "1          0.267269       0.587065        0.202393           0.555556   \n",
       "2          0.022848       0.599502        0.001041           0.194444   \n",
       "3          0.856004       0.211443        0.651405           0.597222   \n",
       "4          0.044633       0.783582        0.042144           0.111111   \n",
       "\n",
       "   below_poverty_line   renters  multi_unit_housing  premature_deaths  \\\n",
       "0            0.575472  0.497881            0.584763          0.376071   \n",
       "1            0.578616  0.351695            0.059802          0.792760   \n",
       "2            0.496855  0.050847            0.015991          0.500414   \n",
       "3            0.742138  0.572034            0.554342          0.327162   \n",
       "4            0.342767  0.101695            0.000000          0.644101   \n",
       "\n",
       "   hospital_beds_1000  copd_hosp  asthma_hosp  inf_pan_hosp  protected_areas  \\\n",
       "0            0.655172   0.437005     0.225000      0.274464         0.084922   \n",
       "1            0.206897   1.000000     0.737857      0.707992         0.137899   \n",
       "2            0.089655   0.387876     0.738571      0.584016         1.000000   \n",
       "3            0.813793   0.200872     0.123571      0.165302         0.000000   \n",
       "4            0.068966   0.625594     0.459286      0.661209         0.022479   \n",
       "\n",
       "         district  \n",
       "0         Bayside  \n",
       "1       Blacktown  \n",
       "2  Blue Mountains  \n",
       "3         Burwood  \n",
       "4          Camden  "
      ],
      "text/html": "<div>\n<style scoped>\n    .dataframe tbody tr th:only-of-type {\n        vertical-align: middle;\n    }\n\n    .dataframe tbody tr th {\n        vertical-align: top;\n    }\n\n    .dataframe thead th {\n        text-align: right;\n    }\n</style>\n<table border=\"1\" class=\"dataframe\">\n  <thead>\n    <tr style=\"text-align: right;\">\n      <th></th>\n      <th>Unnamed: 0</th>\n      <th>persons_04_65</th>\n      <th>females</th>\n      <th>persons_km2</th>\n      <th>non_australian</th>\n      <th>arrived_within_5</th>\n      <th>year_11_under</th>\n      <th>non_proficient</th>\n      <th>unemployment_rate</th>\n      <th>below_poverty_line</th>\n      <th>renters</th>\n      <th>multi_unit_housing</th>\n      <th>premature_deaths</th>\n      <th>hospital_beds_1000</th>\n      <th>copd_hosp</th>\n      <th>asthma_hosp</th>\n      <th>inf_pan_hosp</th>\n      <th>protected_areas</th>\n      <th>district</th>\n    </tr>\n  </thead>\n  <tbody>\n    <tr>\n      <th>0</th>\n      <td>0</td>\n      <td>0.573529</td>\n      <td>0.318102</td>\n      <td>0.386804</td>\n      <td>0.494318</td>\n      <td>0.489373</td>\n      <td>0.415423</td>\n      <td>0.360042</td>\n      <td>0.375000</td>\n      <td>0.575472</td>\n      <td>0.497881</td>\n      <td>0.584763</td>\n      <td>0.376071</td>\n      <td>0.655172</td>\n      <td>0.437005</td>\n      <td>0.225000</td>\n      <td>0.274464</td>\n      <td>0.084922</td>\n      <td>Bayside</td>\n    </tr>\n    <tr>\n      <th>1</th>\n      <td>1</td>\n      <td>0.463235</td>\n      <td>0.351494</td>\n      <td>0.167463</td>\n      <td>0.295455</td>\n      <td>0.267269</td>\n      <td>0.587065</td>\n      <td>0.202393</td>\n      <td>0.555556</td>\n      <td>0.578616</td>\n      <td>0.351695</td>\n      <td>0.059802</td>\n      <td>0.792760</td>\n      <td>0.206897</td>\n      <td>1.000000</td>\n      <td>0.737857</td>\n      <td>0.707992</td>\n      <td>0.137899</td>\n      <td>Blacktown</td>\n    </tr>\n    <tr>\n      <th>2</th>\n      <td>2</td>\n      <td>1.000000</td>\n      <td>0.599297</td>\n      <td>0.003754</td>\n      <td>0.028409</td>\n      <td>0.022848</td>\n      <td>0.599502</td>\n      <td>0.001041</td>\n      <td>0.194444</td>\n      <td>0.496855</td>\n      <td>0.050847</td>\n      <td>0.015991</td>\n      <td>0.500414</td>\n      <td>0.089655</td>\n      <td>0.387876</td>\n      <td>0.738571</td>\n      <td>0.584016</td>\n      <td>1.000000</td>\n      <td>Blue Mountains</td>\n    </tr>\n    <tr>\n      <th>3</th>\n      <td>3</td>\n      <td>0.448529</td>\n      <td>0.502636</td>\n      <td>0.617657</td>\n      <td>0.761364</td>\n      <td>0.856004</td>\n      <td>0.211443</td>\n      <td>0.651405</td>\n      <td>0.597222</td>\n      <td>0.742138</td>\n      <td>0.572034</td>\n      <td>0.554342</td>\n      <td>0.327162</td>\n      <td>0.813793</td>\n      <td>0.200872</td>\n      <td>0.123571</td>\n      <td>0.165302</td>\n      <td>0.000000</td>\n      <td>Burwood</td>\n    </tr>\n    <tr>\n      <th>4</th>\n      <td>4</td>\n      <td>0.433824</td>\n      <td>0.504394</td>\n      <td>0.052640</td>\n      <td>0.042614</td>\n      <td>0.044633</td>\n      <td>0.783582</td>\n      <td>0.042144</td>\n      <td>0.111111</td>\n      <td>0.342767</td>\n      <td>0.101695</td>\n      <td>0.000000</td>\n      <td>0.644101</td>\n      <td>0.068966</td>\n      <td>0.625594</td>\n      <td>0.459286</td>\n      <td>0.661209</td>\n      <td>0.022479</td>\n      <td>Camden</td>\n    </tr>\n  </tbody>\n</table>\n</div>"
     },
     "metadata": {},
     "execution_count": 3
    }
   ],
   "source": [
    "indicators_df.head()"
   ]
  },
  {
   "cell_type": "code",
   "execution_count": 4,
   "metadata": {},
   "outputs": [],
   "source": [
    "indicators_df[\"neg_hospital_beds\"]= 1- indicators_df[\"hospital_beds_1000\"]\n",
    "indicators_df[\"neg_protected_areas\"]= 1- indicators_df[\"protected_areas\"]\n"
   ]
  },
  {
   "cell_type": "code",
   "execution_count": 5,
   "metadata": {},
   "outputs": [
    {
     "output_type": "execute_result",
     "data": {
      "text/plain": [
       "   Unnamed: 0  persons_04_65   females  persons_km2  non_australian  \\\n",
       "0           0       0.573529  0.318102     0.386804        0.494318   \n",
       "1           1       0.463235  0.351494     0.167463        0.295455   \n",
       "2           2       1.000000  0.599297     0.003754        0.028409   \n",
       "3           3       0.448529  0.502636     0.617657        0.761364   \n",
       "4           4       0.433824  0.504394     0.052640        0.042614   \n",
       "\n",
       "   arrived_within_5  year_11_under  non_proficient  unemployment_rate  \\\n",
       "0          0.489373       0.415423        0.360042           0.375000   \n",
       "1          0.267269       0.587065        0.202393           0.555556   \n",
       "2          0.022848       0.599502        0.001041           0.194444   \n",
       "3          0.856004       0.211443        0.651405           0.597222   \n",
       "4          0.044633       0.783582        0.042144           0.111111   \n",
       "\n",
       "   below_poverty_line  ...  multi_unit_housing  premature_deaths  \\\n",
       "0            0.575472  ...            0.584763          0.376071   \n",
       "1            0.578616  ...            0.059802          0.792760   \n",
       "2            0.496855  ...            0.015991          0.500414   \n",
       "3            0.742138  ...            0.554342          0.327162   \n",
       "4            0.342767  ...            0.000000          0.644101   \n",
       "\n",
       "   hospital_beds_1000  copd_hosp  asthma_hosp  inf_pan_hosp  protected_areas  \\\n",
       "0            0.655172   0.437005     0.225000      0.274464         0.084922   \n",
       "1            0.206897   1.000000     0.737857      0.707992         0.137899   \n",
       "2            0.089655   0.387876     0.738571      0.584016         1.000000   \n",
       "3            0.813793   0.200872     0.123571      0.165302         0.000000   \n",
       "4            0.068966   0.625594     0.459286      0.661209         0.022479   \n",
       "\n",
       "         district neg_hospital_beds  neg_protected_areas  \n",
       "0         Bayside          0.344828             0.915078  \n",
       "1       Blacktown          0.793103             0.862101  \n",
       "2  Blue Mountains          0.910345             0.000000  \n",
       "3         Burwood          0.186207             1.000000  \n",
       "4          Camden          0.931034             0.977521  \n",
       "\n",
       "[5 rows x 21 columns]"
      ],
      "text/html": "<div>\n<style scoped>\n    .dataframe tbody tr th:only-of-type {\n        vertical-align: middle;\n    }\n\n    .dataframe tbody tr th {\n        vertical-align: top;\n    }\n\n    .dataframe thead th {\n        text-align: right;\n    }\n</style>\n<table border=\"1\" class=\"dataframe\">\n  <thead>\n    <tr style=\"text-align: right;\">\n      <th></th>\n      <th>Unnamed: 0</th>\n      <th>persons_04_65</th>\n      <th>females</th>\n      <th>persons_km2</th>\n      <th>non_australian</th>\n      <th>arrived_within_5</th>\n      <th>year_11_under</th>\n      <th>non_proficient</th>\n      <th>unemployment_rate</th>\n      <th>below_poverty_line</th>\n      <th>...</th>\n      <th>multi_unit_housing</th>\n      <th>premature_deaths</th>\n      <th>hospital_beds_1000</th>\n      <th>copd_hosp</th>\n      <th>asthma_hosp</th>\n      <th>inf_pan_hosp</th>\n      <th>protected_areas</th>\n      <th>district</th>\n      <th>neg_hospital_beds</th>\n      <th>neg_protected_areas</th>\n    </tr>\n  </thead>\n  <tbody>\n    <tr>\n      <th>0</th>\n      <td>0</td>\n      <td>0.573529</td>\n      <td>0.318102</td>\n      <td>0.386804</td>\n      <td>0.494318</td>\n      <td>0.489373</td>\n      <td>0.415423</td>\n      <td>0.360042</td>\n      <td>0.375000</td>\n      <td>0.575472</td>\n      <td>...</td>\n      <td>0.584763</td>\n      <td>0.376071</td>\n      <td>0.655172</td>\n      <td>0.437005</td>\n      <td>0.225000</td>\n      <td>0.274464</td>\n      <td>0.084922</td>\n      <td>Bayside</td>\n      <td>0.344828</td>\n      <td>0.915078</td>\n    </tr>\n    <tr>\n      <th>1</th>\n      <td>1</td>\n      <td>0.463235</td>\n      <td>0.351494</td>\n      <td>0.167463</td>\n      <td>0.295455</td>\n      <td>0.267269</td>\n      <td>0.587065</td>\n      <td>0.202393</td>\n      <td>0.555556</td>\n      <td>0.578616</td>\n      <td>...</td>\n      <td>0.059802</td>\n      <td>0.792760</td>\n      <td>0.206897</td>\n      <td>1.000000</td>\n      <td>0.737857</td>\n      <td>0.707992</td>\n      <td>0.137899</td>\n      <td>Blacktown</td>\n      <td>0.793103</td>\n      <td>0.862101</td>\n    </tr>\n    <tr>\n      <th>2</th>\n      <td>2</td>\n      <td>1.000000</td>\n      <td>0.599297</td>\n      <td>0.003754</td>\n      <td>0.028409</td>\n      <td>0.022848</td>\n      <td>0.599502</td>\n      <td>0.001041</td>\n      <td>0.194444</td>\n      <td>0.496855</td>\n      <td>...</td>\n      <td>0.015991</td>\n      <td>0.500414</td>\n      <td>0.089655</td>\n      <td>0.387876</td>\n      <td>0.738571</td>\n      <td>0.584016</td>\n      <td>1.000000</td>\n      <td>Blue Mountains</td>\n      <td>0.910345</td>\n      <td>0.000000</td>\n    </tr>\n    <tr>\n      <th>3</th>\n      <td>3</td>\n      <td>0.448529</td>\n      <td>0.502636</td>\n      <td>0.617657</td>\n      <td>0.761364</td>\n      <td>0.856004</td>\n      <td>0.211443</td>\n      <td>0.651405</td>\n      <td>0.597222</td>\n      <td>0.742138</td>\n      <td>...</td>\n      <td>0.554342</td>\n      <td>0.327162</td>\n      <td>0.813793</td>\n      <td>0.200872</td>\n      <td>0.123571</td>\n      <td>0.165302</td>\n      <td>0.000000</td>\n      <td>Burwood</td>\n      <td>0.186207</td>\n      <td>1.000000</td>\n    </tr>\n    <tr>\n      <th>4</th>\n      <td>4</td>\n      <td>0.433824</td>\n      <td>0.504394</td>\n      <td>0.052640</td>\n      <td>0.042614</td>\n      <td>0.044633</td>\n      <td>0.783582</td>\n      <td>0.042144</td>\n      <td>0.111111</td>\n      <td>0.342767</td>\n      <td>...</td>\n      <td>0.000000</td>\n      <td>0.644101</td>\n      <td>0.068966</td>\n      <td>0.625594</td>\n      <td>0.459286</td>\n      <td>0.661209</td>\n      <td>0.022479</td>\n      <td>Camden</td>\n      <td>0.931034</td>\n      <td>0.977521</td>\n    </tr>\n  </tbody>\n</table>\n<p>5 rows × 21 columns</p>\n</div>"
     },
     "metadata": {},
     "execution_count": 5
    }
   ],
   "source": [
    "indicators_df.head()"
   ]
  },
  {
   "cell_type": "code",
   "execution_count": 6,
   "metadata": {},
   "outputs": [],
   "source": [
    "indicators_df = indicators_df.drop([\"Unnamed: 0\", \"arrived_within_5\", \"hospital_beds_1000\", \"protected_areas\"], axis=1)"
   ]
  },
  {
   "cell_type": "code",
   "execution_count": 7,
   "metadata": {},
   "outputs": [
    {
     "output_type": "execute_result",
     "data": {
      "text/plain": [
       "Index(['persons_04_65', 'females', 'persons_km2', 'non_australian',\n",
       "       'year_11_under', 'non_proficient', 'unemployment_rate',\n",
       "       'below_poverty_line', 'renters', 'multi_unit_housing',\n",
       "       'premature_deaths', 'copd_hosp', 'asthma_hosp', 'inf_pan_hosp',\n",
       "       'district', 'neg_hospital_beds', 'neg_protected_areas'],\n",
       "      dtype='object')"
      ]
     },
     "metadata": {},
     "execution_count": 7
    }
   ],
   "source": [
    "indicators_df.columns"
   ]
  },
  {
   "cell_type": "code",
   "execution_count": 8,
   "metadata": {},
   "outputs": [
    {
     "output_type": "execute_result",
     "data": {
      "text/plain": [
       "   persons_04_65   females  persons_km2  non_australian  year_11_under  \\\n",
       "0       0.573529  0.318102     0.386804        0.494318       0.415423   \n",
       "1       0.463235  0.351494     0.167463        0.295455       0.587065   \n",
       "2       1.000000  0.599297     0.003754        0.028409       0.599502   \n",
       "3       0.448529  0.502636     0.617657        0.761364       0.211443   \n",
       "4       0.433824  0.504394     0.052640        0.042614       0.783582   \n",
       "\n",
       "   non_proficient  unemployment_rate  below_poverty_line   renters  \\\n",
       "0        0.360042           0.375000            0.575472  0.497881   \n",
       "1        0.202393           0.555556            0.578616  0.351695   \n",
       "2        0.001041           0.194444            0.496855  0.050847   \n",
       "3        0.651405           0.597222            0.742138  0.572034   \n",
       "4        0.042144           0.111111            0.342767  0.101695   \n",
       "\n",
       "   multi_unit_housing  premature_deaths  copd_hosp  asthma_hosp  inf_pan_hosp  \\\n",
       "0            0.584763          0.376071   0.437005     0.225000      0.274464   \n",
       "1            0.059802          0.792760   1.000000     0.737857      0.707992   \n",
       "2            0.015991          0.500414   0.387876     0.738571      0.584016   \n",
       "3            0.554342          0.327162   0.200872     0.123571      0.165302   \n",
       "4            0.000000          0.644101   0.625594     0.459286      0.661209   \n",
       "\n",
       "         district  neg_hospital_beds  neg_protected_areas  \n",
       "0         Bayside           0.344828             0.915078  \n",
       "1       Blacktown           0.793103             0.862101  \n",
       "2  Blue Mountains           0.910345             0.000000  \n",
       "3         Burwood           0.186207             1.000000  \n",
       "4          Camden           0.931034             0.977521  "
      ],
      "text/html": "<div>\n<style scoped>\n    .dataframe tbody tr th:only-of-type {\n        vertical-align: middle;\n    }\n\n    .dataframe tbody tr th {\n        vertical-align: top;\n    }\n\n    .dataframe thead th {\n        text-align: right;\n    }\n</style>\n<table border=\"1\" class=\"dataframe\">\n  <thead>\n    <tr style=\"text-align: right;\">\n      <th></th>\n      <th>persons_04_65</th>\n      <th>females</th>\n      <th>persons_km2</th>\n      <th>non_australian</th>\n      <th>year_11_under</th>\n      <th>non_proficient</th>\n      <th>unemployment_rate</th>\n      <th>below_poverty_line</th>\n      <th>renters</th>\n      <th>multi_unit_housing</th>\n      <th>premature_deaths</th>\n      <th>copd_hosp</th>\n      <th>asthma_hosp</th>\n      <th>inf_pan_hosp</th>\n      <th>district</th>\n      <th>neg_hospital_beds</th>\n      <th>neg_protected_areas</th>\n    </tr>\n  </thead>\n  <tbody>\n    <tr>\n      <th>0</th>\n      <td>0.573529</td>\n      <td>0.318102</td>\n      <td>0.386804</td>\n      <td>0.494318</td>\n      <td>0.415423</td>\n      <td>0.360042</td>\n      <td>0.375000</td>\n      <td>0.575472</td>\n      <td>0.497881</td>\n      <td>0.584763</td>\n      <td>0.376071</td>\n      <td>0.437005</td>\n      <td>0.225000</td>\n      <td>0.274464</td>\n      <td>Bayside</td>\n      <td>0.344828</td>\n      <td>0.915078</td>\n    </tr>\n    <tr>\n      <th>1</th>\n      <td>0.463235</td>\n      <td>0.351494</td>\n      <td>0.167463</td>\n      <td>0.295455</td>\n      <td>0.587065</td>\n      <td>0.202393</td>\n      <td>0.555556</td>\n      <td>0.578616</td>\n      <td>0.351695</td>\n      <td>0.059802</td>\n      <td>0.792760</td>\n      <td>1.000000</td>\n      <td>0.737857</td>\n      <td>0.707992</td>\n      <td>Blacktown</td>\n      <td>0.793103</td>\n      <td>0.862101</td>\n    </tr>\n    <tr>\n      <th>2</th>\n      <td>1.000000</td>\n      <td>0.599297</td>\n      <td>0.003754</td>\n      <td>0.028409</td>\n      <td>0.599502</td>\n      <td>0.001041</td>\n      <td>0.194444</td>\n      <td>0.496855</td>\n      <td>0.050847</td>\n      <td>0.015991</td>\n      <td>0.500414</td>\n      <td>0.387876</td>\n      <td>0.738571</td>\n      <td>0.584016</td>\n      <td>Blue Mountains</td>\n      <td>0.910345</td>\n      <td>0.000000</td>\n    </tr>\n    <tr>\n      <th>3</th>\n      <td>0.448529</td>\n      <td>0.502636</td>\n      <td>0.617657</td>\n      <td>0.761364</td>\n      <td>0.211443</td>\n      <td>0.651405</td>\n      <td>0.597222</td>\n      <td>0.742138</td>\n      <td>0.572034</td>\n      <td>0.554342</td>\n      <td>0.327162</td>\n      <td>0.200872</td>\n      <td>0.123571</td>\n      <td>0.165302</td>\n      <td>Burwood</td>\n      <td>0.186207</td>\n      <td>1.000000</td>\n    </tr>\n    <tr>\n      <th>4</th>\n      <td>0.433824</td>\n      <td>0.504394</td>\n      <td>0.052640</td>\n      <td>0.042614</td>\n      <td>0.783582</td>\n      <td>0.042144</td>\n      <td>0.111111</td>\n      <td>0.342767</td>\n      <td>0.101695</td>\n      <td>0.000000</td>\n      <td>0.644101</td>\n      <td>0.625594</td>\n      <td>0.459286</td>\n      <td>0.661209</td>\n      <td>Camden</td>\n      <td>0.931034</td>\n      <td>0.977521</td>\n    </tr>\n  </tbody>\n</table>\n</div>"
     },
     "metadata": {},
     "execution_count": 8
    }
   ],
   "source": [
    "indicators_df.head()"
   ]
  },
  {
   "cell_type": "code",
   "execution_count": 9,
   "metadata": {},
   "outputs": [
    {
     "output_type": "execute_result",
     "data": {
      "text/plain": [
       "PCA(n_components=16)"
      ]
     },
     "metadata": {},
     "execution_count": 9
    }
   ],
   "source": [
    "# Information PCA https://scikit-learn.org/stable/modules/generated/sklearn.decomposition.PCA.html\n",
    "\n",
    "data = indicators_df.drop([\"district\"], axis=1)\n",
    "# PCA\n",
    "pca = PCA(16)\n",
    "pca.fit(X=data)\n",
    "# df_pca = pd.DataFrame(df_pca, columns=['persons_04_65', 'females', 'persons_km2', 'non_australian',\n",
    "#                                         'year_11_under', 'non_proficient', 'unemployment_rate',\n",
    "#                                         'below_poverty_line', 'renters', 'multi_unit_housing',\n",
    "#                                         'premature_deaths', 'copd_hosp', 'asthma_hosp', 'inf_pan_hosp',\n",
    "#                                         'neg_hospital_beds', 'neg_protected_areas'])"
   ]
  },
  {
   "cell_type": "code",
   "execution_count": 10,
   "metadata": {},
   "outputs": [],
   "source": [
    "weights = pca.components_"
   ]
  },
  {
   "cell_type": "code",
   "execution_count": 11,
   "metadata": {},
   "outputs": [],
   "source": [
    "weights_df = pd.DataFrame(weights, columns=['persons_04_65', 'females', 'persons_km2', 'non_australian',\n",
    "                                        'year_11_under', 'non_proficient', 'unemployment_rate',\n",
    "                                        'below_poverty_line', 'renters', 'multi_unit_housing',\n",
    "                                        'premature_deaths', 'copd_hosp', 'asthma_hosp', 'inf_pan_hosp',\n",
    "                                        'neg_hospital_beds', 'neg_protected_areas'])"
   ]
  },
  {
   "cell_type": "code",
   "execution_count": 12,
   "metadata": {},
   "outputs": [
    {
     "output_type": "execute_result",
     "data": {
      "text/plain": [
       "    persons_04_65   females  persons_km2  non_australian  year_11_under  \\\n",
       "0        0.052699 -0.064037    -0.316240       -0.244323       0.383809   \n",
       "1       -0.229273 -0.250234     0.174966        0.277466       0.077867   \n",
       "2       -0.268035  0.003622     0.251697        0.070982       0.084311   \n",
       "3        0.218433  0.425637    -0.010231       -0.162706      -0.234306   \n",
       "4       -0.431438 -0.072792    -0.112595       -0.058816      -0.030067   \n",
       "5       -0.037669 -0.515979    -0.091727       -0.143810       0.090649   \n",
       "6       -0.177702 -0.511459    -0.131406        0.162048      -0.465779   \n",
       "7       -0.360654  0.368964    -0.252354        0.275007      -0.425521   \n",
       "8        0.317387 -0.085258    -0.380326        0.364275      -0.172901   \n",
       "9       -0.119729  0.090904    -0.666675        0.124825       0.387531   \n",
       "10       0.244532  0.006038     0.242258        0.237284       0.083653   \n",
       "11      -0.395944  0.199648     0.198086        0.286545       0.336537   \n",
       "12       0.000577 -0.083447    -0.018427       -0.421919      -0.161224   \n",
       "13      -0.116767 -0.059973     0.093891       -0.138878       0.127412   \n",
       "14      -0.345526  0.129042    -0.087219       -0.415286      -0.112363   \n",
       "15       0.105989 -0.014260     0.009443        0.222090       0.149325   \n",
       "\n",
       "    non_proficient  unemployment_rate  below_poverty_line   renters  \\\n",
       "0        -0.037466           0.079417            0.133450 -0.218181   \n",
       "1         0.344928           0.428667            0.305478  0.287263   \n",
       "2        -0.445454          -0.305578           -0.327459  0.233682   \n",
       "3        -0.125178           0.022532           -0.205332  0.022293   \n",
       "4         0.066134          -0.068377           -0.076758 -0.281439   \n",
       "5        -0.202835          -0.254129           -0.060476 -0.020546   \n",
       "6        -0.110532          -0.000276           -0.123578 -0.059415   \n",
       "7        -0.029493           0.168553           -0.028576 -0.040185   \n",
       "8        -0.378120          -0.006514            0.228391  0.019753   \n",
       "9        -0.018003           0.078731           -0.163755  0.185059   \n",
       "10       -0.426670           0.154341            0.331980 -0.122601   \n",
       "11       -0.162261          -0.088011            0.009845 -0.121051   \n",
       "12       -0.079868           0.332668           -0.199164  0.365126   \n",
       "13       -0.418745           0.671125           -0.202234 -0.189806   \n",
       "14       -0.268444          -0.138541            0.646919  0.301170   \n",
       "15       -0.038161          -0.017500           -0.159660  0.636890   \n",
       "\n",
       "    multi_unit_housing  premature_deaths  copd_hosp  asthma_hosp  \\\n",
       "0            -0.391929          0.168997   0.320244     0.287105   \n",
       "1             0.077098          0.262723   0.262031     0.177567   \n",
       "2             0.197875          0.456610   0.314716    -0.068456   \n",
       "3            -0.011281          0.054230   0.000838     0.486324   \n",
       "4            -0.268106          0.037981  -0.195619    -0.359141   \n",
       "5            -0.103085         -0.306018   0.304753    -0.047771   \n",
       "6             0.028413          0.047098  -0.365685     0.417675   \n",
       "7            -0.199260         -0.140590   0.361737    -0.205245   \n",
       "8            -0.088493          0.112884   0.210619     0.028417   \n",
       "9             0.320707          0.171313  -0.311237    -0.065305   \n",
       "10           -0.168686          0.176487  -0.329947    -0.299925   \n",
       "11           -0.353018         -0.075548  -0.202424     0.422044   \n",
       "12           -0.466194          0.342629  -0.145118    -0.129070   \n",
       "13            0.284634         -0.339489   0.080050     0.014063   \n",
       "14            0.173698         -0.140033  -0.098103     0.079296   \n",
       "15           -0.293023         -0.492653  -0.076527    -0.026606   \n",
       "\n",
       "    inf_pan_hosp  neg_hospital_beds  neg_protected_areas  \n",
       "0       0.267054           0.369551            -0.194808  \n",
       "1       0.085717          -0.048562             0.328210  \n",
       "2       0.061057           0.205055            -0.042973  \n",
       "3       0.243782          -0.049559             0.573882  \n",
       "4      -0.115514           0.355121             0.563334  \n",
       "5       0.214110          -0.517932             0.267775  \n",
       "6       0.193983           0.174060            -0.190278  \n",
       "7       0.287462          -0.149242            -0.210586  \n",
       "8      -0.541426           0.055357             0.165043  \n",
       "9       0.147318          -0.204399             0.052760  \n",
       "10      0.468654          -0.071884             0.061974  \n",
       "11     -0.269778          -0.305181            -0.067819  \n",
       "12     -0.201643          -0.271120            -0.109737  \n",
       "13     -0.135850           0.119242             0.014218  \n",
       "14     -0.016605           0.069518            -0.000065  \n",
       "15      0.109878           0.365966             0.053214  "
      ],
      "text/html": "<div>\n<style scoped>\n    .dataframe tbody tr th:only-of-type {\n        vertical-align: middle;\n    }\n\n    .dataframe tbody tr th {\n        vertical-align: top;\n    }\n\n    .dataframe thead th {\n        text-align: right;\n    }\n</style>\n<table border=\"1\" class=\"dataframe\">\n  <thead>\n    <tr style=\"text-align: right;\">\n      <th></th>\n      <th>persons_04_65</th>\n      <th>females</th>\n      <th>persons_km2</th>\n      <th>non_australian</th>\n      <th>year_11_under</th>\n      <th>non_proficient</th>\n      <th>unemployment_rate</th>\n      <th>below_poverty_line</th>\n      <th>renters</th>\n      <th>multi_unit_housing</th>\n      <th>premature_deaths</th>\n      <th>copd_hosp</th>\n      <th>asthma_hosp</th>\n      <th>inf_pan_hosp</th>\n      <th>neg_hospital_beds</th>\n      <th>neg_protected_areas</th>\n    </tr>\n  </thead>\n  <tbody>\n    <tr>\n      <th>0</th>\n      <td>0.052699</td>\n      <td>-0.064037</td>\n      <td>-0.316240</td>\n      <td>-0.244323</td>\n      <td>0.383809</td>\n      <td>-0.037466</td>\n      <td>0.079417</td>\n      <td>0.133450</td>\n      <td>-0.218181</td>\n      <td>-0.391929</td>\n      <td>0.168997</td>\n      <td>0.320244</td>\n      <td>0.287105</td>\n      <td>0.267054</td>\n      <td>0.369551</td>\n      <td>-0.194808</td>\n    </tr>\n    <tr>\n      <th>1</th>\n      <td>-0.229273</td>\n      <td>-0.250234</td>\n      <td>0.174966</td>\n      <td>0.277466</td>\n      <td>0.077867</td>\n      <td>0.344928</td>\n      <td>0.428667</td>\n      <td>0.305478</td>\n      <td>0.287263</td>\n      <td>0.077098</td>\n      <td>0.262723</td>\n      <td>0.262031</td>\n      <td>0.177567</td>\n      <td>0.085717</td>\n      <td>-0.048562</td>\n      <td>0.328210</td>\n    </tr>\n    <tr>\n      <th>2</th>\n      <td>-0.268035</td>\n      <td>0.003622</td>\n      <td>0.251697</td>\n      <td>0.070982</td>\n      <td>0.084311</td>\n      <td>-0.445454</td>\n      <td>-0.305578</td>\n      <td>-0.327459</td>\n      <td>0.233682</td>\n      <td>0.197875</td>\n      <td>0.456610</td>\n      <td>0.314716</td>\n      <td>-0.068456</td>\n      <td>0.061057</td>\n      <td>0.205055</td>\n      <td>-0.042973</td>\n    </tr>\n    <tr>\n      <th>3</th>\n      <td>0.218433</td>\n      <td>0.425637</td>\n      <td>-0.010231</td>\n      <td>-0.162706</td>\n      <td>-0.234306</td>\n      <td>-0.125178</td>\n      <td>0.022532</td>\n      <td>-0.205332</td>\n      <td>0.022293</td>\n      <td>-0.011281</td>\n      <td>0.054230</td>\n      <td>0.000838</td>\n      <td>0.486324</td>\n      <td>0.243782</td>\n      <td>-0.049559</td>\n      <td>0.573882</td>\n    </tr>\n    <tr>\n      <th>4</th>\n      <td>-0.431438</td>\n      <td>-0.072792</td>\n      <td>-0.112595</td>\n      <td>-0.058816</td>\n      <td>-0.030067</td>\n      <td>0.066134</td>\n      <td>-0.068377</td>\n      <td>-0.076758</td>\n      <td>-0.281439</td>\n      <td>-0.268106</td>\n      <td>0.037981</td>\n      <td>-0.195619</td>\n      <td>-0.359141</td>\n      <td>-0.115514</td>\n      <td>0.355121</td>\n      <td>0.563334</td>\n    </tr>\n    <tr>\n      <th>5</th>\n      <td>-0.037669</td>\n      <td>-0.515979</td>\n      <td>-0.091727</td>\n      <td>-0.143810</td>\n      <td>0.090649</td>\n      <td>-0.202835</td>\n      <td>-0.254129</td>\n      <td>-0.060476</td>\n      <td>-0.020546</td>\n      <td>-0.103085</td>\n      <td>-0.306018</td>\n      <td>0.304753</td>\n      <td>-0.047771</td>\n      <td>0.214110</td>\n      <td>-0.517932</td>\n      <td>0.267775</td>\n    </tr>\n    <tr>\n      <th>6</th>\n      <td>-0.177702</td>\n      <td>-0.511459</td>\n      <td>-0.131406</td>\n      <td>0.162048</td>\n      <td>-0.465779</td>\n      <td>-0.110532</td>\n      <td>-0.000276</td>\n      <td>-0.123578</td>\n      <td>-0.059415</td>\n      <td>0.028413</td>\n      <td>0.047098</td>\n      <td>-0.365685</td>\n      <td>0.417675</td>\n      <td>0.193983</td>\n      <td>0.174060</td>\n      <td>-0.190278</td>\n    </tr>\n    <tr>\n      <th>7</th>\n      <td>-0.360654</td>\n      <td>0.368964</td>\n      <td>-0.252354</td>\n      <td>0.275007</td>\n      <td>-0.425521</td>\n      <td>-0.029493</td>\n      <td>0.168553</td>\n      <td>-0.028576</td>\n      <td>-0.040185</td>\n      <td>-0.199260</td>\n      <td>-0.140590</td>\n      <td>0.361737</td>\n      <td>-0.205245</td>\n      <td>0.287462</td>\n      <td>-0.149242</td>\n      <td>-0.210586</td>\n    </tr>\n    <tr>\n      <th>8</th>\n      <td>0.317387</td>\n      <td>-0.085258</td>\n      <td>-0.380326</td>\n      <td>0.364275</td>\n      <td>-0.172901</td>\n      <td>-0.378120</td>\n      <td>-0.006514</td>\n      <td>0.228391</td>\n      <td>0.019753</td>\n      <td>-0.088493</td>\n      <td>0.112884</td>\n      <td>0.210619</td>\n      <td>0.028417</td>\n      <td>-0.541426</td>\n      <td>0.055357</td>\n      <td>0.165043</td>\n    </tr>\n    <tr>\n      <th>9</th>\n      <td>-0.119729</td>\n      <td>0.090904</td>\n      <td>-0.666675</td>\n      <td>0.124825</td>\n      <td>0.387531</td>\n      <td>-0.018003</td>\n      <td>0.078731</td>\n      <td>-0.163755</td>\n      <td>0.185059</td>\n      <td>0.320707</td>\n      <td>0.171313</td>\n      <td>-0.311237</td>\n      <td>-0.065305</td>\n      <td>0.147318</td>\n      <td>-0.204399</td>\n      <td>0.052760</td>\n    </tr>\n    <tr>\n      <th>10</th>\n      <td>0.244532</td>\n      <td>0.006038</td>\n      <td>0.242258</td>\n      <td>0.237284</td>\n      <td>0.083653</td>\n      <td>-0.426670</td>\n      <td>0.154341</td>\n      <td>0.331980</td>\n      <td>-0.122601</td>\n      <td>-0.168686</td>\n      <td>0.176487</td>\n      <td>-0.329947</td>\n      <td>-0.299925</td>\n      <td>0.468654</td>\n      <td>-0.071884</td>\n      <td>0.061974</td>\n    </tr>\n    <tr>\n      <th>11</th>\n      <td>-0.395944</td>\n      <td>0.199648</td>\n      <td>0.198086</td>\n      <td>0.286545</td>\n      <td>0.336537</td>\n      <td>-0.162261</td>\n      <td>-0.088011</td>\n      <td>0.009845</td>\n      <td>-0.121051</td>\n      <td>-0.353018</td>\n      <td>-0.075548</td>\n      <td>-0.202424</td>\n      <td>0.422044</td>\n      <td>-0.269778</td>\n      <td>-0.305181</td>\n      <td>-0.067819</td>\n    </tr>\n    <tr>\n      <th>12</th>\n      <td>0.000577</td>\n      <td>-0.083447</td>\n      <td>-0.018427</td>\n      <td>-0.421919</td>\n      <td>-0.161224</td>\n      <td>-0.079868</td>\n      <td>0.332668</td>\n      <td>-0.199164</td>\n      <td>0.365126</td>\n      <td>-0.466194</td>\n      <td>0.342629</td>\n      <td>-0.145118</td>\n      <td>-0.129070</td>\n      <td>-0.201643</td>\n      <td>-0.271120</td>\n      <td>-0.109737</td>\n    </tr>\n    <tr>\n      <th>13</th>\n      <td>-0.116767</td>\n      <td>-0.059973</td>\n      <td>0.093891</td>\n      <td>-0.138878</td>\n      <td>0.127412</td>\n      <td>-0.418745</td>\n      <td>0.671125</td>\n      <td>-0.202234</td>\n      <td>-0.189806</td>\n      <td>0.284634</td>\n      <td>-0.339489</td>\n      <td>0.080050</td>\n      <td>0.014063</td>\n      <td>-0.135850</td>\n      <td>0.119242</td>\n      <td>0.014218</td>\n    </tr>\n    <tr>\n      <th>14</th>\n      <td>-0.345526</td>\n      <td>0.129042</td>\n      <td>-0.087219</td>\n      <td>-0.415286</td>\n      <td>-0.112363</td>\n      <td>-0.268444</td>\n      <td>-0.138541</td>\n      <td>0.646919</td>\n      <td>0.301170</td>\n      <td>0.173698</td>\n      <td>-0.140033</td>\n      <td>-0.098103</td>\n      <td>0.079296</td>\n      <td>-0.016605</td>\n      <td>0.069518</td>\n      <td>-0.000065</td>\n    </tr>\n    <tr>\n      <th>15</th>\n      <td>0.105989</td>\n      <td>-0.014260</td>\n      <td>0.009443</td>\n      <td>0.222090</td>\n      <td>0.149325</td>\n      <td>-0.038161</td>\n      <td>-0.017500</td>\n      <td>-0.159660</td>\n      <td>0.636890</td>\n      <td>-0.293023</td>\n      <td>-0.492653</td>\n      <td>-0.076527</td>\n      <td>-0.026606</td>\n      <td>0.109878</td>\n      <td>0.365966</td>\n      <td>0.053214</td>\n    </tr>\n  </tbody>\n</table>\n</div>"
     },
     "metadata": {},
     "execution_count": 12
    }
   ],
   "source": [
    "# Rows represent the principal components for example PC1 = row 0, PC2 = row 1, etc\n",
    "weights_df"
   ]
  },
  {
   "cell_type": "code",
   "execution_count": 13,
   "metadata": {},
   "outputs": [
    {
     "output_type": "execute_result",
     "data": {
      "text/plain": [
       "   persons_04_65   females  persons_km2  non_australian  year_11_under  \\\n",
       "0       0.052699 -0.064037     -0.31624       -0.244323       0.383809   \n",
       "\n",
       "   non_proficient  unemployment_rate  below_poverty_line   renters  \\\n",
       "0       -0.037466           0.079417             0.13345 -0.218181   \n",
       "\n",
       "   multi_unit_housing  premature_deaths  copd_hosp  asthma_hosp  inf_pan_hosp  \\\n",
       "0           -0.391929          0.168997   0.320244     0.287105      0.267054   \n",
       "\n",
       "   neg_hospital_beds  neg_protected_areas  \n",
       "0           0.369551            -0.194808  "
      ],
      "text/html": "<div>\n<style scoped>\n    .dataframe tbody tr th:only-of-type {\n        vertical-align: middle;\n    }\n\n    .dataframe tbody tr th {\n        vertical-align: top;\n    }\n\n    .dataframe thead th {\n        text-align: right;\n    }\n</style>\n<table border=\"1\" class=\"dataframe\">\n  <thead>\n    <tr style=\"text-align: right;\">\n      <th></th>\n      <th>persons_04_65</th>\n      <th>females</th>\n      <th>persons_km2</th>\n      <th>non_australian</th>\n      <th>year_11_under</th>\n      <th>non_proficient</th>\n      <th>unemployment_rate</th>\n      <th>below_poverty_line</th>\n      <th>renters</th>\n      <th>multi_unit_housing</th>\n      <th>premature_deaths</th>\n      <th>copd_hosp</th>\n      <th>asthma_hosp</th>\n      <th>inf_pan_hosp</th>\n      <th>neg_hospital_beds</th>\n      <th>neg_protected_areas</th>\n    </tr>\n  </thead>\n  <tbody>\n    <tr>\n      <th>0</th>\n      <td>0.052699</td>\n      <td>-0.064037</td>\n      <td>-0.31624</td>\n      <td>-0.244323</td>\n      <td>0.383809</td>\n      <td>-0.037466</td>\n      <td>0.079417</td>\n      <td>0.13345</td>\n      <td>-0.218181</td>\n      <td>-0.391929</td>\n      <td>0.168997</td>\n      <td>0.320244</td>\n      <td>0.287105</td>\n      <td>0.267054</td>\n      <td>0.369551</td>\n      <td>-0.194808</td>\n    </tr>\n  </tbody>\n</table>\n</div>"
     },
     "metadata": {},
     "execution_count": 13
    }
   ],
   "source": [
    "# Printing weights for PC1\n",
    "weights_df.head(1)"
   ]
  },
  {
   "cell_type": "code",
   "execution_count": 14,
   "metadata": {},
   "outputs": [
    {
     "output_type": "stream",
     "name": "stdout",
     "text": [
      "1.0000000000000002\n"
     ]
    }
   ],
   "source": [
    "print(sum(pca.explained_variance_ratio_))"
   ]
  },
  {
   "cell_type": "code",
   "execution_count": 15,
   "metadata": {},
   "outputs": [
    {
     "output_type": "stream",
     "name": "stdout",
     "text": [
      "[4.73824256e-01 2.63433768e-01 9.32389914e-02 4.82346890e-02\n 3.55996789e-02 2.77017208e-02 2.47625973e-02 1.14086252e-02\n 6.79537415e-03 5.74321574e-03 3.02134250e-03 2.66844038e-03\n 1.74741196e-03 1.30981837e-03 3.17335012e-04 1.92734928e-04]\n"
     ]
    }
   ],
   "source": [
    "# explained_variance_ratio_ndarray of shape (n_components,) is the percentage of variance explained by each of the selected components.\n",
    "# If n_components is not set then all components are stored and the sum of the ratios is equal to 1.0.\n",
    "print(pca.explained_variance_ratio_)"
   ]
  },
  {
   "cell_type": "code",
   "execution_count": 16,
   "metadata": {},
   "outputs": [
    {
     "output_type": "execute_result",
     "data": {
      "text/plain": [
       "           0\n",
       "0   0.473824\n",
       "1   0.263434\n",
       "2   0.093239\n",
       "3   0.048235\n",
       "4   0.035600\n",
       "5   0.027702\n",
       "6   0.024763\n",
       "7   0.011409\n",
       "8   0.006795\n",
       "9   0.005743\n",
       "10  0.003021\n",
       "11  0.002668\n",
       "12  0.001747\n",
       "13  0.001310\n",
       "14  0.000317\n",
       "15  0.000193"
      ],
      "text/html": "<div>\n<style scoped>\n    .dataframe tbody tr th:only-of-type {\n        vertical-align: middle;\n    }\n\n    .dataframe tbody tr th {\n        vertical-align: top;\n    }\n\n    .dataframe thead th {\n        text-align: right;\n    }\n</style>\n<table border=\"1\" class=\"dataframe\">\n  <thead>\n    <tr style=\"text-align: right;\">\n      <th></th>\n      <th>0</th>\n    </tr>\n  </thead>\n  <tbody>\n    <tr>\n      <th>0</th>\n      <td>0.473824</td>\n    </tr>\n    <tr>\n      <th>1</th>\n      <td>0.263434</td>\n    </tr>\n    <tr>\n      <th>2</th>\n      <td>0.093239</td>\n    </tr>\n    <tr>\n      <th>3</th>\n      <td>0.048235</td>\n    </tr>\n    <tr>\n      <th>4</th>\n      <td>0.035600</td>\n    </tr>\n    <tr>\n      <th>5</th>\n      <td>0.027702</td>\n    </tr>\n    <tr>\n      <th>6</th>\n      <td>0.024763</td>\n    </tr>\n    <tr>\n      <th>7</th>\n      <td>0.011409</td>\n    </tr>\n    <tr>\n      <th>8</th>\n      <td>0.006795</td>\n    </tr>\n    <tr>\n      <th>9</th>\n      <td>0.005743</td>\n    </tr>\n    <tr>\n      <th>10</th>\n      <td>0.003021</td>\n    </tr>\n    <tr>\n      <th>11</th>\n      <td>0.002668</td>\n    </tr>\n    <tr>\n      <th>12</th>\n      <td>0.001747</td>\n    </tr>\n    <tr>\n      <th>13</th>\n      <td>0.001310</td>\n    </tr>\n    <tr>\n      <th>14</th>\n      <td>0.000317</td>\n    </tr>\n    <tr>\n      <th>15</th>\n      <td>0.000193</td>\n    </tr>\n  </tbody>\n</table>\n</div>"
     },
     "metadata": {},
     "execution_count": 16
    }
   ],
   "source": [
    "# Rows represent the principal components for example PC1 = row 0, PC2 = row 1, etc\n",
    "ratio_df = pd.DataFrame(pca.explained_variance_ratio_)\n",
    "ratio_df"
   ]
  },
  {
   "cell_type": "code",
   "execution_count": 17,
   "metadata": {},
   "outputs": [],
   "source": [
    "# PCA by category\n",
    "# Socio-Demographics\n",
    "demo_df = indicators_df[['persons_04_65','females','persons_km2']]\n",
    "# Socio Educational\n",
    "edu_df = indicators_df[['non_australian','year_11_under', 'non_proficient']]\n",
    "# Economic\n",
    "eco_df = indicators_df[['unemployment_rate','below_poverty_line']]\n",
    "# Health\n",
    "health_df = indicators_df[['premature_deaths', 'copd_hosp', 'asthma_hosp', 'inf_pan_hosp','neg_hospital_beds']]\n",
    "# Built environment\n",
    "env_df = indicators_df[['renters', 'multi_unit_housing','neg_protected_areas']]"
   ]
  },
  {
   "cell_type": "code",
   "execution_count": 18,
   "metadata": {},
   "outputs": [],
   "source": [
    "# Socio-Demographics\n",
    "pca_demo = PCA(1)\n",
    "pca_demo.fit(X=demo_df)\n",
    "weights_demo = pca_demo.components_"
   ]
  },
  {
   "cell_type": "code",
   "execution_count": 19,
   "metadata": {},
   "outputs": [
    {
     "output_type": "execute_result",
     "data": {
      "text/plain": [
       "array([[-0.50509671, -0.26529065,  0.82127838]])"
      ]
     },
     "metadata": {},
     "execution_count": 19
    }
   ],
   "source": [
    "weights_demo"
   ]
  },
  {
   "cell_type": "code",
   "execution_count": 20,
   "metadata": {},
   "outputs": [],
   "source": [
    "weights_demo_df = pd.DataFrame(weights_demo, columns=['persons_04_65','females','persons_km2'])"
   ]
  },
  {
   "cell_type": "code",
   "execution_count": 21,
   "metadata": {},
   "outputs": [
    {
     "output_type": "execute_result",
     "data": {
      "text/plain": [
       "   persons_04_65   females  persons_km2\n",
       "0      -0.505097 -0.265291     0.821278"
      ],
      "text/html": "<div>\n<style scoped>\n    .dataframe tbody tr th:only-of-type {\n        vertical-align: middle;\n    }\n\n    .dataframe tbody tr th {\n        vertical-align: top;\n    }\n\n    .dataframe thead th {\n        text-align: right;\n    }\n</style>\n<table border=\"1\" class=\"dataframe\">\n  <thead>\n    <tr style=\"text-align: right;\">\n      <th></th>\n      <th>persons_04_65</th>\n      <th>females</th>\n      <th>persons_km2</th>\n    </tr>\n  </thead>\n  <tbody>\n    <tr>\n      <th>0</th>\n      <td>-0.505097</td>\n      <td>-0.265291</td>\n      <td>0.821278</td>\n    </tr>\n  </tbody>\n</table>\n</div>"
     },
     "metadata": {},
     "execution_count": 21
    }
   ],
   "source": [
    "weights_demo_df"
   ]
  },
  {
   "cell_type": "code",
   "execution_count": 22,
   "metadata": {},
   "outputs": [
    {
     "output_type": "execute_result",
     "data": {
      "text/plain": [
       "          0\n",
       "0  0.556302"
      ],
      "text/html": "<div>\n<style scoped>\n    .dataframe tbody tr th:only-of-type {\n        vertical-align: middle;\n    }\n\n    .dataframe tbody tr th {\n        vertical-align: top;\n    }\n\n    .dataframe thead th {\n        text-align: right;\n    }\n</style>\n<table border=\"1\" class=\"dataframe\">\n  <thead>\n    <tr style=\"text-align: right;\">\n      <th></th>\n      <th>0</th>\n    </tr>\n  </thead>\n  <tbody>\n    <tr>\n      <th>0</th>\n      <td>0.556302</td>\n    </tr>\n  </tbody>\n</table>\n</div>"
     },
     "metadata": {},
     "execution_count": 22
    }
   ],
   "source": [
    "# Rows represent the principal components for example PC1 = row 0, PC2 = row 1, etc\n",
    "ratio_demo_df = pd.DataFrame(pca_demo.explained_variance_ratio_)\n",
    "ratio_demo_df"
   ]
  },
  {
   "cell_type": "code",
   "execution_count": 23,
   "metadata": {},
   "outputs": [
    {
     "output_type": "execute_result",
     "data": {
      "text/plain": [
       "   non_australian  year_11_under  non_proficient\n",
       "0       -0.600776        0.75188        -0.27156"
      ],
      "text/html": "<div>\n<style scoped>\n    .dataframe tbody tr th:only-of-type {\n        vertical-align: middle;\n    }\n\n    .dataframe tbody tr th {\n        vertical-align: top;\n    }\n\n    .dataframe thead th {\n        text-align: right;\n    }\n</style>\n<table border=\"1\" class=\"dataframe\">\n  <thead>\n    <tr style=\"text-align: right;\">\n      <th></th>\n      <th>non_australian</th>\n      <th>year_11_under</th>\n      <th>non_proficient</th>\n    </tr>\n  </thead>\n  <tbody>\n    <tr>\n      <th>0</th>\n      <td>-0.600776</td>\n      <td>0.75188</td>\n      <td>-0.27156</td>\n    </tr>\n  </tbody>\n</table>\n</div>"
     },
     "metadata": {},
     "execution_count": 23
    }
   ],
   "source": [
    "# Socio-Educational\n",
    "pca_edu = PCA(1)\n",
    "pca_edu.fit_transform(X=edu_df)\n",
    "weights_edu = pca_edu.components_\n",
    "weights_edu_df = pd.DataFrame(weights_edu, columns=['non_australian','year_11_under', 'non_proficient'])\n",
    "weights_edu_df"
   ]
  },
  {
   "cell_type": "code",
   "execution_count": 24,
   "metadata": {},
   "outputs": [
    {
     "output_type": "execute_result",
     "data": {
      "text/plain": [
       "          0\n",
       "0  0.600288"
      ],
      "text/html": "<div>\n<style scoped>\n    .dataframe tbody tr th:only-of-type {\n        vertical-align: middle;\n    }\n\n    .dataframe tbody tr th {\n        vertical-align: top;\n    }\n\n    .dataframe thead th {\n        text-align: right;\n    }\n</style>\n<table border=\"1\" class=\"dataframe\">\n  <thead>\n    <tr style=\"text-align: right;\">\n      <th></th>\n      <th>0</th>\n    </tr>\n  </thead>\n  <tbody>\n    <tr>\n      <th>0</th>\n      <td>0.600288</td>\n    </tr>\n  </tbody>\n</table>\n</div>"
     },
     "metadata": {},
     "execution_count": 24
    }
   ],
   "source": [
    "# Rows represent the principal components for example PC1 = row 0, PC2 = row 1, etc\n",
    "ratio_edu_df = pd.DataFrame(pca_edu.explained_variance_ratio_)\n",
    "ratio_edu_df"
   ]
  },
  {
   "cell_type": "code",
   "execution_count": 25,
   "metadata": {},
   "outputs": [
    {
     "output_type": "execute_result",
     "data": {
      "text/plain": [
       "   unemployment_rate  below_poverty_line\n",
       "0           0.763536            0.645765"
      ],
      "text/html": "<div>\n<style scoped>\n    .dataframe tbody tr th:only-of-type {\n        vertical-align: middle;\n    }\n\n    .dataframe tbody tr th {\n        vertical-align: top;\n    }\n\n    .dataframe thead th {\n        text-align: right;\n    }\n</style>\n<table border=\"1\" class=\"dataframe\">\n  <thead>\n    <tr style=\"text-align: right;\">\n      <th></th>\n      <th>unemployment_rate</th>\n      <th>below_poverty_line</th>\n    </tr>\n  </thead>\n  <tbody>\n    <tr>\n      <th>0</th>\n      <td>0.763536</td>\n      <td>0.645765</td>\n    </tr>\n  </tbody>\n</table>\n</div>"
     },
     "metadata": {},
     "execution_count": 25
    }
   ],
   "source": [
    "# Economic/Financial\n",
    "pca_eco = PCA(1)\n",
    "pca_eco.fit_transform(X=eco_df)\n",
    "weights_eco = pca_eco.components_\n",
    "weights_eco_df = pd.DataFrame(weights_eco, columns=['unemployment_rate','below_poverty_line'])\n",
    "weights_eco_df"
   ]
  },
  {
   "cell_type": "code",
   "execution_count": 26,
   "metadata": {},
   "outputs": [
    {
     "output_type": "execute_result",
     "data": {
      "text/plain": [
       "          0\n",
       "0  0.950346"
      ],
      "text/html": "<div>\n<style scoped>\n    .dataframe tbody tr th:only-of-type {\n        vertical-align: middle;\n    }\n\n    .dataframe tbody tr th {\n        vertical-align: top;\n    }\n\n    .dataframe thead th {\n        text-align: right;\n    }\n</style>\n<table border=\"1\" class=\"dataframe\">\n  <thead>\n    <tr style=\"text-align: right;\">\n      <th></th>\n      <th>0</th>\n    </tr>\n  </thead>\n  <tbody>\n    <tr>\n      <th>0</th>\n      <td>0.950346</td>\n    </tr>\n  </tbody>\n</table>\n</div>"
     },
     "metadata": {},
     "execution_count": 26
    }
   ],
   "source": [
    "# Rows represent the principal components for example PC1 = row 0, PC2 = row 1, etc\n",
    "ratio_eco_df = pd.DataFrame(pca_eco.explained_variance_ratio_)\n",
    "ratio_eco_df"
   ]
  },
  {
   "cell_type": "code",
   "execution_count": 27,
   "metadata": {},
   "outputs": [
    {
     "output_type": "execute_result",
     "data": {
      "text/plain": [
       "   premature_deaths  copd_hosp  asthma_hosp  inf_pan_hosp  neg_hospital_beds\n",
       "0          0.380248   0.532715     0.446276      0.385843           0.472852"
      ],
      "text/html": "<div>\n<style scoped>\n    .dataframe tbody tr th:only-of-type {\n        vertical-align: middle;\n    }\n\n    .dataframe tbody tr th {\n        vertical-align: top;\n    }\n\n    .dataframe thead th {\n        text-align: right;\n    }\n</style>\n<table border=\"1\" class=\"dataframe\">\n  <thead>\n    <tr style=\"text-align: right;\">\n      <th></th>\n      <th>premature_deaths</th>\n      <th>copd_hosp</th>\n      <th>asthma_hosp</th>\n      <th>inf_pan_hosp</th>\n      <th>neg_hospital_beds</th>\n    </tr>\n  </thead>\n  <tbody>\n    <tr>\n      <th>0</th>\n      <td>0.380248</td>\n      <td>0.532715</td>\n      <td>0.446276</td>\n      <td>0.385843</td>\n      <td>0.472852</td>\n    </tr>\n  </tbody>\n</table>\n</div>"
     },
     "metadata": {},
     "execution_count": 27
    }
   ],
   "source": [
    "# Health\n",
    "pca_health = PCA(1)\n",
    "pca_health.fit_transform(X=health_df)\n",
    "weights_health = pca_health.components_\n",
    "weights_health_df = pd.DataFrame(weights_health, columns=['premature_deaths', 'copd_hosp', 'asthma_hosp', 'inf_pan_hosp','neg_hospital_beds'])\n",
    "weights_health_df"
   ]
  },
  {
   "cell_type": "code",
   "execution_count": 28,
   "metadata": {},
   "outputs": [
    {
     "output_type": "execute_result",
     "data": {
      "text/plain": [
       "          0\n",
       "0  0.729075"
      ],
      "text/html": "<div>\n<style scoped>\n    .dataframe tbody tr th:only-of-type {\n        vertical-align: middle;\n    }\n\n    .dataframe tbody tr th {\n        vertical-align: top;\n    }\n\n    .dataframe thead th {\n        text-align: right;\n    }\n</style>\n<table border=\"1\" class=\"dataframe\">\n  <thead>\n    <tr style=\"text-align: right;\">\n      <th></th>\n      <th>0</th>\n    </tr>\n  </thead>\n  <tbody>\n    <tr>\n      <th>0</th>\n      <td>0.729075</td>\n    </tr>\n  </tbody>\n</table>\n</div>"
     },
     "metadata": {},
     "execution_count": 28
    }
   ],
   "source": [
    "# Rows represent the principal components for example PC1 = row 0, PC2 = row 1, etc\n",
    "ratio_health_df = pd.DataFrame(pca_health.explained_variance_ratio_)\n",
    "ratio_health_df"
   ]
  },
  {
   "cell_type": "code",
   "execution_count": 29,
   "metadata": {},
   "outputs": [
    {
     "output_type": "execute_result",
     "data": {
      "text/plain": [
       "    renters  multi_unit_housing  neg_protected_areas\n",
       "0 -0.533682           -0.644132            -0.547976"
      ],
      "text/html": "<div>\n<style scoped>\n    .dataframe tbody tr th:only-of-type {\n        vertical-align: middle;\n    }\n\n    .dataframe tbody tr th {\n        vertical-align: top;\n    }\n\n    .dataframe thead th {\n        text-align: right;\n    }\n</style>\n<table border=\"1\" class=\"dataframe\">\n  <thead>\n    <tr style=\"text-align: right;\">\n      <th></th>\n      <th>renters</th>\n      <th>multi_unit_housing</th>\n      <th>neg_protected_areas</th>\n    </tr>\n  </thead>\n  <tbody>\n    <tr>\n      <th>0</th>\n      <td>-0.533682</td>\n      <td>-0.644132</td>\n      <td>-0.547976</td>\n    </tr>\n  </tbody>\n</table>\n</div>"
     },
     "metadata": {},
     "execution_count": 29
    }
   ],
   "source": [
    "# Built Environment \n",
    "pca_env = PCA(1)\n",
    "pca_env.fit_transform(X=env_df)\n",
    "weights_env = pca_env.components_\n",
    "weights_env_df = pd.DataFrame(weights_env, columns=['renters', 'multi_unit_housing','neg_protected_areas'])\n",
    "weights_env_df"
   ]
  },
  {
   "cell_type": "code",
   "execution_count": 30,
   "metadata": {},
   "outputs": [
    {
     "output_type": "execute_result",
     "data": {
      "text/plain": [
       "          0\n",
       "0  0.740665"
      ],
      "text/html": "<div>\n<style scoped>\n    .dataframe tbody tr th:only-of-type {\n        vertical-align: middle;\n    }\n\n    .dataframe tbody tr th {\n        vertical-align: top;\n    }\n\n    .dataframe thead th {\n        text-align: right;\n    }\n</style>\n<table border=\"1\" class=\"dataframe\">\n  <thead>\n    <tr style=\"text-align: right;\">\n      <th></th>\n      <th>0</th>\n    </tr>\n  </thead>\n  <tbody>\n    <tr>\n      <th>0</th>\n      <td>0.740665</td>\n    </tr>\n  </tbody>\n</table>\n</div>"
     },
     "metadata": {},
     "execution_count": 30
    }
   ],
   "source": [
    "# Rows represent the principal components for example PC1 = row 0, PC2 = row 1, etc\n",
    "ratio_env_df = pd.DataFrame(pca_env.explained_variance_ratio_)\n",
    "ratio_env_df"
   ]
  }
 ]
}