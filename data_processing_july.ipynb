{
 "metadata": {
  "language_info": {
   "codemirror_mode": {
    "name": "ipython",
    "version": 3
   },
   "file_extension": ".py",
   "mimetype": "text/x-python",
   "name": "python",
   "nbconvert_exporter": "python",
   "pygments_lexer": "ipython3",
   "version": "3.7.5"
  },
  "orig_nbformat": 4,
  "kernelspec": {
   "name": "python3",
   "display_name": "Python 3.7.5 64-bit"
  },
  "interpreter": {
   "hash": "90c1d9e294a1bc1b5070fdc4145e6b29b525528d72433500027fe645953bb2f2"
  }
 },
 "nbformat": 4,
 "nbformat_minor": 2,
 "cells": [
  {
   "cell_type": "code",
   "execution_count": 1,
   "metadata": {},
   "outputs": [],
   "source": [
    "import pandas as pd\n",
    "import requests\n",
    "import json\n",
    "import csv\n",
    "import glob\n",
    "import zipfile"
   ]
  },
  {
   "cell_type": "code",
   "execution_count": 2,
   "metadata": {},
   "outputs": [],
   "source": [
    "sensor_id = pd.read_csv(\"gsr_communitysites_districts.csv\")"
   ]
  },
  {
   "cell_type": "code",
   "execution_count": 3,
   "metadata": {},
   "outputs": [
    {
     "output_type": "execute_result",
     "data": {
      "text/plain": [
       "   OBJECTID   Latitude   Longitude  Number    District  Sensor_ID Date_insta\n",
       "0         1 -33.909915  151.156660       3  Inner West   11454704   08-13-18\n",
       "1         2 -33.862485  151.165923       4  Inner West   11452996        NaN\n",
       "2         3 -33.874345  151.164693       7  Inner West    7725378   09-04-18\n",
       "3         4 -33.881957  151.178074       8      Sydney   13947625   09-03-18\n",
       "4         5 -33.882251  151.134380       9  Inner West   13947371   08-27-18"
      ],
      "text/html": "<div>\n<style scoped>\n    .dataframe tbody tr th:only-of-type {\n        vertical-align: middle;\n    }\n\n    .dataframe tbody tr th {\n        vertical-align: top;\n    }\n\n    .dataframe thead th {\n        text-align: right;\n    }\n</style>\n<table border=\"1\" class=\"dataframe\">\n  <thead>\n    <tr style=\"text-align: right;\">\n      <th></th>\n      <th>OBJECTID</th>\n      <th>Latitude</th>\n      <th>Longitude</th>\n      <th>Number</th>\n      <th>District</th>\n      <th>Sensor_ID</th>\n      <th>Date_insta</th>\n    </tr>\n  </thead>\n  <tbody>\n    <tr>\n      <th>0</th>\n      <td>1</td>\n      <td>-33.909915</td>\n      <td>151.156660</td>\n      <td>3</td>\n      <td>Inner West</td>\n      <td>11454704</td>\n      <td>08-13-18</td>\n    </tr>\n    <tr>\n      <th>1</th>\n      <td>2</td>\n      <td>-33.862485</td>\n      <td>151.165923</td>\n      <td>4</td>\n      <td>Inner West</td>\n      <td>11452996</td>\n      <td>NaN</td>\n    </tr>\n    <tr>\n      <th>2</th>\n      <td>3</td>\n      <td>-33.874345</td>\n      <td>151.164693</td>\n      <td>7</td>\n      <td>Inner West</td>\n      <td>7725378</td>\n      <td>09-04-18</td>\n    </tr>\n    <tr>\n      <th>3</th>\n      <td>4</td>\n      <td>-33.881957</td>\n      <td>151.178074</td>\n      <td>8</td>\n      <td>Sydney</td>\n      <td>13947625</td>\n      <td>09-03-18</td>\n    </tr>\n    <tr>\n      <th>4</th>\n      <td>5</td>\n      <td>-33.882251</td>\n      <td>151.134380</td>\n      <td>9</td>\n      <td>Inner West</td>\n      <td>13947371</td>\n      <td>08-27-18</td>\n    </tr>\n  </tbody>\n</table>\n</div>"
     },
     "metadata": {},
     "execution_count": 3
    }
   ],
   "source": [
    "sensor_id.head()"
   ]
  },
  {
   "cell_type": "code",
   "execution_count": 4,
   "metadata": {
    "tags": []
   },
   "outputs": [],
   "source": [
    "name_list = []\n",
    "df_list = []\n",
    "for zip_file in glob.glob('c:\\\\Users\\\\davje\\\\Documents\\\\GitRepository\\\\air_pollution_sydney\\\\data_sensors_july\\\\*.zip'):\n",
    "    sensor = zip_file[91:-12]\n",
    "    day = zip_file[-6:-4]\n",
    "    name_df = \"df_\" + sensor +\"_\" + day\n",
    "    name_list.append(name_df)\n",
    "    zf = zipfile.ZipFile(zip_file)\n",
    "    dfs = [pd.read_csv(zf.open(f), sep=\";\") for f in zf.namelist()]\n",
    "    vars()[name_df] = pd.concat(dfs,ignore_index=True)\n",
    "    df_list.append(vars()[name_df])"
   ]
  },
  {
   "cell_type": "code",
   "execution_count": 5,
   "metadata": {},
   "outputs": [
    {
     "output_type": "execute_result",
     "data": {
      "text/plain": [
       "15"
      ]
     },
     "metadata": {},
     "execution_count": 5
    }
   ],
   "source": [
    "len(name_list)"
   ]
  },
  {
   "cell_type": "code",
   "execution_count": 6,
   "metadata": {},
   "outputs": [
    {
     "output_type": "stream",
     "name": "stdout",
     "text": [
      "['df_7270532_10', 'df_7270532_11', 'df_7270532_12', 'df_7270532_01', 'df_7274964_10', 'df_7274964_11', 'df_7274964_12', 'df_7274964_01', 'df_7275671_10', 'df_7275671_11', 'df_7275671_12', 'df_7275671_01', 'df_7723233_11', 'df_7723233_12', 'df_7723233_01']\n"
     ]
    }
   ],
   "source": [
    "print(name_list)"
   ]
  },
  {
   "cell_type": "code",
   "execution_count": 7,
   "metadata": {},
   "outputs": [],
   "source": [
    "df_7270532 = pd.concat([df_7270532_10, df_7270532_11, df_7270532_12, df_7270532_01])\n",
    "df_7274964 = pd.concat([df_7274964_10, df_7274964_11, df_7274964_12, df_7274964_01])\n",
    "df_7275671 = pd.concat([df_7275671_10, df_7275671_11, df_7275671_12, df_7275671_01])\n",
    "df_7723233 = pd.concat([df_7270532_10, df_7723233_11, df_7723233_12, df_7723233_01])"
   ]
  },
  {
   "cell_type": "code",
   "execution_count": 8,
   "metadata": {},
   "outputs": [],
   "source": [
    "df_7270532 = df_7270532[[\"Time\", \"SDS_P1\", \"SDS_P2\"]]\n",
    "df_7274964 = df_7274964[[\"Time\", \"SDS_P1\", \"SDS_P2\"]]\n",
    "df_7275671 = df_7275671[[\"Time\", \"SDS_P1\", \"SDS_P2\"]]\n",
    "df_7723233 = df_7723233[[\"Time\", \"SDS_P1\", \"SDS_P2\"]]"
   ]
  },
  {
   "cell_type": "code",
   "execution_count": 9,
   "metadata": {},
   "outputs": [],
   "source": [
    "df_7270532[\"Time\"] = pd.to_datetime(df_7270532.Time)\n",
    "df_7274964[\"Time\"] = pd.to_datetime(df_7274964.Time)\n",
    "df_7275671[\"Time\"] = pd.to_datetime(df_7275671.Time)\n",
    "df_7723233[\"Time\"] = pd.to_datetime(df_7723233.Time)"
   ]
  },
  {
   "cell_type": "code",
   "execution_count": 10,
   "metadata": {},
   "outputs": [],
   "source": [
    "df_7270532 = df_7270532[(df_7270532[\"Time\"] >=\"2019-10-25\") & (df_7270532[\"Time\"] <= \"2020-01-26\")]\n",
    "df_7274964 = df_7274964[(df_7274964[\"Time\"] >=\"2019-10-25\") & (df_7274964[\"Time\"] <= \"2020-01-26\")]\n",
    "df_7275671 = df_7275671[(df_7275671[\"Time\"] >=\"2019-10-25\") & (df_7275671[\"Time\"] <= \"2020-01-26\")]\n",
    "df_7723233 = df_7723233[(df_7723233[\"Time\"] >=\"2019-10-25\") & (df_7723233[\"Time\"] <= \"2020-01-26\")]"
   ]
  },
  {
   "cell_type": "code",
   "execution_count": 11,
   "metadata": {},
   "outputs": [],
   "source": [
    "df_list = [df_7270532, df_7274964, df_7275671, df_7723233]\n",
    "name_list = [\"df_7270532\", \"df_7274964\", \"df_7275671\", \"df_7723233\"]\n",
    "mean_dic ={}\n",
    "sum_dic = {}\n",
    "def get_mean(df, name_df):\n",
    "    mean_dic[name_df + \"_p1\"] = df[\"SDS_P1\"].mean()\n",
    "    mean_dic[name_df + \"_p2\"] = df[\"SDS_P2\"].mean()\n",
    "def get_sum(df, name_df):\n",
    "    sum_dic[name_df + \"_p1\"] = df[\"SDS_P1\"].sum()\n",
    "    sum_dic[name_df + \"_p2\"] = df[\"SDS_P2\"].sum()\n"
   ]
  },
  {
   "cell_type": "code",
   "execution_count": 12,
   "metadata": {
    "tags": []
   },
   "outputs": [],
   "source": [
    "mean_dic ={}\n",
    "sum_dic= {}\n",
    "for df, name_df in zip(df_list, name_list):\n",
    "    get_sum(df, name_df)\n",
    "    get_mean(df, name_df)\n"
   ]
  },
  {
   "cell_type": "code",
   "execution_count": 13,
   "metadata": {},
   "outputs": [],
   "source": [
    "mean_df = pd.DataFrame.from_dict(mean_dic, orient='index')"
   ]
  },
  {
   "cell_type": "code",
   "execution_count": 14,
   "metadata": {},
   "outputs": [
    {
     "output_type": "execute_result",
     "data": {
      "text/plain": [
       "                       0\n",
       "df_7270532_p1  33.837877\n",
       "df_7270532_p2  18.179006\n",
       "df_7274964_p1  26.285351\n",
       "df_7274964_p2  13.458884\n",
       "df_7275671_p1  53.800102\n",
       "df_7275671_p2  28.120698\n",
       "df_7723233_p1  34.269354\n",
       "df_7723233_p2  18.524793"
      ],
      "text/html": "<div>\n<style scoped>\n    .dataframe tbody tr th:only-of-type {\n        vertical-align: middle;\n    }\n\n    .dataframe tbody tr th {\n        vertical-align: top;\n    }\n\n    .dataframe thead th {\n        text-align: right;\n    }\n</style>\n<table border=\"1\" class=\"dataframe\">\n  <thead>\n    <tr style=\"text-align: right;\">\n      <th></th>\n      <th>0</th>\n    </tr>\n  </thead>\n  <tbody>\n    <tr>\n      <th>df_7270532_p1</th>\n      <td>33.837877</td>\n    </tr>\n    <tr>\n      <th>df_7270532_p2</th>\n      <td>18.179006</td>\n    </tr>\n    <tr>\n      <th>df_7274964_p1</th>\n      <td>26.285351</td>\n    </tr>\n    <tr>\n      <th>df_7274964_p2</th>\n      <td>13.458884</td>\n    </tr>\n    <tr>\n      <th>df_7275671_p1</th>\n      <td>53.800102</td>\n    </tr>\n    <tr>\n      <th>df_7275671_p2</th>\n      <td>28.120698</td>\n    </tr>\n    <tr>\n      <th>df_7723233_p1</th>\n      <td>34.269354</td>\n    </tr>\n    <tr>\n      <th>df_7723233_p2</th>\n      <td>18.524793</td>\n    </tr>\n  </tbody>\n</table>\n</div>"
     },
     "metadata": {},
     "execution_count": 14
    }
   ],
   "source": [
    "mean_df"
   ]
  },
  {
   "cell_type": "code",
   "execution_count": 15,
   "metadata": {},
   "outputs": [],
   "source": [
    "mean_df.to_csv('mean_sensors_july.csv')"
   ]
  },
  {
   "cell_type": "code",
   "execution_count": 16,
   "metadata": {},
   "outputs": [],
   "source": [
    "df_7270532.to_csv('df_7270532.csv')\n",
    "df_7274964.to_csv('df_7274964.csv')\n",
    "df_7275671.to_csv('df_7275671.csv')\n",
    "df_7723233.to_csv('df_7723233.csv')"
   ]
  }
 ]
}