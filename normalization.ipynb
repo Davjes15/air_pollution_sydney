{
 "metadata": {
  "language_info": {
   "codemirror_mode": {
    "name": "ipython",
    "version": 3
   },
   "file_extension": ".py",
   "mimetype": "text/x-python",
   "name": "python",
   "nbconvert_exporter": "python",
   "pygments_lexer": "ipython3",
   "version": "3.7.5"
  },
  "orig_nbformat": 4,
  "kernelspec": {
   "name": "python3",
   "display_name": "Python 3.7.5 64-bit"
  },
  "interpreter": {
   "hash": "90c1d9e294a1bc1b5070fdc4145e6b29b525528d72433500027fe645953bb2f2"
  }
 },
 "nbformat": 4,
 "nbformat_minor": 2,
 "cells": [
  {
   "cell_type": "code",
   "execution_count": 1,
   "metadata": {},
   "outputs": [],
   "source": [
    "import pandas as pd\n",
    "from sklearn.preprocessing import MinMaxScaler, StandardScaler"
   ]
  },
  {
   "cell_type": "code",
   "execution_count": 2,
   "metadata": {},
   "outputs": [],
   "source": [
    "hazard_df = pd.read_csv(\"pm10_pm2p5_hazard_calculation.csv\")"
   ]
  },
  {
   "cell_type": "code",
   "execution_count": 3,
   "metadata": {},
   "outputs": [
    {
     "output_type": "execute_result",
     "data": {
      "text/plain": [
       "               district  november_pm10  december_pm10  november_pm2p5  \\\n",
       "0             Blacktown      51.173333      52.216129       24.295805   \n",
       "1                Camden      38.933333      61.648387       17.524138   \n",
       "2          Campbelltown      39.068966      51.879310       17.453333   \n",
       "3  Canterbury-Bankstown      40.685000      45.933037       19.819298   \n",
       "4             Hawksbury      50.120690      56.222581       26.093103   \n",
       "\n",
       "   december_pm2p5  \n",
       "0       26.364516  \n",
       "1       43.300000  \n",
       "2       33.645161  \n",
       "3       25.603560  \n",
       "4       31.290000  "
      ],
      "text/html": "<div>\n<style scoped>\n    .dataframe tbody tr th:only-of-type {\n        vertical-align: middle;\n    }\n\n    .dataframe tbody tr th {\n        vertical-align: top;\n    }\n\n    .dataframe thead th {\n        text-align: right;\n    }\n</style>\n<table border=\"1\" class=\"dataframe\">\n  <thead>\n    <tr style=\"text-align: right;\">\n      <th></th>\n      <th>district</th>\n      <th>november_pm10</th>\n      <th>december_pm10</th>\n      <th>november_pm2p5</th>\n      <th>december_pm2p5</th>\n    </tr>\n  </thead>\n  <tbody>\n    <tr>\n      <th>0</th>\n      <td>Blacktown</td>\n      <td>51.173333</td>\n      <td>52.216129</td>\n      <td>24.295805</td>\n      <td>26.364516</td>\n    </tr>\n    <tr>\n      <th>1</th>\n      <td>Camden</td>\n      <td>38.933333</td>\n      <td>61.648387</td>\n      <td>17.524138</td>\n      <td>43.300000</td>\n    </tr>\n    <tr>\n      <th>2</th>\n      <td>Campbelltown</td>\n      <td>39.068966</td>\n      <td>51.879310</td>\n      <td>17.453333</td>\n      <td>33.645161</td>\n    </tr>\n    <tr>\n      <th>3</th>\n      <td>Canterbury-Bankstown</td>\n      <td>40.685000</td>\n      <td>45.933037</td>\n      <td>19.819298</td>\n      <td>25.603560</td>\n    </tr>\n    <tr>\n      <th>4</th>\n      <td>Hawksbury</td>\n      <td>50.120690</td>\n      <td>56.222581</td>\n      <td>26.093103</td>\n      <td>31.290000</td>\n    </tr>\n  </tbody>\n</table>\n</div>"
     },
     "metadata": {},
     "execution_count": 3
    }
   ],
   "source": [
    "hazard_df.head()"
   ]
  },
  {
   "cell_type": "code",
   "execution_count": 4,
   "metadata": {},
   "outputs": [
    {
     "output_type": "execute_result",
     "data": {
      "text/plain": [
       "Index(['district', 'november_pm10', 'december_pm10', 'november_pm2p5',\n",
       "       'december_pm2p5'],\n",
       "      dtype='object')"
      ]
     },
     "metadata": {},
     "execution_count": 4
    }
   ],
   "source": [
    "hazard_df.columns"
   ]
  },
  {
   "cell_type": "code",
   "execution_count": 5,
   "metadata": {},
   "outputs": [],
   "source": [
    "indicadors_df = pd.read_csv(\"indicators_per_district.csv\")"
   ]
  },
  {
   "cell_type": "code",
   "execution_count": 6,
   "metadata": {},
   "outputs": [
    {
     "output_type": "execute_result",
     "data": {
      "text/plain": [
       "         District  persons_04_65  females  persons_km2  non_australian  \\\n",
       "0         Bayside           20.1    49.71       3575.8            26.3   \n",
       "1       Blacktown           18.6    49.90       1559.9            19.3   \n",
       "2  Blue Mountains           25.9    51.31         55.3             9.9   \n",
       "3         Burwood           18.4    50.76       5697.5            35.7   \n",
       "4          Camden           18.2    50.77        504.6            10.4   \n",
       "\n",
       "   arrived_within_5  year_11_under  non_proficient  unemployment_rate  \\\n",
       "0              9.80           37.8            7.27                6.0   \n",
       "1              5.62           44.7            4.24                7.3   \n",
       "2              1.02           45.2            0.37                4.7   \n",
       "3             16.70           29.6           12.87                7.6   \n",
       "4              1.43           52.6            1.16                4.1   \n",
       "\n",
       "   below_poverty_line  renters  multi_unit_housing  premature_deaths  \\\n",
       "0                45.8     42.5               46.36             29.01   \n",
       "1                45.9     35.6                5.98             44.09   \n",
       "2                43.3     21.4                2.61             33.51   \n",
       "3                51.1     46.0               44.02             27.24   \n",
       "4                38.4     23.8                1.38             38.71   \n",
       "\n",
       "   hospital_beds_1000  copd_hosp  asthma_hosp  inf_pan_hosp  protected_areas  \n",
       "0                1.46      168.8         96.0         309.9             6.46  \n",
       "1                0.81      310.9        167.8         421.1            10.49  \n",
       "2                0.64      156.4        167.9         389.3            76.07  \n",
       "3                1.69      109.2         81.8         281.9             0.00  \n",
       "4                0.61      216.4        128.8         409.1             1.71  "
      ],
      "text/html": "<div>\n<style scoped>\n    .dataframe tbody tr th:only-of-type {\n        vertical-align: middle;\n    }\n\n    .dataframe tbody tr th {\n        vertical-align: top;\n    }\n\n    .dataframe thead th {\n        text-align: right;\n    }\n</style>\n<table border=\"1\" class=\"dataframe\">\n  <thead>\n    <tr style=\"text-align: right;\">\n      <th></th>\n      <th>District</th>\n      <th>persons_04_65</th>\n      <th>females</th>\n      <th>persons_km2</th>\n      <th>non_australian</th>\n      <th>arrived_within_5</th>\n      <th>year_11_under</th>\n      <th>non_proficient</th>\n      <th>unemployment_rate</th>\n      <th>below_poverty_line</th>\n      <th>renters</th>\n      <th>multi_unit_housing</th>\n      <th>premature_deaths</th>\n      <th>hospital_beds_1000</th>\n      <th>copd_hosp</th>\n      <th>asthma_hosp</th>\n      <th>inf_pan_hosp</th>\n      <th>protected_areas</th>\n    </tr>\n  </thead>\n  <tbody>\n    <tr>\n      <th>0</th>\n      <td>Bayside</td>\n      <td>20.1</td>\n      <td>49.71</td>\n      <td>3575.8</td>\n      <td>26.3</td>\n      <td>9.80</td>\n      <td>37.8</td>\n      <td>7.27</td>\n      <td>6.0</td>\n      <td>45.8</td>\n      <td>42.5</td>\n      <td>46.36</td>\n      <td>29.01</td>\n      <td>1.46</td>\n      <td>168.8</td>\n      <td>96.0</td>\n      <td>309.9</td>\n      <td>6.46</td>\n    </tr>\n    <tr>\n      <th>1</th>\n      <td>Blacktown</td>\n      <td>18.6</td>\n      <td>49.90</td>\n      <td>1559.9</td>\n      <td>19.3</td>\n      <td>5.62</td>\n      <td>44.7</td>\n      <td>4.24</td>\n      <td>7.3</td>\n      <td>45.9</td>\n      <td>35.6</td>\n      <td>5.98</td>\n      <td>44.09</td>\n      <td>0.81</td>\n      <td>310.9</td>\n      <td>167.8</td>\n      <td>421.1</td>\n      <td>10.49</td>\n    </tr>\n    <tr>\n      <th>2</th>\n      <td>Blue Mountains</td>\n      <td>25.9</td>\n      <td>51.31</td>\n      <td>55.3</td>\n      <td>9.9</td>\n      <td>1.02</td>\n      <td>45.2</td>\n      <td>0.37</td>\n      <td>4.7</td>\n      <td>43.3</td>\n      <td>21.4</td>\n      <td>2.61</td>\n      <td>33.51</td>\n      <td>0.64</td>\n      <td>156.4</td>\n      <td>167.9</td>\n      <td>389.3</td>\n      <td>76.07</td>\n    </tr>\n    <tr>\n      <th>3</th>\n      <td>Burwood</td>\n      <td>18.4</td>\n      <td>50.76</td>\n      <td>5697.5</td>\n      <td>35.7</td>\n      <td>16.70</td>\n      <td>29.6</td>\n      <td>12.87</td>\n      <td>7.6</td>\n      <td>51.1</td>\n      <td>46.0</td>\n      <td>44.02</td>\n      <td>27.24</td>\n      <td>1.69</td>\n      <td>109.2</td>\n      <td>81.8</td>\n      <td>281.9</td>\n      <td>0.00</td>\n    </tr>\n    <tr>\n      <th>4</th>\n      <td>Camden</td>\n      <td>18.2</td>\n      <td>50.77</td>\n      <td>504.6</td>\n      <td>10.4</td>\n      <td>1.43</td>\n      <td>52.6</td>\n      <td>1.16</td>\n      <td>4.1</td>\n      <td>38.4</td>\n      <td>23.8</td>\n      <td>1.38</td>\n      <td>38.71</td>\n      <td>0.61</td>\n      <td>216.4</td>\n      <td>128.8</td>\n      <td>409.1</td>\n      <td>1.71</td>\n    </tr>\n  </tbody>\n</table>\n</div>"
     },
     "metadata": {},
     "execution_count": 6
    }
   ],
   "source": [
    "indicadors_df.head()"
   ]
  },
  {
   "cell_type": "code",
   "execution_count": 7,
   "metadata": {},
   "outputs": [
    {
     "output_type": "execute_result",
     "data": {
      "text/plain": [
       "Index(['District', 'persons_04_65', 'females', 'persons_km2', 'non_australian',\n",
       "       'arrived_within_5', 'year_11_under', 'non_proficient',\n",
       "       'unemployment_rate', 'below_poverty_line', 'renters',\n",
       "       'multi_unit_housing', 'premature_deaths', 'hospital_beds_1000',\n",
       "       'copd_hosp', 'asthma_hosp', 'inf_pan_hosp', 'protected_areas'],\n",
       "      dtype='object')"
      ]
     },
     "metadata": {},
     "execution_count": 7
    }
   ],
   "source": [
    "indicadors_df.columns"
   ]
  },
  {
   "cell_type": "code",
   "execution_count": 8,
   "metadata": {},
   "outputs": [
    {
     "output_type": "stream",
     "name": "stdout",
     "text": [
      "MinMaxScaler()\n[51.17333333 75.70471429 26.09310345 61.77586207]\n"
     ]
    }
   ],
   "source": [
    "# Normalized hazard (MinMaxScaler)\n",
    "data_hazard = hazard_df.drop([\"district\"], axis=1)\n",
    "scaler = MinMaxScaler()\n",
    "print(scaler.fit(data_hazard))\n",
    "MinMaxScaler()\n",
    "print(scaler.data_max_)\n",
    "hazard_normalized = scaler.transform(data_hazard)"
   ]
  },
  {
   "cell_type": "code",
   "execution_count": 9,
   "metadata": {},
   "outputs": [],
   "source": [
    "hazard_normalized = pd.DataFrame(hazard_normalized, columns=['november_pm10', 'december_pm10', 'november_pm2p5', 'december_pm2p5'])\n",
    "hazard_normalized['district']= hazard_df['district']"
   ]
  },
  {
   "cell_type": "code",
   "execution_count": 10,
   "metadata": {},
   "outputs": [
    {
     "output_type": "execute_result",
     "data": {
      "text/plain": [
       "   november_pm10  december_pm10  november_pm2p5  december_pm2p5  \\\n",
       "0       1.000000       0.492849        0.905818        0.239381   \n",
       "1       0.648125       0.696505        0.550967        0.603147   \n",
       "2       0.652025       0.485577        0.547257        0.395766   \n",
       "3       0.698482       0.357189        0.671239        0.223036   \n",
       "4       0.969739       0.579354        1.000000        0.345178   \n",
       "\n",
       "               district  \n",
       "0             Blacktown  \n",
       "1                Camden  \n",
       "2          Campbelltown  \n",
       "3  Canterbury-Bankstown  \n",
       "4             Hawksbury  "
      ],
      "text/html": "<div>\n<style scoped>\n    .dataframe tbody tr th:only-of-type {\n        vertical-align: middle;\n    }\n\n    .dataframe tbody tr th {\n        vertical-align: top;\n    }\n\n    .dataframe thead th {\n        text-align: right;\n    }\n</style>\n<table border=\"1\" class=\"dataframe\">\n  <thead>\n    <tr style=\"text-align: right;\">\n      <th></th>\n      <th>november_pm10</th>\n      <th>december_pm10</th>\n      <th>november_pm2p5</th>\n      <th>december_pm2p5</th>\n      <th>district</th>\n    </tr>\n  </thead>\n  <tbody>\n    <tr>\n      <th>0</th>\n      <td>1.000000</td>\n      <td>0.492849</td>\n      <td>0.905818</td>\n      <td>0.239381</td>\n      <td>Blacktown</td>\n    </tr>\n    <tr>\n      <th>1</th>\n      <td>0.648125</td>\n      <td>0.696505</td>\n      <td>0.550967</td>\n      <td>0.603147</td>\n      <td>Camden</td>\n    </tr>\n    <tr>\n      <th>2</th>\n      <td>0.652025</td>\n      <td>0.485577</td>\n      <td>0.547257</td>\n      <td>0.395766</td>\n      <td>Campbelltown</td>\n    </tr>\n    <tr>\n      <th>3</th>\n      <td>0.698482</td>\n      <td>0.357189</td>\n      <td>0.671239</td>\n      <td>0.223036</td>\n      <td>Canterbury-Bankstown</td>\n    </tr>\n    <tr>\n      <th>4</th>\n      <td>0.969739</td>\n      <td>0.579354</td>\n      <td>1.000000</td>\n      <td>0.345178</td>\n      <td>Hawksbury</td>\n    </tr>\n  </tbody>\n</table>\n</div>"
     },
     "metadata": {},
     "execution_count": 10
    }
   ],
   "source": [
    "hazard_normalized.head()"
   ]
  },
  {
   "cell_type": "code",
   "execution_count": 11,
   "metadata": {},
   "outputs": [
    {
     "output_type": "stream",
     "name": "stdout",
     "text": [
      "MinMaxScaler()\n",
      "[2.5900e+01 5.3590e+01 9.2115e+03 4.4100e+01 1.9410e+01 6.1300e+01\n",
      " 1.9570e+01 1.0500e+01 5.9300e+01 6.6200e+01 7.8300e+01 5.1590e+01\n",
      " 1.9600e+00 3.1090e+02 2.0450e+02 4.9600e+02 7.6070e+01]\n"
     ]
    }
   ],
   "source": [
    "# Normalized indicators (MinMax Scaler)\n",
    "data_indicators = indicadors_df.drop([\"District\"], axis=1)\n",
    "scaler = MinMaxScaler()\n",
    "print(scaler.fit(data_indicators))\n",
    "MinMaxScaler()\n",
    "print(scaler.data_max_)\n",
    "indicators_normalized = scaler.transform(data_indicators)"
   ]
  },
  {
   "cell_type": "code",
   "execution_count": 12,
   "metadata": {},
   "outputs": [],
   "source": [
    "indicators_normalized = pd.DataFrame(indicators_normalized, columns=['persons_04_65', 'females', 'persons_km2', 'non_australian',        'arrived_within_5', 'year_11_under', 'non_proficient', 'unemployment_rate', 'below_poverty_line', 'renters','multi_unit_housing', 'premature_deaths', 'hospital_beds_1000', 'copd_hosp', 'asthma_hosp', 'inf_pan_hosp','protected_areas'])\n",
    "indicators_normalized['district']= indicadors_df['District']"
   ]
  },
  {
   "cell_type": "code",
   "execution_count": 13,
   "metadata": {},
   "outputs": [
    {
     "output_type": "execute_result",
     "data": {
      "text/plain": [
       "   persons_04_65   females  persons_km2  non_australian  arrived_within_5  \\\n",
       "0       0.573529  0.318102     0.386804        0.494318          0.489373   \n",
       "1       0.463235  0.351494     0.167463        0.295455          0.267269   \n",
       "2       1.000000  0.599297     0.003754        0.028409          0.022848   \n",
       "3       0.448529  0.502636     0.617657        0.761364          0.856004   \n",
       "4       0.433824  0.504394     0.052640        0.042614          0.044633   \n",
       "\n",
       "   year_11_under  non_proficient  unemployment_rate  below_poverty_line  \\\n",
       "0       0.415423        0.360042           0.375000            0.575472   \n",
       "1       0.587065        0.202393           0.555556            0.578616   \n",
       "2       0.599502        0.001041           0.194444            0.496855   \n",
       "3       0.211443        0.651405           0.597222            0.742138   \n",
       "4       0.783582        0.042144           0.111111            0.342767   \n",
       "\n",
       "    renters  multi_unit_housing  premature_deaths  hospital_beds_1000  \\\n",
       "0  0.497881            0.584763          0.376071            0.655172   \n",
       "1  0.351695            0.059802          0.792760            0.206897   \n",
       "2  0.050847            0.015991          0.500414            0.089655   \n",
       "3  0.572034            0.554342          0.327162            0.813793   \n",
       "4  0.101695            0.000000          0.644101            0.068966   \n",
       "\n",
       "   copd_hosp  asthma_hosp  inf_pan_hosp  protected_areas        district  \n",
       "0   0.437005     0.225000      0.274464         0.084922         Bayside  \n",
       "1   1.000000     0.737857      0.707992         0.137899       Blacktown  \n",
       "2   0.387876     0.738571      0.584016         1.000000  Blue Mountains  \n",
       "3   0.200872     0.123571      0.165302         0.000000         Burwood  \n",
       "4   0.625594     0.459286      0.661209         0.022479          Camden  "
      ],
      "text/html": "<div>\n<style scoped>\n    .dataframe tbody tr th:only-of-type {\n        vertical-align: middle;\n    }\n\n    .dataframe tbody tr th {\n        vertical-align: top;\n    }\n\n    .dataframe thead th {\n        text-align: right;\n    }\n</style>\n<table border=\"1\" class=\"dataframe\">\n  <thead>\n    <tr style=\"text-align: right;\">\n      <th></th>\n      <th>persons_04_65</th>\n      <th>females</th>\n      <th>persons_km2</th>\n      <th>non_australian</th>\n      <th>arrived_within_5</th>\n      <th>year_11_under</th>\n      <th>non_proficient</th>\n      <th>unemployment_rate</th>\n      <th>below_poverty_line</th>\n      <th>renters</th>\n      <th>multi_unit_housing</th>\n      <th>premature_deaths</th>\n      <th>hospital_beds_1000</th>\n      <th>copd_hosp</th>\n      <th>asthma_hosp</th>\n      <th>inf_pan_hosp</th>\n      <th>protected_areas</th>\n      <th>district</th>\n    </tr>\n  </thead>\n  <tbody>\n    <tr>\n      <th>0</th>\n      <td>0.573529</td>\n      <td>0.318102</td>\n      <td>0.386804</td>\n      <td>0.494318</td>\n      <td>0.489373</td>\n      <td>0.415423</td>\n      <td>0.360042</td>\n      <td>0.375000</td>\n      <td>0.575472</td>\n      <td>0.497881</td>\n      <td>0.584763</td>\n      <td>0.376071</td>\n      <td>0.655172</td>\n      <td>0.437005</td>\n      <td>0.225000</td>\n      <td>0.274464</td>\n      <td>0.084922</td>\n      <td>Bayside</td>\n    </tr>\n    <tr>\n      <th>1</th>\n      <td>0.463235</td>\n      <td>0.351494</td>\n      <td>0.167463</td>\n      <td>0.295455</td>\n      <td>0.267269</td>\n      <td>0.587065</td>\n      <td>0.202393</td>\n      <td>0.555556</td>\n      <td>0.578616</td>\n      <td>0.351695</td>\n      <td>0.059802</td>\n      <td>0.792760</td>\n      <td>0.206897</td>\n      <td>1.000000</td>\n      <td>0.737857</td>\n      <td>0.707992</td>\n      <td>0.137899</td>\n      <td>Blacktown</td>\n    </tr>\n    <tr>\n      <th>2</th>\n      <td>1.000000</td>\n      <td>0.599297</td>\n      <td>0.003754</td>\n      <td>0.028409</td>\n      <td>0.022848</td>\n      <td>0.599502</td>\n      <td>0.001041</td>\n      <td>0.194444</td>\n      <td>0.496855</td>\n      <td>0.050847</td>\n      <td>0.015991</td>\n      <td>0.500414</td>\n      <td>0.089655</td>\n      <td>0.387876</td>\n      <td>0.738571</td>\n      <td>0.584016</td>\n      <td>1.000000</td>\n      <td>Blue Mountains</td>\n    </tr>\n    <tr>\n      <th>3</th>\n      <td>0.448529</td>\n      <td>0.502636</td>\n      <td>0.617657</td>\n      <td>0.761364</td>\n      <td>0.856004</td>\n      <td>0.211443</td>\n      <td>0.651405</td>\n      <td>0.597222</td>\n      <td>0.742138</td>\n      <td>0.572034</td>\n      <td>0.554342</td>\n      <td>0.327162</td>\n      <td>0.813793</td>\n      <td>0.200872</td>\n      <td>0.123571</td>\n      <td>0.165302</td>\n      <td>0.000000</td>\n      <td>Burwood</td>\n    </tr>\n    <tr>\n      <th>4</th>\n      <td>0.433824</td>\n      <td>0.504394</td>\n      <td>0.052640</td>\n      <td>0.042614</td>\n      <td>0.044633</td>\n      <td>0.783582</td>\n      <td>0.042144</td>\n      <td>0.111111</td>\n      <td>0.342767</td>\n      <td>0.101695</td>\n      <td>0.000000</td>\n      <td>0.644101</td>\n      <td>0.068966</td>\n      <td>0.625594</td>\n      <td>0.459286</td>\n      <td>0.661209</td>\n      <td>0.022479</td>\n      <td>Camden</td>\n    </tr>\n  </tbody>\n</table>\n</div>"
     },
     "metadata": {},
     "execution_count": 13
    }
   ],
   "source": [
    "indicators_normalized.head()"
   ]
  },
  {
   "cell_type": "code",
   "execution_count": 14,
   "metadata": {},
   "outputs": [],
   "source": [
    "hazard_region_df = pd.read_csv(\"hazard_region.csv\")"
   ]
  },
  {
   "cell_type": "code",
   "execution_count": 15,
   "metadata": {},
   "outputs": [
    {
     "output_type": "execute_result",
     "data": {
      "text/plain": [
       "         District        Region  november_pm10  december_pm10  november_pm2p5  \\\n",
       "0         Bayside  Eastern City      38.998781      40.298781       17.782387   \n",
       "1       Blacktown  Central City      51.173333      52.216129       24.295805   \n",
       "2  Blue Mountains  Western City      42.847905      58.447449       22.180307   \n",
       "3         Burwood  Eastern City      38.998781      40.298781       17.782387   \n",
       "4          Camden  Western City      38.933333      61.648387       17.524138   \n",
       "\n",
       "   december_pm2p5  Unnamed: 6  Unnamed: 7  Unnamed: 8  Unnamed: 9  ...  \\\n",
       "0       21.249332         NaN         NaN         NaN         NaN  ...   \n",
       "1       26.364516         NaN         NaN         NaN         NaN  ...   \n",
       "2       41.535029         NaN         NaN         NaN         NaN  ...   \n",
       "3       21.249332         NaN         NaN         NaN         NaN  ...   \n",
       "4       43.300000         NaN         NaN         NaN         NaN  ...   \n",
       "\n",
       "   Unnamed: 17  Unnamed: 18  Unnamed: 19  Unnamed: 20  Unnamed: 21  \\\n",
       "0          NaN          NaN          NaN          NaN          NaN   \n",
       "1          NaN          NaN          NaN          NaN          NaN   \n",
       "2          NaN          NaN          NaN          NaN          NaN   \n",
       "3          NaN          NaN          NaN          NaN          NaN   \n",
       "4          NaN          NaN          NaN          NaN          NaN   \n",
       "\n",
       "   Unnamed: 22  Unnamed: 23  Unnamed: 24  Unnamed: 25  Unnamed: 26  \n",
       "0          NaN          NaN          NaN          NaN          NaN  \n",
       "1          NaN          NaN          NaN          NaN          NaN  \n",
       "2          NaN          NaN          NaN          NaN          NaN  \n",
       "3          NaN          NaN          NaN          NaN          NaN  \n",
       "4          NaN          NaN          NaN          NaN          NaN  \n",
       "\n",
       "[5 rows x 27 columns]"
      ],
      "text/html": "<div>\n<style scoped>\n    .dataframe tbody tr th:only-of-type {\n        vertical-align: middle;\n    }\n\n    .dataframe tbody tr th {\n        vertical-align: top;\n    }\n\n    .dataframe thead th {\n        text-align: right;\n    }\n</style>\n<table border=\"1\" class=\"dataframe\">\n  <thead>\n    <tr style=\"text-align: right;\">\n      <th></th>\n      <th>District</th>\n      <th>Region</th>\n      <th>november_pm10</th>\n      <th>december_pm10</th>\n      <th>november_pm2p5</th>\n      <th>december_pm2p5</th>\n      <th>Unnamed: 6</th>\n      <th>Unnamed: 7</th>\n      <th>Unnamed: 8</th>\n      <th>Unnamed: 9</th>\n      <th>...</th>\n      <th>Unnamed: 17</th>\n      <th>Unnamed: 18</th>\n      <th>Unnamed: 19</th>\n      <th>Unnamed: 20</th>\n      <th>Unnamed: 21</th>\n      <th>Unnamed: 22</th>\n      <th>Unnamed: 23</th>\n      <th>Unnamed: 24</th>\n      <th>Unnamed: 25</th>\n      <th>Unnamed: 26</th>\n    </tr>\n  </thead>\n  <tbody>\n    <tr>\n      <th>0</th>\n      <td>Bayside</td>\n      <td>Eastern City</td>\n      <td>38.998781</td>\n      <td>40.298781</td>\n      <td>17.782387</td>\n      <td>21.249332</td>\n      <td>NaN</td>\n      <td>NaN</td>\n      <td>NaN</td>\n      <td>NaN</td>\n      <td>...</td>\n      <td>NaN</td>\n      <td>NaN</td>\n      <td>NaN</td>\n      <td>NaN</td>\n      <td>NaN</td>\n      <td>NaN</td>\n      <td>NaN</td>\n      <td>NaN</td>\n      <td>NaN</td>\n      <td>NaN</td>\n    </tr>\n    <tr>\n      <th>1</th>\n      <td>Blacktown</td>\n      <td>Central City</td>\n      <td>51.173333</td>\n      <td>52.216129</td>\n      <td>24.295805</td>\n      <td>26.364516</td>\n      <td>NaN</td>\n      <td>NaN</td>\n      <td>NaN</td>\n      <td>NaN</td>\n      <td>...</td>\n      <td>NaN</td>\n      <td>NaN</td>\n      <td>NaN</td>\n      <td>NaN</td>\n      <td>NaN</td>\n      <td>NaN</td>\n      <td>NaN</td>\n      <td>NaN</td>\n      <td>NaN</td>\n      <td>NaN</td>\n    </tr>\n    <tr>\n      <th>2</th>\n      <td>Blue Mountains</td>\n      <td>Western City</td>\n      <td>42.847905</td>\n      <td>58.447449</td>\n      <td>22.180307</td>\n      <td>41.535029</td>\n      <td>NaN</td>\n      <td>NaN</td>\n      <td>NaN</td>\n      <td>NaN</td>\n      <td>...</td>\n      <td>NaN</td>\n      <td>NaN</td>\n      <td>NaN</td>\n      <td>NaN</td>\n      <td>NaN</td>\n      <td>NaN</td>\n      <td>NaN</td>\n      <td>NaN</td>\n      <td>NaN</td>\n      <td>NaN</td>\n    </tr>\n    <tr>\n      <th>3</th>\n      <td>Burwood</td>\n      <td>Eastern City</td>\n      <td>38.998781</td>\n      <td>40.298781</td>\n      <td>17.782387</td>\n      <td>21.249332</td>\n      <td>NaN</td>\n      <td>NaN</td>\n      <td>NaN</td>\n      <td>NaN</td>\n      <td>...</td>\n      <td>NaN</td>\n      <td>NaN</td>\n      <td>NaN</td>\n      <td>NaN</td>\n      <td>NaN</td>\n      <td>NaN</td>\n      <td>NaN</td>\n      <td>NaN</td>\n      <td>NaN</td>\n      <td>NaN</td>\n    </tr>\n    <tr>\n      <th>4</th>\n      <td>Camden</td>\n      <td>Western City</td>\n      <td>38.933333</td>\n      <td>61.648387</td>\n      <td>17.524138</td>\n      <td>43.300000</td>\n      <td>NaN</td>\n      <td>NaN</td>\n      <td>NaN</td>\n      <td>NaN</td>\n      <td>...</td>\n      <td>NaN</td>\n      <td>NaN</td>\n      <td>NaN</td>\n      <td>NaN</td>\n      <td>NaN</td>\n      <td>NaN</td>\n      <td>NaN</td>\n      <td>NaN</td>\n      <td>NaN</td>\n      <td>NaN</td>\n    </tr>\n  </tbody>\n</table>\n<p>5 rows × 27 columns</p>\n</div>"
     },
     "metadata": {},
     "execution_count": 15
    }
   ],
   "source": [
    "hazard_region_df.head()"
   ]
  },
  {
   "cell_type": "code",
   "execution_count": 16,
   "metadata": {},
   "outputs": [],
   "source": [
    "hazard_region_df = hazard_region_df[['District', 'november_pm10', 'december_pm10',\n",
    "       'november_pm2p5', 'december_pm2p5']]"
   ]
  },
  {
   "cell_type": "code",
   "execution_count": 17,
   "metadata": {},
   "outputs": [
    {
     "output_type": "execute_result",
     "data": {
      "text/plain": [
       "Index(['District', 'november_pm10', 'december_pm10', 'november_pm2p5',\n",
       "       'december_pm2p5'],\n",
       "      dtype='object')"
      ]
     },
     "metadata": {},
     "execution_count": 17
    }
   ],
   "source": [
    "hazard_region_df.columns"
   ]
  },
  {
   "cell_type": "code",
   "execution_count": 18,
   "metadata": {},
   "outputs": [
    {
     "output_type": "stream",
     "name": "stdout",
     "text": [
      "MinMaxScaler()\n[51.17333333 75.70471429 39.06896552 61.77586207]\n"
     ]
    }
   ],
   "source": [
    "# Normalized hazard region (MinMaxScaler)\n",
    "data_hazard_region = hazard_region_df.drop([\"District\"], axis=1)\n",
    "scaler = MinMaxScaler()\n",
    "print(scaler.fit(data_hazard_region))\n",
    "MinMaxScaler()\n",
    "print(scaler.data_max_)\n",
    "hazard_region_normalized = scaler.transform(data_hazard_region)"
   ]
  },
  {
   "cell_type": "code",
   "execution_count": 19,
   "metadata": {},
   "outputs": [],
   "source": [
    "hazard_region_normalized = pd.DataFrame(hazard_region_normalized, columns=['november_pm10', 'december_pm10', 'november_pm2p5',\n",
    "       'december_pm2p5'])\n",
    "hazard_region_normalized['district']= hazard_region_df['District']"
   ]
  },
  {
   "cell_type": "code",
   "execution_count": 20,
   "metadata": {},
   "outputs": [
    {
     "output_type": "execute_result",
     "data": {
      "text/plain": [
       "   november_pm10  december_pm10  november_pm2p5  december_pm2p5  \\\n",
       "0       0.650007       0.235538        0.336019        0.129510   \n",
       "1       1.000000       0.492849        0.539189        0.239381   \n",
       "2       0.760661       0.627392        0.473201        0.565237   \n",
       "3       0.650007       0.235538        0.336019        0.129510   \n",
       "4       0.648125       0.696505        0.327964        0.603147   \n",
       "\n",
       "         district  \n",
       "0         Bayside  \n",
       "1       Blacktown  \n",
       "2  Blue Mountains  \n",
       "3         Burwood  \n",
       "4          Camden  "
      ],
      "text/html": "<div>\n<style scoped>\n    .dataframe tbody tr th:only-of-type {\n        vertical-align: middle;\n    }\n\n    .dataframe tbody tr th {\n        vertical-align: top;\n    }\n\n    .dataframe thead th {\n        text-align: right;\n    }\n</style>\n<table border=\"1\" class=\"dataframe\">\n  <thead>\n    <tr style=\"text-align: right;\">\n      <th></th>\n      <th>november_pm10</th>\n      <th>december_pm10</th>\n      <th>november_pm2p5</th>\n      <th>december_pm2p5</th>\n      <th>district</th>\n    </tr>\n  </thead>\n  <tbody>\n    <tr>\n      <th>0</th>\n      <td>0.650007</td>\n      <td>0.235538</td>\n      <td>0.336019</td>\n      <td>0.129510</td>\n      <td>Bayside</td>\n    </tr>\n    <tr>\n      <th>1</th>\n      <td>1.000000</td>\n      <td>0.492849</td>\n      <td>0.539189</td>\n      <td>0.239381</td>\n      <td>Blacktown</td>\n    </tr>\n    <tr>\n      <th>2</th>\n      <td>0.760661</td>\n      <td>0.627392</td>\n      <td>0.473201</td>\n      <td>0.565237</td>\n      <td>Blue Mountains</td>\n    </tr>\n    <tr>\n      <th>3</th>\n      <td>0.650007</td>\n      <td>0.235538</td>\n      <td>0.336019</td>\n      <td>0.129510</td>\n      <td>Burwood</td>\n    </tr>\n    <tr>\n      <th>4</th>\n      <td>0.648125</td>\n      <td>0.696505</td>\n      <td>0.327964</td>\n      <td>0.603147</td>\n      <td>Camden</td>\n    </tr>\n  </tbody>\n</table>\n</div>"
     },
     "metadata": {},
     "execution_count": 20
    }
   ],
   "source": [
    "hazard_region_normalized.head()"
   ]
  },
  {
   "cell_type": "code",
   "execution_count": 21,
   "metadata": {},
   "outputs": [],
   "source": [
    "hazard_neighbour_df = pd.read_csv(\"hazard_neighbour.csv\")"
   ]
  },
  {
   "cell_type": "code",
   "execution_count": 22,
   "metadata": {},
   "outputs": [],
   "source": [
    "hazard_neighbour_df = hazard_neighbour_df[['District', 'november_pm10', 'december_pm10',\n",
    "       'november_pm2p5', 'december_pm2p5']]"
   ]
  },
  {
   "cell_type": "code",
   "execution_count": 23,
   "metadata": {},
   "outputs": [
    {
     "output_type": "execute_result",
     "data": {
      "text/plain": [
       "Index(['District', 'november_pm10', 'december_pm10', 'november_pm2p5',\n",
       "       'december_pm2p5'],\n",
       "      dtype='object')"
      ]
     },
     "metadata": {},
     "execution_count": 23
    }
   ],
   "source": [
    "hazard_neighbour_df.columns"
   ]
  },
  {
   "cell_type": "code",
   "execution_count": 24,
   "metadata": {},
   "outputs": [
    {
     "output_type": "stream",
     "name": "stdout",
     "text": [
      "MinMaxScaler()\n[51.17333333 75.70471429 39.06896552 61.77586207]\n"
     ]
    }
   ],
   "source": [
    "# Normalized hazard neighbour (MinMaxScaler)\n",
    "data_hazard_neighbour = hazard_neighbour_df.drop([\"District\"], axis=1)\n",
    "scaler = MinMaxScaler()\n",
    "print(scaler.fit(data_hazard_neighbour))\n",
    "MinMaxScaler()\n",
    "print(scaler.data_max_)\n",
    "hazard_neighbour_normalized = scaler.transform(data_hazard_neighbour)"
   ]
  },
  {
   "cell_type": "code",
   "execution_count": 25,
   "metadata": {},
   "outputs": [],
   "source": [
    "hazard_neighbour_normalized = pd.DataFrame(hazard_neighbour_normalized, columns=['november_pm10', 'december_pm10', 'november_pm2p5',\n",
    "       'december_pm2p5'])\n",
    "hazard_neighbour_normalized['district']= hazard_neighbour_df['District']"
   ]
  },
  {
   "cell_type": "code",
   "execution_count": 27,
   "metadata": {},
   "outputs": [
    {
     "output_type": "execute_result",
     "data": {
      "text/plain": [
       "   november_pm10  december_pm10  november_pm2p5  december_pm2p5  \\\n",
       "0       0.681681       0.288982        0.369275        0.187554   \n",
       "1       1.000000       0.492849        0.539189        0.239381   \n",
       "2       0.819017       0.700834        0.387295        0.532737   \n",
       "3       0.681880       0.287814        0.362291        0.190987   \n",
       "4       0.648125       0.696505        0.327964        0.603147   \n",
       "\n",
       "         district  \n",
       "0         Bayside  \n",
       "1       Blacktown  \n",
       "2  Blue Mountains  \n",
       "3         Burwood  \n",
       "4          Camden  "
      ],
      "text/html": "<div>\n<style scoped>\n    .dataframe tbody tr th:only-of-type {\n        vertical-align: middle;\n    }\n\n    .dataframe tbody tr th {\n        vertical-align: top;\n    }\n\n    .dataframe thead th {\n        text-align: right;\n    }\n</style>\n<table border=\"1\" class=\"dataframe\">\n  <thead>\n    <tr style=\"text-align: right;\">\n      <th></th>\n      <th>november_pm10</th>\n      <th>december_pm10</th>\n      <th>november_pm2p5</th>\n      <th>december_pm2p5</th>\n      <th>district</th>\n    </tr>\n  </thead>\n  <tbody>\n    <tr>\n      <th>0</th>\n      <td>0.681681</td>\n      <td>0.288982</td>\n      <td>0.369275</td>\n      <td>0.187554</td>\n      <td>Bayside</td>\n    </tr>\n    <tr>\n      <th>1</th>\n      <td>1.000000</td>\n      <td>0.492849</td>\n      <td>0.539189</td>\n      <td>0.239381</td>\n      <td>Blacktown</td>\n    </tr>\n    <tr>\n      <th>2</th>\n      <td>0.819017</td>\n      <td>0.700834</td>\n      <td>0.387295</td>\n      <td>0.532737</td>\n      <td>Blue Mountains</td>\n    </tr>\n    <tr>\n      <th>3</th>\n      <td>0.681880</td>\n      <td>0.287814</td>\n      <td>0.362291</td>\n      <td>0.190987</td>\n      <td>Burwood</td>\n    </tr>\n    <tr>\n      <th>4</th>\n      <td>0.648125</td>\n      <td>0.696505</td>\n      <td>0.327964</td>\n      <td>0.603147</td>\n      <td>Camden</td>\n    </tr>\n  </tbody>\n</table>\n</div>"
     },
     "metadata": {},
     "execution_count": 27
    }
   ],
   "source": [
    "hazard_neighbour_normalized.head()"
   ]
  },
  {
   "cell_type": "code",
   "execution_count": 15,
   "metadata": {},
   "outputs": [],
   "source": [
    "exposure_df = pd.read_csv(\"exposure_neighbours.csv\")"
   ]
  },
  {
   "cell_type": "code",
   "execution_count": 16,
   "metadata": {},
   "outputs": [
    {
     "output_type": "execute_result",
     "data": {
      "text/plain": [
       "Index(['District ', 'Neighbouring_district ', 'pm10_conc_average',\n",
       "       'pm10_exc_days', 'pm2.5_conc_average', 'pm2.5_exc_days',\n",
       "       'Population_count'],\n",
       "      dtype='object')"
      ]
     },
     "metadata": {},
     "execution_count": 16
    }
   ],
   "source": [
    "exposure_df.columns"
   ]
  },
  {
   "cell_type": "code",
   "execution_count": 17,
   "metadata": {},
   "outputs": [],
   "source": [
    "exposure_data = exposure_df.drop(columns=['District ', 'Neighbouring_district '], axis=1)"
   ]
  },
  {
   "cell_type": "code",
   "execution_count": 18,
   "metadata": {},
   "outputs": [
    {
     "output_type": "execute_result",
     "data": {
      "text/plain": [
       "   pm10_conc_average  pm10_exc_days  pm2.5_conc_average  pm2.5_exc_days  \\\n",
       "0              42.27             27               21.36              27   \n",
       "1              51.46             34               24.14              33   \n",
       "2              54.77             36               28.14              36   \n",
       "3              42.36             27               21.02              28   \n",
       "4              51.30             33               29.98              36   \n",
       "\n",
       "   Population_count  \n",
       "0            178396  \n",
       "1            374451  \n",
       "2             79118  \n",
       "3             40612  \n",
       "4            101437  "
      ],
      "text/html": "<div>\n<style scoped>\n    .dataframe tbody tr th:only-of-type {\n        vertical-align: middle;\n    }\n\n    .dataframe tbody tr th {\n        vertical-align: top;\n    }\n\n    .dataframe thead th {\n        text-align: right;\n    }\n</style>\n<table border=\"1\" class=\"dataframe\">\n  <thead>\n    <tr style=\"text-align: right;\">\n      <th></th>\n      <th>pm10_conc_average</th>\n      <th>pm10_exc_days</th>\n      <th>pm2.5_conc_average</th>\n      <th>pm2.5_exc_days</th>\n      <th>Population_count</th>\n    </tr>\n  </thead>\n  <tbody>\n    <tr>\n      <th>0</th>\n      <td>42.27</td>\n      <td>27</td>\n      <td>21.36</td>\n      <td>27</td>\n      <td>178396</td>\n    </tr>\n    <tr>\n      <th>1</th>\n      <td>51.46</td>\n      <td>34</td>\n      <td>24.14</td>\n      <td>33</td>\n      <td>374451</td>\n    </tr>\n    <tr>\n      <th>2</th>\n      <td>54.77</td>\n      <td>36</td>\n      <td>28.14</td>\n      <td>36</td>\n      <td>79118</td>\n    </tr>\n    <tr>\n      <th>3</th>\n      <td>42.36</td>\n      <td>27</td>\n      <td>21.02</td>\n      <td>28</td>\n      <td>40612</td>\n    </tr>\n    <tr>\n      <th>4</th>\n      <td>51.30</td>\n      <td>33</td>\n      <td>29.98</td>\n      <td>36</td>\n      <td>101437</td>\n    </tr>\n  </tbody>\n</table>\n</div>"
     },
     "metadata": {},
     "execution_count": 18
    }
   ],
   "source": [
    "exposure_data.head()"
   ]
  },
  {
   "cell_type": "code",
   "execution_count": 19,
   "metadata": {},
   "outputs": [
    {
     "output_type": "stream",
     "name": "stdout",
     "text": [
      "MinMaxScaler()\n[5.93800e+01 5.40000e+01 4.62600e+01 4.60000e+01 3.77917e+05]\n"
     ]
    }
   ],
   "source": [
    "# Normalized exposure neighbour (MinMaxScaler)\n",
    "scaler = MinMaxScaler()\n",
    "print(scaler.fit(exposure_data))\n",
    "MinMaxScaler()\n",
    "print(scaler.data_max_)\n",
    "exposure_neighbour_normalized = scaler.transform(exposure_data)"
   ]
  },
  {
   "cell_type": "code",
   "execution_count": 20,
   "metadata": {},
   "outputs": [],
   "source": [
    "exposure_neighbour_normalized = pd.DataFrame(exposure_neighbour_normalized, columns=['pm10_conc_average','pm10_exc_days', 'pm2.5_conc_average', 'pm2.5_exc_days','Population_count'])\n",
    "exposure_neighbour_normalized['district']= exposure_df['District ']\n",
    "\n",
    "exposure_neighbour_normalized.to_csv('exposure_neighbour_normalized.csv')"
   ]
  },
  {
   "cell_type": "code",
   "execution_count": 22,
   "metadata": {},
   "outputs": [
    {
     "output_type": "execute_result",
     "data": {
      "text/plain": [
       "   pm10_conc_average  pm10_exc_days  pm2.5_conc_average  pm2.5_exc_days  \\\n",
       "0           0.482925       0.035714            0.240854        0.424242   \n",
       "1           0.760653       0.285714            0.325610        0.606061   \n",
       "2           0.860683       0.357143            0.447561        0.696970   \n",
       "3           0.485645       0.035714            0.230488        0.454545   \n",
       "4           0.755817       0.250000            0.503659        0.696970   \n",
       "\n",
       "   Population_count        district  \n",
       "0          0.450260         Bayside  \n",
       "1          0.990450       Blacktown  \n",
       "2          0.176719  Blue Mountains  \n",
       "3          0.070624         Burwood  \n",
       "4          0.238215          Camden  "
      ],
      "text/html": "<div>\n<style scoped>\n    .dataframe tbody tr th:only-of-type {\n        vertical-align: middle;\n    }\n\n    .dataframe tbody tr th {\n        vertical-align: top;\n    }\n\n    .dataframe thead th {\n        text-align: right;\n    }\n</style>\n<table border=\"1\" class=\"dataframe\">\n  <thead>\n    <tr style=\"text-align: right;\">\n      <th></th>\n      <th>pm10_conc_average</th>\n      <th>pm10_exc_days</th>\n      <th>pm2.5_conc_average</th>\n      <th>pm2.5_exc_days</th>\n      <th>Population_count</th>\n      <th>district</th>\n    </tr>\n  </thead>\n  <tbody>\n    <tr>\n      <th>0</th>\n      <td>0.482925</td>\n      <td>0.035714</td>\n      <td>0.240854</td>\n      <td>0.424242</td>\n      <td>0.450260</td>\n      <td>Bayside</td>\n    </tr>\n    <tr>\n      <th>1</th>\n      <td>0.760653</td>\n      <td>0.285714</td>\n      <td>0.325610</td>\n      <td>0.606061</td>\n      <td>0.990450</td>\n      <td>Blacktown</td>\n    </tr>\n    <tr>\n      <th>2</th>\n      <td>0.860683</td>\n      <td>0.357143</td>\n      <td>0.447561</td>\n      <td>0.696970</td>\n      <td>0.176719</td>\n      <td>Blue Mountains</td>\n    </tr>\n    <tr>\n      <th>3</th>\n      <td>0.485645</td>\n      <td>0.035714</td>\n      <td>0.230488</td>\n      <td>0.454545</td>\n      <td>0.070624</td>\n      <td>Burwood</td>\n    </tr>\n    <tr>\n      <th>4</th>\n      <td>0.755817</td>\n      <td>0.250000</td>\n      <td>0.503659</td>\n      <td>0.696970</td>\n      <td>0.238215</td>\n      <td>Camden</td>\n    </tr>\n  </tbody>\n</table>\n</div>"
     },
     "metadata": {},
     "execution_count": 22
    }
   ],
   "source": [
    "exposure_neighbour_normalized.head()"
   ]
  },
  {
   "cell_type": "code",
   "execution_count": 28,
   "metadata": {},
   "outputs": [],
   "source": [
    "# Save files\n",
    "hazard_normalized.to_csv('hazard_normalized.csv')\n",
    "hazard_neighbour_normalized.to_csv('hazard_neighbour_normalized.csv')\n",
    "indicators_normalized.to_csv('indicators_normalized.csv')\n",
    "hazard_region_normalized.to_csv('hazard_region_normalized.csv')"
   ]
  },
  {
   "cell_type": "code",
   "execution_count": null,
   "metadata": {},
   "outputs": [],
   "source": []
  },
  {
   "cell_type": "code",
   "execution_count": 35,
   "metadata": {},
   "outputs": [],
   "source": [
    "# Standardization hazard (StandardScaler)\n",
    "# https://cmdlinetips.com/2020/12/compute-standardized-values-z-score-python/\n",
    "nrmlzd = StandardScaler()\n",
    "hazard_std =nrmlzd.fit_transform(data_hazard)"
   ]
  },
  {
   "cell_type": "code",
   "execution_count": 36,
   "metadata": {},
   "outputs": [],
   "source": [
    "hazard_std = pd.DataFrame(hazard_std, columns=['november_pm10', 'december_pm10', 'november_pm2p5', 'december_pm2p5'])\n",
    "hazard_std['district']= hazard_df['district']"
   ]
  },
  {
   "cell_type": "code",
   "execution_count": 37,
   "metadata": {},
   "outputs": [
    {
     "output_type": "execute_result",
     "data": {
      "text/plain": [
       "    november_pm10  december_pm10  november_pm2p5  december_pm2p5  \\\n",
       "0        1.448821       0.547655        1.594737       -0.027121   \n",
       "1        0.140159       1.307285        0.132578        1.441249   \n",
       "2        0.154660       0.520530        0.117289        0.604139   \n",
       "3        0.327441       0.041645        0.628156       -0.093098   \n",
       "4        1.336275       0.870316        1.982816        0.399937   \n",
       "5       -1.073699      -1.096529       -1.012330       -0.923415   \n",
       "6        0.730161       0.498868        0.280671        0.631870   \n",
       "7       -0.848826      -1.290663       -0.666952       -0.939991   \n",
       "8       -2.270294      -1.246102       -2.137681       -0.953492   \n",
       "9        1.198992       0.149655        0.572167       -0.286113   \n",
       "10       0.907584       0.660665       -0.004422        0.027978   \n",
       "11       0.263470      -0.204060        0.515228       -0.264040   \n",
       "12       0.169462      -0.535155        0.328894       -0.452249   \n",
       "13      -0.701350      -1.210293        0.433758       -0.623316   \n",
       "14      -0.298954      -0.597456       -1.048244       -0.993402   \n",
       "15      -1.567217      -0.855678       -1.368131       -0.592112   \n",
       "16       0.083315       2.439316       -0.348534        3.043176   \n",
       "\n",
       "                district  \n",
       "0              Blacktown  \n",
       "1                 Camden  \n",
       "2           Campbelltown  \n",
       "3   Canterbury-Bankstown  \n",
       "4              Hawksbury  \n",
       "5             Inner West  \n",
       "6             Liverpool   \n",
       "7          North Sydney   \n",
       "8       Northern Beaches  \n",
       "9             Parramatta  \n",
       "10               Penrith  \n",
       "11              Randwick  \n",
       "12                  Ryde  \n",
       "13                Sydney  \n",
       "14              Waverley  \n",
       "15            Willoughby  \n",
       "16           Wollondilly  "
      ],
      "text/html": "<div>\n<style scoped>\n    .dataframe tbody tr th:only-of-type {\n        vertical-align: middle;\n    }\n\n    .dataframe tbody tr th {\n        vertical-align: top;\n    }\n\n    .dataframe thead th {\n        text-align: right;\n    }\n</style>\n<table border=\"1\" class=\"dataframe\">\n  <thead>\n    <tr style=\"text-align: right;\">\n      <th></th>\n      <th>november_pm10</th>\n      <th>december_pm10</th>\n      <th>november_pm2p5</th>\n      <th>december_pm2p5</th>\n      <th>district</th>\n    </tr>\n  </thead>\n  <tbody>\n    <tr>\n      <th>0</th>\n      <td>1.448821</td>\n      <td>0.547655</td>\n      <td>1.594737</td>\n      <td>-0.027121</td>\n      <td>Blacktown</td>\n    </tr>\n    <tr>\n      <th>1</th>\n      <td>0.140159</td>\n      <td>1.307285</td>\n      <td>0.132578</td>\n      <td>1.441249</td>\n      <td>Camden</td>\n    </tr>\n    <tr>\n      <th>2</th>\n      <td>0.154660</td>\n      <td>0.520530</td>\n      <td>0.117289</td>\n      <td>0.604139</td>\n      <td>Campbelltown</td>\n    </tr>\n    <tr>\n      <th>3</th>\n      <td>0.327441</td>\n      <td>0.041645</td>\n      <td>0.628156</td>\n      <td>-0.093098</td>\n      <td>Canterbury-Bankstown</td>\n    </tr>\n    <tr>\n      <th>4</th>\n      <td>1.336275</td>\n      <td>0.870316</td>\n      <td>1.982816</td>\n      <td>0.399937</td>\n      <td>Hawksbury</td>\n    </tr>\n    <tr>\n      <th>5</th>\n      <td>-1.073699</td>\n      <td>-1.096529</td>\n      <td>-1.012330</td>\n      <td>-0.923415</td>\n      <td>Inner West</td>\n    </tr>\n    <tr>\n      <th>6</th>\n      <td>0.730161</td>\n      <td>0.498868</td>\n      <td>0.280671</td>\n      <td>0.631870</td>\n      <td>Liverpool</td>\n    </tr>\n    <tr>\n      <th>7</th>\n      <td>-0.848826</td>\n      <td>-1.290663</td>\n      <td>-0.666952</td>\n      <td>-0.939991</td>\n      <td>North Sydney</td>\n    </tr>\n    <tr>\n      <th>8</th>\n      <td>-2.270294</td>\n      <td>-1.246102</td>\n      <td>-2.137681</td>\n      <td>-0.953492</td>\n      <td>Northern Beaches</td>\n    </tr>\n    <tr>\n      <th>9</th>\n      <td>1.198992</td>\n      <td>0.149655</td>\n      <td>0.572167</td>\n      <td>-0.286113</td>\n      <td>Parramatta</td>\n    </tr>\n    <tr>\n      <th>10</th>\n      <td>0.907584</td>\n      <td>0.660665</td>\n      <td>-0.004422</td>\n      <td>0.027978</td>\n      <td>Penrith</td>\n    </tr>\n    <tr>\n      <th>11</th>\n      <td>0.263470</td>\n      <td>-0.204060</td>\n      <td>0.515228</td>\n      <td>-0.264040</td>\n      <td>Randwick</td>\n    </tr>\n    <tr>\n      <th>12</th>\n      <td>0.169462</td>\n      <td>-0.535155</td>\n      <td>0.328894</td>\n      <td>-0.452249</td>\n      <td>Ryde</td>\n    </tr>\n    <tr>\n      <th>13</th>\n      <td>-0.701350</td>\n      <td>-1.210293</td>\n      <td>0.433758</td>\n      <td>-0.623316</td>\n      <td>Sydney</td>\n    </tr>\n    <tr>\n      <th>14</th>\n      <td>-0.298954</td>\n      <td>-0.597456</td>\n      <td>-1.048244</td>\n      <td>-0.993402</td>\n      <td>Waverley</td>\n    </tr>\n    <tr>\n      <th>15</th>\n      <td>-1.567217</td>\n      <td>-0.855678</td>\n      <td>-1.368131</td>\n      <td>-0.592112</td>\n      <td>Willoughby</td>\n    </tr>\n    <tr>\n      <th>16</th>\n      <td>0.083315</td>\n      <td>2.439316</td>\n      <td>-0.348534</td>\n      <td>3.043176</td>\n      <td>Wollondilly</td>\n    </tr>\n  </tbody>\n</table>\n</div>"
     },
     "metadata": {},
     "execution_count": 37
    }
   ],
   "source": [
    "hazard_std"
   ]
  },
  {
   "cell_type": "code",
   "execution_count": 38,
   "metadata": {},
   "outputs": [],
   "source": [
    "# Standardization indicators (StandardScaler)\n",
    "nrmlzd = StandardScaler()\n",
    "indicators_std =nrmlzd.fit_transform(data_indicators)"
   ]
  },
  {
   "cell_type": "code",
   "execution_count": 39,
   "metadata": {},
   "outputs": [],
   "source": [
    "indicators_std = pd.DataFrame(indicators_std, columns=['persons_04_65', 'females', 'persons_km2', 'non_australian',        'arrived_within_5', 'year_11_under', 'non_proficient', 'unemployment_rate', 'below_poverty_line', 'renters','multi_unit_housing', 'premature_deaths', 'hospital_beds_1000', 'copd_hosp', 'asthma_hosp', 'inf_pan_hosp','protected_areas'])\n",
    "indicators_std['district']= indicadors_df['District']"
   ]
  },
  {
   "cell_type": "code",
   "execution_count": 40,
   "metadata": {},
   "outputs": [
    {
     "output_type": "execute_result",
     "data": {
      "text/plain": [
       "    persons_04_65   females  persons_km2  non_australian  arrived_within_5  \\\n",
       "0       -0.200398 -0.674769     0.261466        0.640375          0.584544   \n",
       "1       -0.797969 -0.512669    -0.591324       -0.218665         -0.334549   \n",
       "2        2.110213  0.690281    -1.227818       -1.372232         -1.345991   \n",
       "3       -0.877646  0.221045     1.159013        1.793942          2.101707   \n",
       "4       -0.957322  0.229576    -1.037750       -1.310872         -1.255841   \n",
       "5       -0.200398  0.076008    -1.019348       -0.562280         -0.789698   \n",
       "6        0.197983  0.826785     0.788733        0.444023          0.318491   \n",
       "7        0.237821 -0.657706     0.199026       -0.071401         -0.099279   \n",
       "8       -0.558941 -2.218981     0.176733        0.799911          1.000115   \n",
       "9        0.038631 -0.205533    -0.368979       -0.267753          0.076624   \n",
       "10       0.118307 -0.043433     0.508051        0.394935          0.399846   \n",
       "11       0.197983 -0.231128    -1.240975       -1.323144         -1.405358   \n",
       "12       0.397174  0.067477    -1.109835       -0.611368         -0.451084   \n",
       "13       1.751670 -1.101346    -0.142741       -1.114520         -1.112919   \n",
       "14      -1.036998  0.195450     1.150425        0.063591         -0.171839   \n",
       "15       0.875231  1.159516    -0.621444       -0.550008         -0.371928   \n",
       "16      -0.160560 -0.086091     0.369762       -0.157305         -0.046508   \n",
       "17       0.994745 -0.307912    -0.936307       -0.427288         -0.536837   \n",
       "18       1.512641  2.635476     0.263877       -0.083673         -0.033315   \n",
       "19       0.038631  1.304553     1.775413        0.566743          0.399846   \n",
       "20       0.755717  0.255171    -0.796072       -0.586824         -0.589608   \n",
       "21      -0.558941 -0.930715     0.046692        1.045351          1.063880   \n",
       "22      -0.479265 -0.171407    -1.028570       -0.893624         -1.095329   \n",
       "23       0.715879 -0.205533     0.561142        0.996263          0.791230   \n",
       "24      -0.319912  0.434334     0.120808        0.615831          0.841802   \n",
       "25      -1.236189 -1.621771     0.166622        1.573046          1.611378   \n",
       "26       0.994745  0.229576    -0.958770       -1.372232         -1.205268   \n",
       "27      -3.307770 -2.014223     2.645547        2.824789          2.697579   \n",
       "28      -0.439426 -0.094623    -1.056236       -0.869080         -0.675361   \n",
       "29      -0.678455  0.289297     2.109946        0.910359          0.621924   \n",
       "30      -0.359750  0.758533     0.280291        0.603559          0.696682   \n",
       "31       0.078469 -0.589453    -1.242413       -1.494952         -1.440539   \n",
       "32       1.154098  2.294213     0.795036        0.014503         -0.244399   \n",
       "\n",
       "    year_11_under  non_proficient  unemployment_rate  below_poverty_line  \\\n",
       "0        0.091443        0.473321           0.223917            0.538875   \n",
       "1        0.688052       -0.205013           0.946174            0.553499   \n",
       "2        0.731285       -1.071400          -0.498341            0.173273   \n",
       "3       -0.617570        1.727007           1.112848            1.313950   \n",
       "4        1.371127       -0.894540          -0.831690           -0.543306   \n",
       "5        1.362480       -0.471421           1.279523            0.772860   \n",
       "6       -0.444640        0.224822          -0.331666           -0.353193   \n",
       "7        0.653466        1.397914           1.446198            1.723424   \n",
       "8        0.506476        1.673278           2.168455            1.723424   \n",
       "9        1.293308        3.226953           2.724037            2.513123   \n",
       "10      -0.159305        0.994944           0.501708            0.641243   \n",
       "11       2.054201       -1.031103          -0.720573            0.012408   \n",
       "12      -0.461933       -0.303517          -0.442782           -0.236201   \n",
       "13      -0.323589       -0.525151          -1.220598           -0.250825   \n",
       "14      -0.548398       -0.043825          -0.442782           -0.733419   \n",
       "15      -1.127714       -0.388588          -0.498341           -0.543306   \n",
       "16      -1.231472       -0.581119          -0.665015           -1.420750   \n",
       "17       0.956094        0.614361           1.057290            1.284702   \n",
       "18      -1.067189       -0.907973          -0.942806           -1.347630   \n",
       "19      -1.352524       -0.764694          -1.053923           -2.137329   \n",
       "20      -0.142012       -0.845288          -1.165039           -0.879660   \n",
       "21      -0.427347        0.663613           0.779499            0.421882   \n",
       "22       1.742927       -0.782604           0.057242            0.144025   \n",
       "23      -0.531105       -0.296801           0.001684            0.144025   \n",
       "24      -0.695389        0.484514           0.390591            0.173273   \n",
       "25      -0.773207        1.315082           0.779499            0.626619   \n",
       "26       0.644820       -0.892302          -1.165039           -0.660299   \n",
       "27      -0.894259        0.148706           0.223917           -0.002216   \n",
       "28      -0.271710       -0.415453          -0.553899           -0.470186   \n",
       "29      -0.842380       -0.827379          -0.720573           -1.099020   \n",
       "30      -1.196886        0.330042          -0.276108           -0.557930   \n",
       "31       2.123373       -1.075877          -0.887248            0.012408   \n",
       "32      -1.110421       -0.950509          -1.276156           -1.537742   \n",
       "\n",
       "     renters  multi_unit_housing  premature_deaths  hospital_beds_1000  \\\n",
       "0   0.497351            0.641614         -0.275707            0.504592   \n",
       "1  -0.141739           -1.193651          1.512886           -1.061761   \n",
       "2  -1.456970           -1.346817          0.258024           -1.471422   \n",
       "3   0.821528            0.535262         -0.485642            1.058840   \n",
       "4  -1.234677           -1.402721          0.874780           -1.543716   \n",
       "5  -0.058380           -1.248191          1.993244           -1.182250   \n",
       "6   0.247272            0.904769         -0.503433            0.528690   \n",
       "7   0.293583           -0.245567          0.240233           -0.097851   \n",
       "8   0.682595           -0.198754          0.849873           -0.218340   \n",
       "9   0.173175           -0.782784          0.553355           -0.411122   \n",
       "10 -0.215837            0.101215         -0.798764            0.384103   \n",
       "11 -0.891976           -1.291823          0.588937           -1.182250   \n",
       "12 -1.123531           -0.650980         -1.006326           -0.387024   \n",
       "13 -0.725257           -0.435547         -1.889948            1.564892   \n",
       "14  0.904887            0.448452          0.304281            0.311810   \n",
       "15 -1.558854           -0.443274         -1.522266           -0.362927   \n",
       "16  0.034242            0.907496         -0.941092            0.841960   \n",
       "17 -0.113953           -0.829143          1.125041           -0.893077   \n",
       "18  0.006455            0.918859         -0.898394            0.769667   \n",
       "19  1.506929            1.942844          0.411027            0.673276   \n",
       "20 -0.660422            0.050312         -0.739460           -0.121949   \n",
       "21  0.719644            0.309830          0.588937           -0.025558   \n",
       "22 -0.354770           -1.156382          1.566259           -1.206347   \n",
       "23  1.256850            1.128382         -0.404989            1.372110   \n",
       "24  0.386205            0.186661         -0.608993            0.793765   \n",
       "25  0.886363            0.889316         -0.885347            1.709479   \n",
       "26 -1.216153           -0.436456         -0.687273           -0.748490   \n",
       "27  2.692489            2.093283          2.402438            0.070833   \n",
       "28 -1.605165           -1.194560         -0.123890           -1.447325   \n",
       "29  1.293899            1.465620         -0.402617            1.396208   \n",
       "30  0.265797            0.618889         -1.053769            1.275720   \n",
       "31 -1.679262           -1.384086          0.668404           -1.784693   \n",
       "32  0.367681            1.097931         -0.709809            0.890156   \n",
       "\n",
       "    copd_hosp  asthma_hosp  inf_pan_hosp  protected_areas  \\\n",
       "0    0.212566    -0.673799     -0.571066        -0.526636   \n",
       "1    2.145069     1.284856      1.471811        -0.334890   \n",
       "2    0.043931     1.287584      0.887607         2.785394   \n",
       "3   -0.597970    -1.061166     -1.085459        -0.834002   \n",
       "4    0.859907     0.220963      1.251356        -0.752640   \n",
       "5    1.949234     2.286008      2.847813        -0.577071   \n",
       "6   -0.659168    -1.096629     -1.070762        -0.780712   \n",
       "7    0.919745     0.979328      0.529369        -0.498564   \n",
       "8    0.722551     1.857722      1.398326        -0.610377   \n",
       "9    0.290084     0.586506      0.384236        -0.501895   \n",
       "10  -0.411656     0.152764     -0.600460        -0.618465   \n",
       "11   2.087950    -0.070926      0.865561         2.597929   \n",
       "12  -0.607490     0.185499      0.319937         1.323742   \n",
       "13  -0.550372    -0.174588      0.180316        -0.406259   \n",
       "14   0.755190    -0.556498      0.016812        -0.815922   \n",
       "15  -1.287470    -0.575594     -0.765800         0.729470   \n",
       "16  -1.180033    -0.297345      0.218896        -0.288262   \n",
       "17   1.323653     2.253272      0.918838        -0.464783   \n",
       "18  -1.228991    -1.093901     -0.695990        -0.040371   \n",
       "19  -1.156914    -0.095478     -0.808054        -0.543765   \n",
       "20  -0.705407    -0.534675     -0.155877         1.332307   \n",
       "21  -0.195422     0.638336     -0.436956        -0.327277   \n",
       "22   1.493648     1.413069      1.148478         0.096659   \n",
       "23  -0.073026    -0.619241     -0.977069        -0.176925   \n",
       "24  -0.043107    -0.526491      0.090297        -0.329180   \n",
       "25  -0.876762    -1.167555     -1.116690        -0.732657   \n",
       "26  -0.509573    -0.095478     -0.249570         1.487892   \n",
       "27   0.313203    -1.082989     -0.747429        -0.803551   \n",
       "28  -1.007318    -0.654704     -0.670270        -0.653674   \n",
       "29  -0.816924    -1.533098     -1.864398        -0.322995   \n",
       "30  -0.818284     0.024551     -0.148528        -0.193578   \n",
       "31   0.757910    -0.240058      0.942720         2.184461   \n",
       "32  -1.148754    -1.020247     -1.507996        -0.403405   \n",
       "\n",
       "                district  \n",
       "0                Bayside  \n",
       "1              Blacktown  \n",
       "2         Blue Mountains  \n",
       "3                Burwood  \n",
       "4                 Camden  \n",
       "5           Campbelltown  \n",
       "6             Canada Bay  \n",
       "7   Centerbury-Bankstown  \n",
       "8            Cumberland   \n",
       "9             Fairfield   \n",
       "10         Georges River  \n",
       "11            Hawkesbury  \n",
       "12               Hornsby  \n",
       "13         Hunters Hill   \n",
       "14            Inner West  \n",
       "15           Ku-ring-gai  \n",
       "16             Lane Cove  \n",
       "17            Liverpool   \n",
       "18                Mosman  \n",
       "19          North Sydney  \n",
       "20      Northern Beaches  \n",
       "21            Parramatta  \n",
       "22               Penrith  \n",
       "23              Randwick  \n",
       "24                  Ryde  \n",
       "25           Strathfield  \n",
       "26      Sutherland Shire  \n",
       "27                Sydney  \n",
       "28       The Hills Shire  \n",
       "29             Waverley   \n",
       "30            Willoughby  \n",
       "31           Wollondilly  \n",
       "32              Woolahra  "
      ],
      "text/html": "<div>\n<style scoped>\n    .dataframe tbody tr th:only-of-type {\n        vertical-align: middle;\n    }\n\n    .dataframe tbody tr th {\n        vertical-align: top;\n    }\n\n    .dataframe thead th {\n        text-align: right;\n    }\n</style>\n<table border=\"1\" class=\"dataframe\">\n  <thead>\n    <tr style=\"text-align: right;\">\n      <th></th>\n      <th>persons_04_65</th>\n      <th>females</th>\n      <th>persons_km2</th>\n      <th>non_australian</th>\n      <th>arrived_within_5</th>\n      <th>year_11_under</th>\n      <th>non_proficient</th>\n      <th>unemployment_rate</th>\n      <th>below_poverty_line</th>\n      <th>renters</th>\n      <th>multi_unit_housing</th>\n      <th>premature_deaths</th>\n      <th>hospital_beds_1000</th>\n      <th>copd_hosp</th>\n      <th>asthma_hosp</th>\n      <th>inf_pan_hosp</th>\n      <th>protected_areas</th>\n      <th>district</th>\n    </tr>\n  </thead>\n  <tbody>\n    <tr>\n      <th>0</th>\n      <td>-0.200398</td>\n      <td>-0.674769</td>\n      <td>0.261466</td>\n      <td>0.640375</td>\n      <td>0.584544</td>\n      <td>0.091443</td>\n      <td>0.473321</td>\n      <td>0.223917</td>\n      <td>0.538875</td>\n      <td>0.497351</td>\n      <td>0.641614</td>\n      <td>-0.275707</td>\n      <td>0.504592</td>\n      <td>0.212566</td>\n      <td>-0.673799</td>\n      <td>-0.571066</td>\n      <td>-0.526636</td>\n      <td>Bayside</td>\n    </tr>\n    <tr>\n      <th>1</th>\n      <td>-0.797969</td>\n      <td>-0.512669</td>\n      <td>-0.591324</td>\n      <td>-0.218665</td>\n      <td>-0.334549</td>\n      <td>0.688052</td>\n      <td>-0.205013</td>\n      <td>0.946174</td>\n      <td>0.553499</td>\n      <td>-0.141739</td>\n      <td>-1.193651</td>\n      <td>1.512886</td>\n      <td>-1.061761</td>\n      <td>2.145069</td>\n      <td>1.284856</td>\n      <td>1.471811</td>\n      <td>-0.334890</td>\n      <td>Blacktown</td>\n    </tr>\n    <tr>\n      <th>2</th>\n      <td>2.110213</td>\n      <td>0.690281</td>\n      <td>-1.227818</td>\n      <td>-1.372232</td>\n      <td>-1.345991</td>\n      <td>0.731285</td>\n      <td>-1.071400</td>\n      <td>-0.498341</td>\n      <td>0.173273</td>\n      <td>-1.456970</td>\n      <td>-1.346817</td>\n      <td>0.258024</td>\n      <td>-1.471422</td>\n      <td>0.043931</td>\n      <td>1.287584</td>\n      <td>0.887607</td>\n      <td>2.785394</td>\n      <td>Blue Mountains</td>\n    </tr>\n    <tr>\n      <th>3</th>\n      <td>-0.877646</td>\n      <td>0.221045</td>\n      <td>1.159013</td>\n      <td>1.793942</td>\n      <td>2.101707</td>\n      <td>-0.617570</td>\n      <td>1.727007</td>\n      <td>1.112848</td>\n      <td>1.313950</td>\n      <td>0.821528</td>\n      <td>0.535262</td>\n      <td>-0.485642</td>\n      <td>1.058840</td>\n      <td>-0.597970</td>\n      <td>-1.061166</td>\n      <td>-1.085459</td>\n      <td>-0.834002</td>\n      <td>Burwood</td>\n    </tr>\n    <tr>\n      <th>4</th>\n      <td>-0.957322</td>\n      <td>0.229576</td>\n      <td>-1.037750</td>\n      <td>-1.310872</td>\n      <td>-1.255841</td>\n      <td>1.371127</td>\n      <td>-0.894540</td>\n      <td>-0.831690</td>\n      <td>-0.543306</td>\n      <td>-1.234677</td>\n      <td>-1.402721</td>\n      <td>0.874780</td>\n      <td>-1.543716</td>\n      <td>0.859907</td>\n      <td>0.220963</td>\n      <td>1.251356</td>\n      <td>-0.752640</td>\n      <td>Camden</td>\n    </tr>\n    <tr>\n      <th>5</th>\n      <td>-0.200398</td>\n      <td>0.076008</td>\n      <td>-1.019348</td>\n      <td>-0.562280</td>\n      <td>-0.789698</td>\n      <td>1.362480</td>\n      <td>-0.471421</td>\n      <td>1.279523</td>\n      <td>0.772860</td>\n      <td>-0.058380</td>\n      <td>-1.248191</td>\n      <td>1.993244</td>\n      <td>-1.182250</td>\n      <td>1.949234</td>\n      <td>2.286008</td>\n      <td>2.847813</td>\n      <td>-0.577071</td>\n      <td>Campbelltown</td>\n    </tr>\n    <tr>\n      <th>6</th>\n      <td>0.197983</td>\n      <td>0.826785</td>\n      <td>0.788733</td>\n      <td>0.444023</td>\n      <td>0.318491</td>\n      <td>-0.444640</td>\n      <td>0.224822</td>\n      <td>-0.331666</td>\n      <td>-0.353193</td>\n      <td>0.247272</td>\n      <td>0.904769</td>\n      <td>-0.503433</td>\n      <td>0.528690</td>\n      <td>-0.659168</td>\n      <td>-1.096629</td>\n      <td>-1.070762</td>\n      <td>-0.780712</td>\n      <td>Canada Bay</td>\n    </tr>\n    <tr>\n      <th>7</th>\n      <td>0.237821</td>\n      <td>-0.657706</td>\n      <td>0.199026</td>\n      <td>-0.071401</td>\n      <td>-0.099279</td>\n      <td>0.653466</td>\n      <td>1.397914</td>\n      <td>1.446198</td>\n      <td>1.723424</td>\n      <td>0.293583</td>\n      <td>-0.245567</td>\n      <td>0.240233</td>\n      <td>-0.097851</td>\n      <td>0.919745</td>\n      <td>0.979328</td>\n      <td>0.529369</td>\n      <td>-0.498564</td>\n      <td>Centerbury-Bankstown</td>\n    </tr>\n    <tr>\n      <th>8</th>\n      <td>-0.558941</td>\n      <td>-2.218981</td>\n      <td>0.176733</td>\n      <td>0.799911</td>\n      <td>1.000115</td>\n      <td>0.506476</td>\n      <td>1.673278</td>\n      <td>2.168455</td>\n      <td>1.723424</td>\n      <td>0.682595</td>\n      <td>-0.198754</td>\n      <td>0.849873</td>\n      <td>-0.218340</td>\n      <td>0.722551</td>\n      <td>1.857722</td>\n      <td>1.398326</td>\n      <td>-0.610377</td>\n      <td>Cumberland</td>\n    </tr>\n    <tr>\n      <th>9</th>\n      <td>0.038631</td>\n      <td>-0.205533</td>\n      <td>-0.368979</td>\n      <td>-0.267753</td>\n      <td>0.076624</td>\n      <td>1.293308</td>\n      <td>3.226953</td>\n      <td>2.724037</td>\n      <td>2.513123</td>\n      <td>0.173175</td>\n      <td>-0.782784</td>\n      <td>0.553355</td>\n      <td>-0.411122</td>\n      <td>0.290084</td>\n      <td>0.586506</td>\n      <td>0.384236</td>\n      <td>-0.501895</td>\n      <td>Fairfield</td>\n    </tr>\n    <tr>\n      <th>10</th>\n      <td>0.118307</td>\n      <td>-0.043433</td>\n      <td>0.508051</td>\n      <td>0.394935</td>\n      <td>0.399846</td>\n      <td>-0.159305</td>\n      <td>0.994944</td>\n      <td>0.501708</td>\n      <td>0.641243</td>\n      <td>-0.215837</td>\n      <td>0.101215</td>\n      <td>-0.798764</td>\n      <td>0.384103</td>\n      <td>-0.411656</td>\n      <td>0.152764</td>\n      <td>-0.600460</td>\n      <td>-0.618465</td>\n      <td>Georges River</td>\n    </tr>\n    <tr>\n      <th>11</th>\n      <td>0.197983</td>\n      <td>-0.231128</td>\n      <td>-1.240975</td>\n      <td>-1.323144</td>\n      <td>-1.405358</td>\n      <td>2.054201</td>\n      <td>-1.031103</td>\n      <td>-0.720573</td>\n      <td>0.012408</td>\n      <td>-0.891976</td>\n      <td>-1.291823</td>\n      <td>0.588937</td>\n      <td>-1.182250</td>\n      <td>2.087950</td>\n      <td>-0.070926</td>\n      <td>0.865561</td>\n      <td>2.597929</td>\n      <td>Hawkesbury</td>\n    </tr>\n    <tr>\n      <th>12</th>\n      <td>0.397174</td>\n      <td>0.067477</td>\n      <td>-1.109835</td>\n      <td>-0.611368</td>\n      <td>-0.451084</td>\n      <td>-0.461933</td>\n      <td>-0.303517</td>\n      <td>-0.442782</td>\n      <td>-0.236201</td>\n      <td>-1.123531</td>\n      <td>-0.650980</td>\n      <td>-1.006326</td>\n      <td>-0.387024</td>\n      <td>-0.607490</td>\n      <td>0.185499</td>\n      <td>0.319937</td>\n      <td>1.323742</td>\n      <td>Hornsby</td>\n    </tr>\n    <tr>\n      <th>13</th>\n      <td>1.751670</td>\n      <td>-1.101346</td>\n      <td>-0.142741</td>\n      <td>-1.114520</td>\n      <td>-1.112919</td>\n      <td>-0.323589</td>\n      <td>-0.525151</td>\n      <td>-1.220598</td>\n      <td>-0.250825</td>\n      <td>-0.725257</td>\n      <td>-0.435547</td>\n      <td>-1.889948</td>\n      <td>1.564892</td>\n      <td>-0.550372</td>\n      <td>-0.174588</td>\n      <td>0.180316</td>\n      <td>-0.406259</td>\n      <td>Hunters Hill</td>\n    </tr>\n    <tr>\n      <th>14</th>\n      <td>-1.036998</td>\n      <td>0.195450</td>\n      <td>1.150425</td>\n      <td>0.063591</td>\n      <td>-0.171839</td>\n      <td>-0.548398</td>\n      <td>-0.043825</td>\n      <td>-0.442782</td>\n      <td>-0.733419</td>\n      <td>0.904887</td>\n      <td>0.448452</td>\n      <td>0.304281</td>\n      <td>0.311810</td>\n      <td>0.755190</td>\n      <td>-0.556498</td>\n      <td>0.016812</td>\n      <td>-0.815922</td>\n      <td>Inner West</td>\n    </tr>\n    <tr>\n      <th>15</th>\n      <td>0.875231</td>\n      <td>1.159516</td>\n      <td>-0.621444</td>\n      <td>-0.550008</td>\n      <td>-0.371928</td>\n      <td>-1.127714</td>\n      <td>-0.388588</td>\n      <td>-0.498341</td>\n      <td>-0.543306</td>\n      <td>-1.558854</td>\n      <td>-0.443274</td>\n      <td>-1.522266</td>\n      <td>-0.362927</td>\n      <td>-1.287470</td>\n      <td>-0.575594</td>\n      <td>-0.765800</td>\n      <td>0.729470</td>\n      <td>Ku-ring-gai</td>\n    </tr>\n    <tr>\n      <th>16</th>\n      <td>-0.160560</td>\n      <td>-0.086091</td>\n      <td>0.369762</td>\n      <td>-0.157305</td>\n      <td>-0.046508</td>\n      <td>-1.231472</td>\n      <td>-0.581119</td>\n      <td>-0.665015</td>\n      <td>-1.420750</td>\n      <td>0.034242</td>\n      <td>0.907496</td>\n      <td>-0.941092</td>\n      <td>0.841960</td>\n      <td>-1.180033</td>\n      <td>-0.297345</td>\n      <td>0.218896</td>\n      <td>-0.288262</td>\n      <td>Lane Cove</td>\n    </tr>\n    <tr>\n      <th>17</th>\n      <td>0.994745</td>\n      <td>-0.307912</td>\n      <td>-0.936307</td>\n      <td>-0.427288</td>\n      <td>-0.536837</td>\n      <td>0.956094</td>\n      <td>0.614361</td>\n      <td>1.057290</td>\n      <td>1.284702</td>\n      <td>-0.113953</td>\n      <td>-0.829143</td>\n      <td>1.125041</td>\n      <td>-0.893077</td>\n      <td>1.323653</td>\n      <td>2.253272</td>\n      <td>0.918838</td>\n      <td>-0.464783</td>\n      <td>Liverpool</td>\n    </tr>\n    <tr>\n      <th>18</th>\n      <td>1.512641</td>\n      <td>2.635476</td>\n      <td>0.263877</td>\n      <td>-0.083673</td>\n      <td>-0.033315</td>\n      <td>-1.067189</td>\n      <td>-0.907973</td>\n      <td>-0.942806</td>\n      <td>-1.347630</td>\n      <td>0.006455</td>\n      <td>0.918859</td>\n      <td>-0.898394</td>\n      <td>0.769667</td>\n      <td>-1.228991</td>\n      <td>-1.093901</td>\n      <td>-0.695990</td>\n      <td>-0.040371</td>\n      <td>Mosman</td>\n    </tr>\n    <tr>\n      <th>19</th>\n      <td>0.038631</td>\n      <td>1.304553</td>\n      <td>1.775413</td>\n      <td>0.566743</td>\n      <td>0.399846</td>\n      <td>-1.352524</td>\n      <td>-0.764694</td>\n      <td>-1.053923</td>\n      <td>-2.137329</td>\n      <td>1.506929</td>\n      <td>1.942844</td>\n      <td>0.411027</td>\n      <td>0.673276</td>\n      <td>-1.156914</td>\n      <td>-0.095478</td>\n      <td>-0.808054</td>\n      <td>-0.543765</td>\n      <td>North Sydney</td>\n    </tr>\n    <tr>\n      <th>20</th>\n      <td>0.755717</td>\n      <td>0.255171</td>\n      <td>-0.796072</td>\n      <td>-0.586824</td>\n      <td>-0.589608</td>\n      <td>-0.142012</td>\n      <td>-0.845288</td>\n      <td>-1.165039</td>\n      <td>-0.879660</td>\n      <td>-0.660422</td>\n      <td>0.050312</td>\n      <td>-0.739460</td>\n      <td>-0.121949</td>\n      <td>-0.705407</td>\n      <td>-0.534675</td>\n      <td>-0.155877</td>\n      <td>1.332307</td>\n      <td>Northern Beaches</td>\n    </tr>\n    <tr>\n      <th>21</th>\n      <td>-0.558941</td>\n      <td>-0.930715</td>\n      <td>0.046692</td>\n      <td>1.045351</td>\n      <td>1.063880</td>\n      <td>-0.427347</td>\n      <td>0.663613</td>\n      <td>0.779499</td>\n      <td>0.421882</td>\n      <td>0.719644</td>\n      <td>0.309830</td>\n      <td>0.588937</td>\n      <td>-0.025558</td>\n      <td>-0.195422</td>\n      <td>0.638336</td>\n      <td>-0.436956</td>\n      <td>-0.327277</td>\n      <td>Parramatta</td>\n    </tr>\n    <tr>\n      <th>22</th>\n      <td>-0.479265</td>\n      <td>-0.171407</td>\n      <td>-1.028570</td>\n      <td>-0.893624</td>\n      <td>-1.095329</td>\n      <td>1.742927</td>\n      <td>-0.782604</td>\n      <td>0.057242</td>\n      <td>0.144025</td>\n      <td>-0.354770</td>\n      <td>-1.156382</td>\n      <td>1.566259</td>\n      <td>-1.206347</td>\n      <td>1.493648</td>\n      <td>1.413069</td>\n      <td>1.148478</td>\n      <td>0.096659</td>\n      <td>Penrith</td>\n    </tr>\n    <tr>\n      <th>23</th>\n      <td>0.715879</td>\n      <td>-0.205533</td>\n      <td>0.561142</td>\n      <td>0.996263</td>\n      <td>0.791230</td>\n      <td>-0.531105</td>\n      <td>-0.296801</td>\n      <td>0.001684</td>\n      <td>0.144025</td>\n      <td>1.256850</td>\n      <td>1.128382</td>\n      <td>-0.404989</td>\n      <td>1.372110</td>\n      <td>-0.073026</td>\n      <td>-0.619241</td>\n      <td>-0.977069</td>\n      <td>-0.176925</td>\n      <td>Randwick</td>\n    </tr>\n    <tr>\n      <th>24</th>\n      <td>-0.319912</td>\n      <td>0.434334</td>\n      <td>0.120808</td>\n      <td>0.615831</td>\n      <td>0.841802</td>\n      <td>-0.695389</td>\n      <td>0.484514</td>\n      <td>0.390591</td>\n      <td>0.173273</td>\n      <td>0.386205</td>\n      <td>0.186661</td>\n      <td>-0.608993</td>\n      <td>0.793765</td>\n      <td>-0.043107</td>\n      <td>-0.526491</td>\n      <td>0.090297</td>\n      <td>-0.329180</td>\n      <td>Ryde</td>\n    </tr>\n    <tr>\n      <th>25</th>\n      <td>-1.236189</td>\n      <td>-1.621771</td>\n      <td>0.166622</td>\n      <td>1.573046</td>\n      <td>1.611378</td>\n      <td>-0.773207</td>\n      <td>1.315082</td>\n      <td>0.779499</td>\n      <td>0.626619</td>\n      <td>0.886363</td>\n      <td>0.889316</td>\n      <td>-0.885347</td>\n      <td>1.709479</td>\n      <td>-0.876762</td>\n      <td>-1.167555</td>\n      <td>-1.116690</td>\n      <td>-0.732657</td>\n      <td>Strathfield</td>\n    </tr>\n    <tr>\n      <th>26</th>\n      <td>0.994745</td>\n      <td>0.229576</td>\n      <td>-0.958770</td>\n      <td>-1.372232</td>\n      <td>-1.205268</td>\n      <td>0.644820</td>\n      <td>-0.892302</td>\n      <td>-1.165039</td>\n      <td>-0.660299</td>\n      <td>-1.216153</td>\n      <td>-0.436456</td>\n      <td>-0.687273</td>\n      <td>-0.748490</td>\n      <td>-0.509573</td>\n      <td>-0.095478</td>\n      <td>-0.249570</td>\n      <td>1.487892</td>\n      <td>Sutherland Shire</td>\n    </tr>\n    <tr>\n      <th>27</th>\n      <td>-3.307770</td>\n      <td>-2.014223</td>\n      <td>2.645547</td>\n      <td>2.824789</td>\n      <td>2.697579</td>\n      <td>-0.894259</td>\n      <td>0.148706</td>\n      <td>0.223917</td>\n      <td>-0.002216</td>\n      <td>2.692489</td>\n      <td>2.093283</td>\n      <td>2.402438</td>\n      <td>0.070833</td>\n      <td>0.313203</td>\n      <td>-1.082989</td>\n      <td>-0.747429</td>\n      <td>-0.803551</td>\n      <td>Sydney</td>\n    </tr>\n    <tr>\n      <th>28</th>\n      <td>-0.439426</td>\n      <td>-0.094623</td>\n      <td>-1.056236</td>\n      <td>-0.869080</td>\n      <td>-0.675361</td>\n      <td>-0.271710</td>\n      <td>-0.415453</td>\n      <td>-0.553899</td>\n      <td>-0.470186</td>\n      <td>-1.605165</td>\n      <td>-1.194560</td>\n      <td>-0.123890</td>\n      <td>-1.447325</td>\n      <td>-1.007318</td>\n      <td>-0.654704</td>\n      <td>-0.670270</td>\n      <td>-0.653674</td>\n      <td>The Hills Shire</td>\n    </tr>\n    <tr>\n      <th>29</th>\n      <td>-0.678455</td>\n      <td>0.289297</td>\n      <td>2.109946</td>\n      <td>0.910359</td>\n      <td>0.621924</td>\n      <td>-0.842380</td>\n      <td>-0.827379</td>\n      <td>-0.720573</td>\n      <td>-1.099020</td>\n      <td>1.293899</td>\n      <td>1.465620</td>\n      <td>-0.402617</td>\n      <td>1.396208</td>\n      <td>-0.816924</td>\n      <td>-1.533098</td>\n      <td>-1.864398</td>\n      <td>-0.322995</td>\n      <td>Waverley</td>\n    </tr>\n    <tr>\n      <th>30</th>\n      <td>-0.359750</td>\n      <td>0.758533</td>\n      <td>0.280291</td>\n      <td>0.603559</td>\n      <td>0.696682</td>\n      <td>-1.196886</td>\n      <td>0.330042</td>\n      <td>-0.276108</td>\n      <td>-0.557930</td>\n      <td>0.265797</td>\n      <td>0.618889</td>\n      <td>-1.053769</td>\n      <td>1.275720</td>\n      <td>-0.818284</td>\n      <td>0.024551</td>\n      <td>-0.148528</td>\n      <td>-0.193578</td>\n      <td>Willoughby</td>\n    </tr>\n    <tr>\n      <th>31</th>\n      <td>0.078469</td>\n      <td>-0.589453</td>\n      <td>-1.242413</td>\n      <td>-1.494952</td>\n      <td>-1.440539</td>\n      <td>2.123373</td>\n      <td>-1.075877</td>\n      <td>-0.887248</td>\n      <td>0.012408</td>\n      <td>-1.679262</td>\n      <td>-1.384086</td>\n      <td>0.668404</td>\n      <td>-1.784693</td>\n      <td>0.757910</td>\n      <td>-0.240058</td>\n      <td>0.942720</td>\n      <td>2.184461</td>\n      <td>Wollondilly</td>\n    </tr>\n    <tr>\n      <th>32</th>\n      <td>1.154098</td>\n      <td>2.294213</td>\n      <td>0.795036</td>\n      <td>0.014503</td>\n      <td>-0.244399</td>\n      <td>-1.110421</td>\n      <td>-0.950509</td>\n      <td>-1.276156</td>\n      <td>-1.537742</td>\n      <td>0.367681</td>\n      <td>1.097931</td>\n      <td>-0.709809</td>\n      <td>0.890156</td>\n      <td>-1.148754</td>\n      <td>-1.020247</td>\n      <td>-1.507996</td>\n      <td>-0.403405</td>\n      <td>Woolahra</td>\n    </tr>\n  </tbody>\n</table>\n</div>"
     },
     "metadata": {},
     "execution_count": 40
    }
   ],
   "source": [
    "indicators_std"
   ]
  },
  {
   "cell_type": "code",
   "execution_count": 42,
   "metadata": {},
   "outputs": [],
   "source": [
    "# Save files\n",
    "hazard_normalized.to_csv('hazard_normalized.csv')\n",
    "hazard_std.to_csv('hazard_std.csv')\n",
    "indicators_normalized.to_csv('indicators_normalized.csv')\n",
    "indicators_std.to_csv('indicators_std.csv')"
   ]
  },
  {
   "cell_type": "code",
   "execution_count": null,
   "metadata": {},
   "outputs": [],
   "source": []
  }
 ]
}